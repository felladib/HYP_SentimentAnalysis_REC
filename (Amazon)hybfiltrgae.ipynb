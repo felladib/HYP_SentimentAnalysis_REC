{
  "cells": [
    {
      "cell_type": "markdown",
      "metadata": {
        "id": "view-in-github",
        "colab_type": "text"
      },
      "source": [
        "<a href=\"https://colab.research.google.com/github/felladib/H_SentimentAnalysis_REC/blob/main/(Amazon)hybfiltrgae.ipynb\" target=\"_parent\"><img src=\"https://colab.research.google.com/assets/colab-badge.svg\" alt=\"Open In Colab\"/></a>"
      ]
    },
    {
      "cell_type": "code",
      "execution_count": null,
      "metadata": {
        "colab": {
          "base_uri": "https://localhost:8080/"
        },
        "id": "NMZqeqb7rsEm",
        "outputId": "a69ced17-106d-4021-b094-6428e16e48b9"
      },
      "outputs": [
        {
          "output_type": "stream",
          "name": "stdout",
          "text": [
            "Mounted at /content/drive\n"
          ]
        }
      ],
      "source": [
        "from google.colab import drive\n",
        "drive.mount('/content/drive')"
      ]
    },
    {
      "cell_type": "code",
      "execution_count": null,
      "metadata": {
        "id": "ZkaLAIf4hGoV"
      },
      "outputs": [],
      "source": [
        "import tensorflow as tf\n",
        "import pandas as pd\n",
        "import numpy as np\n",
        "import math\n",
        "import matplotlib.pyplot as plt\n",
        "from sklearn.model_selection import train_test_split\n",
        "from keras import metrics\n",
        "from keras.layers import Embedding, Multiply, Dense, Dot, Conv2D, Input, Flatten , BatchNormalization , Dropout\n",
        "from keras.layers import concatenate\n",
        "from keras.models import Model"
      ]
    },
    {
      "cell_type": "markdown",
      "metadata": {
        "id": "AGNoUT3D3iZU"
      },
      "source": [
        "## **filtring model_data**"
      ]
    },
    {
      "cell_type": "code",
      "execution_count": null,
      "metadata": {
        "id": "P0wU_7O04KTC",
        "colab": {
          "base_uri": "https://localhost:8080/",
          "height": 346
        },
        "outputId": "4a739da1-cdaa-4570-d3a8-0bf44f0adb44"
      },
      "outputs": [
        {
          "output_type": "error",
          "ename": "FileNotFoundError",
          "evalue": "ignored",
          "traceback": [
            "\u001b[0;31m---------------------------------------------------------------------------\u001b[0m",
            "\u001b[0;31mFileNotFoundError\u001b[0m                         Traceback (most recent call last)",
            "\u001b[0;32m<ipython-input-4-c152624b9a69>\u001b[0m in \u001b[0;36m<cell line: 1>\u001b[0;34m()\u001b[0m\n\u001b[0;32m----> 1\u001b[0;31m \u001b[0mdataset\u001b[0m \u001b[0;34m=\u001b[0m \u001b[0mpd\u001b[0m\u001b[0;34m.\u001b[0m\u001b[0mread_csv\u001b[0m\u001b[0;34m(\u001b[0m\u001b[0;34m'/content/drive/MyDrive/Our_Datasets/Yelp/yelp_normalized_dataset(55738).csv'\u001b[0m\u001b[0;34m)\u001b[0m \u001b[0;31m#open dataset\u001b[0m\u001b[0;34m\u001b[0m\u001b[0;34m\u001b[0m\u001b[0m\n\u001b[0m\u001b[1;32m      2\u001b[0m \u001b[0;31m#dataset['updated_rating'] = dataset['rating']\u001b[0m\u001b[0;34m\u001b[0m\u001b[0;34m\u001b[0m\u001b[0m\n",
            "\u001b[0;32m/usr/local/lib/python3.9/dist-packages/pandas/util/_decorators.py\u001b[0m in \u001b[0;36mwrapper\u001b[0;34m(*args, **kwargs)\u001b[0m\n\u001b[1;32m    309\u001b[0m                     \u001b[0mstacklevel\u001b[0m\u001b[0;34m=\u001b[0m\u001b[0mstacklevel\u001b[0m\u001b[0;34m,\u001b[0m\u001b[0;34m\u001b[0m\u001b[0;34m\u001b[0m\u001b[0m\n\u001b[1;32m    310\u001b[0m                 )\n\u001b[0;32m--> 311\u001b[0;31m             \u001b[0;32mreturn\u001b[0m \u001b[0mfunc\u001b[0m\u001b[0;34m(\u001b[0m\u001b[0;34m*\u001b[0m\u001b[0margs\u001b[0m\u001b[0;34m,\u001b[0m \u001b[0;34m**\u001b[0m\u001b[0mkwargs\u001b[0m\u001b[0;34m)\u001b[0m\u001b[0;34m\u001b[0m\u001b[0;34m\u001b[0m\u001b[0m\n\u001b[0m\u001b[1;32m    312\u001b[0m \u001b[0;34m\u001b[0m\u001b[0m\n\u001b[1;32m    313\u001b[0m         \u001b[0;32mreturn\u001b[0m \u001b[0mwrapper\u001b[0m\u001b[0;34m\u001b[0m\u001b[0;34m\u001b[0m\u001b[0m\n",
            "\u001b[0;32m/usr/local/lib/python3.9/dist-packages/pandas/io/parsers/readers.py\u001b[0m in \u001b[0;36mread_csv\u001b[0;34m(filepath_or_buffer, sep, delimiter, header, names, index_col, usecols, squeeze, prefix, mangle_dupe_cols, dtype, engine, converters, true_values, false_values, skipinitialspace, skiprows, skipfooter, nrows, na_values, keep_default_na, na_filter, verbose, skip_blank_lines, parse_dates, infer_datetime_format, keep_date_col, date_parser, dayfirst, cache_dates, iterator, chunksize, compression, thousands, decimal, lineterminator, quotechar, quoting, doublequote, escapechar, comment, encoding, encoding_errors, dialect, error_bad_lines, warn_bad_lines, on_bad_lines, delim_whitespace, low_memory, memory_map, float_precision, storage_options)\u001b[0m\n\u001b[1;32m    676\u001b[0m     \u001b[0mkwds\u001b[0m\u001b[0;34m.\u001b[0m\u001b[0mupdate\u001b[0m\u001b[0;34m(\u001b[0m\u001b[0mkwds_defaults\u001b[0m\u001b[0;34m)\u001b[0m\u001b[0;34m\u001b[0m\u001b[0;34m\u001b[0m\u001b[0m\n\u001b[1;32m    677\u001b[0m \u001b[0;34m\u001b[0m\u001b[0m\n\u001b[0;32m--> 678\u001b[0;31m     \u001b[0;32mreturn\u001b[0m \u001b[0m_read\u001b[0m\u001b[0;34m(\u001b[0m\u001b[0mfilepath_or_buffer\u001b[0m\u001b[0;34m,\u001b[0m \u001b[0mkwds\u001b[0m\u001b[0;34m)\u001b[0m\u001b[0;34m\u001b[0m\u001b[0;34m\u001b[0m\u001b[0m\n\u001b[0m\u001b[1;32m    679\u001b[0m \u001b[0;34m\u001b[0m\u001b[0m\n\u001b[1;32m    680\u001b[0m \u001b[0;34m\u001b[0m\u001b[0m\n",
            "\u001b[0;32m/usr/local/lib/python3.9/dist-packages/pandas/io/parsers/readers.py\u001b[0m in \u001b[0;36m_read\u001b[0;34m(filepath_or_buffer, kwds)\u001b[0m\n\u001b[1;32m    573\u001b[0m \u001b[0;34m\u001b[0m\u001b[0m\n\u001b[1;32m    574\u001b[0m     \u001b[0;31m# Create the parser.\u001b[0m\u001b[0;34m\u001b[0m\u001b[0;34m\u001b[0m\u001b[0m\n\u001b[0;32m--> 575\u001b[0;31m     \u001b[0mparser\u001b[0m \u001b[0;34m=\u001b[0m \u001b[0mTextFileReader\u001b[0m\u001b[0;34m(\u001b[0m\u001b[0mfilepath_or_buffer\u001b[0m\u001b[0;34m,\u001b[0m \u001b[0;34m**\u001b[0m\u001b[0mkwds\u001b[0m\u001b[0;34m)\u001b[0m\u001b[0;34m\u001b[0m\u001b[0;34m\u001b[0m\u001b[0m\n\u001b[0m\u001b[1;32m    576\u001b[0m \u001b[0;34m\u001b[0m\u001b[0m\n\u001b[1;32m    577\u001b[0m     \u001b[0;32mif\u001b[0m \u001b[0mchunksize\u001b[0m \u001b[0;32mor\u001b[0m \u001b[0miterator\u001b[0m\u001b[0;34m:\u001b[0m\u001b[0;34m\u001b[0m\u001b[0;34m\u001b[0m\u001b[0m\n",
            "\u001b[0;32m/usr/local/lib/python3.9/dist-packages/pandas/io/parsers/readers.py\u001b[0m in \u001b[0;36m__init__\u001b[0;34m(self, f, engine, **kwds)\u001b[0m\n\u001b[1;32m    930\u001b[0m \u001b[0;34m\u001b[0m\u001b[0m\n\u001b[1;32m    931\u001b[0m         \u001b[0mself\u001b[0m\u001b[0;34m.\u001b[0m\u001b[0mhandles\u001b[0m\u001b[0;34m:\u001b[0m \u001b[0mIOHandles\u001b[0m \u001b[0;34m|\u001b[0m \u001b[0;32mNone\u001b[0m \u001b[0;34m=\u001b[0m \u001b[0;32mNone\u001b[0m\u001b[0;34m\u001b[0m\u001b[0;34m\u001b[0m\u001b[0m\n\u001b[0;32m--> 932\u001b[0;31m         \u001b[0mself\u001b[0m\u001b[0;34m.\u001b[0m\u001b[0m_engine\u001b[0m \u001b[0;34m=\u001b[0m \u001b[0mself\u001b[0m\u001b[0;34m.\u001b[0m\u001b[0m_make_engine\u001b[0m\u001b[0;34m(\u001b[0m\u001b[0mf\u001b[0m\u001b[0;34m,\u001b[0m \u001b[0mself\u001b[0m\u001b[0;34m.\u001b[0m\u001b[0mengine\u001b[0m\u001b[0;34m)\u001b[0m\u001b[0;34m\u001b[0m\u001b[0;34m\u001b[0m\u001b[0m\n\u001b[0m\u001b[1;32m    933\u001b[0m \u001b[0;34m\u001b[0m\u001b[0m\n\u001b[1;32m    934\u001b[0m     \u001b[0;32mdef\u001b[0m \u001b[0mclose\u001b[0m\u001b[0;34m(\u001b[0m\u001b[0mself\u001b[0m\u001b[0;34m)\u001b[0m\u001b[0;34m:\u001b[0m\u001b[0;34m\u001b[0m\u001b[0;34m\u001b[0m\u001b[0m\n",
            "\u001b[0;32m/usr/local/lib/python3.9/dist-packages/pandas/io/parsers/readers.py\u001b[0m in \u001b[0;36m_make_engine\u001b[0;34m(self, f, engine)\u001b[0m\n\u001b[1;32m   1214\u001b[0m             \u001b[0;31m# \"Union[str, PathLike[str], ReadCsvBuffer[bytes], ReadCsvBuffer[str]]\"\u001b[0m\u001b[0;34m\u001b[0m\u001b[0;34m\u001b[0m\u001b[0m\n\u001b[1;32m   1215\u001b[0m             \u001b[0;31m# , \"str\", \"bool\", \"Any\", \"Any\", \"Any\", \"Any\", \"Any\"\u001b[0m\u001b[0;34m\u001b[0m\u001b[0;34m\u001b[0m\u001b[0m\n\u001b[0;32m-> 1216\u001b[0;31m             self.handles = get_handle(  # type: ignore[call-overload]\n\u001b[0m\u001b[1;32m   1217\u001b[0m                 \u001b[0mf\u001b[0m\u001b[0;34m,\u001b[0m\u001b[0;34m\u001b[0m\u001b[0;34m\u001b[0m\u001b[0m\n\u001b[1;32m   1218\u001b[0m                 \u001b[0mmode\u001b[0m\u001b[0;34m,\u001b[0m\u001b[0;34m\u001b[0m\u001b[0;34m\u001b[0m\u001b[0m\n",
            "\u001b[0;32m/usr/local/lib/python3.9/dist-packages/pandas/io/common.py\u001b[0m in \u001b[0;36mget_handle\u001b[0;34m(path_or_buf, mode, encoding, compression, memory_map, is_text, errors, storage_options)\u001b[0m\n\u001b[1;32m    784\u001b[0m         \u001b[0;32mif\u001b[0m \u001b[0mioargs\u001b[0m\u001b[0;34m.\u001b[0m\u001b[0mencoding\u001b[0m \u001b[0;32mand\u001b[0m \u001b[0;34m\"b\"\u001b[0m \u001b[0;32mnot\u001b[0m \u001b[0;32min\u001b[0m \u001b[0mioargs\u001b[0m\u001b[0;34m.\u001b[0m\u001b[0mmode\u001b[0m\u001b[0;34m:\u001b[0m\u001b[0;34m\u001b[0m\u001b[0;34m\u001b[0m\u001b[0m\n\u001b[1;32m    785\u001b[0m             \u001b[0;31m# Encoding\u001b[0m\u001b[0;34m\u001b[0m\u001b[0;34m\u001b[0m\u001b[0m\n\u001b[0;32m--> 786\u001b[0;31m             handle = open(\n\u001b[0m\u001b[1;32m    787\u001b[0m                 \u001b[0mhandle\u001b[0m\u001b[0;34m,\u001b[0m\u001b[0;34m\u001b[0m\u001b[0;34m\u001b[0m\u001b[0m\n\u001b[1;32m    788\u001b[0m                 \u001b[0mioargs\u001b[0m\u001b[0;34m.\u001b[0m\u001b[0mmode\u001b[0m\u001b[0;34m,\u001b[0m\u001b[0;34m\u001b[0m\u001b[0;34m\u001b[0m\u001b[0m\n",
            "\u001b[0;31mFileNotFoundError\u001b[0m: [Errno 2] No such file or directory: '/content/drive/MyDrive/Our_Datasets/Yelp/yelp_normalized_dataset(55738).csv'"
          ]
        }
      ],
      "source": [
        "dataset = pd.read_csv('/content/drive/MyDrive/Our_Datasets/Yelp/yelp_normalized_dataset(55738).csv') #open dataset\n",
        "#dataset['updated_rating'] = dataset['rating']"
      ]
    },
    {
      "cell_type": "code",
      "execution_count": null,
      "metadata": {
        "colab": {
          "base_uri": "https://localhost:8080/"
        },
        "id": "cxPMHaMbp2_4",
        "outputId": "fb268572-8b94-40a9-dc9e-c0de94e8ea83"
      },
      "outputs": [
        {
          "output_type": "execute_result",
          "data": {
            "text/plain": [
              "(55738, 121)"
            ]
          },
          "metadata": {},
          "execution_count": 10
        }
      ],
      "source": [
        "dataset.shape"
      ]
    },
    {
      "cell_type": "code",
      "execution_count": null,
      "metadata": {
        "id": "Rs97pF19cghR"
      },
      "outputs": [],
      "source": [
        "pd.set_option('display.max_columns', None)"
      ]
    },
    {
      "cell_type": "code",
      "execution_count": null,
      "metadata": {
        "colab": {
          "base_uri": "https://localhost:8080/",
          "height": 318
        },
        "id": "2h6F5x_YM-F4",
        "outputId": "d00bd976-ff32-4551-9e49-fb49d8853224"
      },
      "outputs": [
        {
          "output_type": "execute_result",
          "data": {
            "text/plain": [
              "   user_id  item_id  rating  \\\n",
              "0        0      575       3   \n",
              "\n",
              "                                                text      fans  average_stars  \\\n",
              "0  We don't actually dress like this but if you l...  0.008016       0.805851   \n",
              "\n",
              "    friends  vote_funny    useful  vote_cool       hot      more   profile  \\\n",
              "0  0.012982    0.001776  0.002434   0.001527  0.002501  0.003279  0.000721   \n",
              "\n",
              "       cute      list      note     plain      cool     funny    writer  \\\n",
              "0  0.004902  0.001717  0.002926  0.001181  0.002126  0.002126  0.001721   \n",
              "\n",
              "    photos  Shopping  Fashion  Food  Local Services  Home Services  Grocery  \\\n",
              "0  0.00087         1        1     0               0              0        0   \n",
              "\n",
              "   Drugstores  Department Stores  Flowers & Gifts  Beauty & Spas  Home Decor  \\\n",
              "0           0                  0                0              0           0   \n",
              "\n",
              "   Health & Medical  Furniture Stores  Electronics  Sporting Goods  \\\n",
              "0                 0                 0            0               0   \n",
              "\n",
              "   Cosmetics & Beauty Supply  Arts & Crafts  Accessories  Jewelry  \\\n",
              "0                          0              0            1        0   \n",
              "\n",
              "   Arts & Entertainment  Event Planning & Services  Nurseries & Gardening  \\\n",
              "0                     0                          0                      0   \n",
              "\n",
              "   Appliances  Shoe Stores  Discount Store  Active Life  Music & Video  Mags  \\\n",
              "0           0            0               0            0              0     0   \n",
              "\n",
              "   Books  Hardware Stores  Eyewear & Opticians  Florists  Specialty Food  \\\n",
              "0      0                0                    0         0               0   \n",
              "\n",
              "   Restaurants  Mobile PhonesConvenience Stores  Optometrists  Used  \\\n",
              "0            0                                0             0     0   \n",
              "\n",
              "   Vintage & Consignment  Gift Shops  IT Services & Computer Repair  \\\n",
              "0                      0           0                              0   \n",
              "\n",
              "   Art Galleries  Building Supplies  Thrift Stores  Automotive  Mattresses  \\\n",
              "0              0                  0              0           0           0   \n",
              "\n",
              "   Wine & Spirits  Beer  Hair Salons  Professional Services  Kitchen & Bath  \\\n",
              "0               0     0            0                      0               0   \n",
              "\n",
              "   Bridal  Sports Wear  Tobacco Shops  Antiques  Pharmacy  Toy Stores  \\\n",
              "0       0            0              0         0         0           0   \n",
              "\n",
              "   Bookstores  Hobby Shops  Bikes  Nightlife  Shopping Centers  Education  \\\n",
              "0           0            0      0          0                 0          0   \n",
              "\n",
              "   Appliances & Repair  Local Flavor  Photography Stores & Services  \\\n",
              "0                    0             0                              0   \n",
              "\n",
              "   Skin Care  Bakeries  Doctors  Mobile Phone Repair  Outdoor Gear  \\\n",
              "0          0         0        0                    0             0   \n",
              "\n",
              "   Wholesale Stores  Computers  Art Supplies  Bars  Coffee & Tea  Watches  \\\n",
              "0                 0          0             0     0             0        0   \n",
              "\n",
              "   Jewelry Repair  Mobile Phone Accessories  Electronics Repair  \\\n",
              "0               0                         0                   0   \n",
              "\n",
              "   Fruits & Veggies  Office Equipment  Venues & Event Spaces  Contractors  \\\n",
              "0                 0                 0                      0            0   \n",
              "\n",
              "   Wedding Planning  Bike Repair/Maintenance  Ophthalmologists  Music & DVDs  \\\n",
              "0                 0                        0                 0             0   \n",
              "\n",
              "   Bike Rentals  Formal Wear  Interior Design  Baby Gear & Furniture  \\\n",
              "0             0            0                0                      0   \n",
              "\n",
              "   Landscaping  Guns & Ammo  Telecommunications  Printing Services  \\\n",
              "0            0            0                   0                  0   \n",
              "\n",
              "   Hair Removal  Vape Shops  Watch Repair  Party & Event Planning  \\\n",
              "0             0           0             0                       0   \n",
              "\n",
              "   Specialty Schools  \n",
              "0                  0  "
            ],
            "text/html": [
              "\n",
              "  <div id=\"df-fbed3163-d580-4ad3-92f1-8e294e301717\">\n",
              "    <div class=\"colab-df-container\">\n",
              "      <div>\n",
              "<style scoped>\n",
              "    .dataframe tbody tr th:only-of-type {\n",
              "        vertical-align: middle;\n",
              "    }\n",
              "\n",
              "    .dataframe tbody tr th {\n",
              "        vertical-align: top;\n",
              "    }\n",
              "\n",
              "    .dataframe thead th {\n",
              "        text-align: right;\n",
              "    }\n",
              "</style>\n",
              "<table border=\"1\" class=\"dataframe\">\n",
              "  <thead>\n",
              "    <tr style=\"text-align: right;\">\n",
              "      <th></th>\n",
              "      <th>user_id</th>\n",
              "      <th>item_id</th>\n",
              "      <th>rating</th>\n",
              "      <th>text</th>\n",
              "      <th>fans</th>\n",
              "      <th>average_stars</th>\n",
              "      <th>friends</th>\n",
              "      <th>vote_funny</th>\n",
              "      <th>useful</th>\n",
              "      <th>vote_cool</th>\n",
              "      <th>hot</th>\n",
              "      <th>more</th>\n",
              "      <th>profile</th>\n",
              "      <th>cute</th>\n",
              "      <th>list</th>\n",
              "      <th>note</th>\n",
              "      <th>plain</th>\n",
              "      <th>cool</th>\n",
              "      <th>funny</th>\n",
              "      <th>writer</th>\n",
              "      <th>photos</th>\n",
              "      <th>Shopping</th>\n",
              "      <th>Fashion</th>\n",
              "      <th>Food</th>\n",
              "      <th>Local Services</th>\n",
              "      <th>Home Services</th>\n",
              "      <th>Grocery</th>\n",
              "      <th>Drugstores</th>\n",
              "      <th>Department Stores</th>\n",
              "      <th>Flowers &amp; Gifts</th>\n",
              "      <th>Beauty &amp; Spas</th>\n",
              "      <th>Home Decor</th>\n",
              "      <th>Health &amp; Medical</th>\n",
              "      <th>Furniture Stores</th>\n",
              "      <th>Electronics</th>\n",
              "      <th>Sporting Goods</th>\n",
              "      <th>Cosmetics &amp; Beauty Supply</th>\n",
              "      <th>Arts &amp; Crafts</th>\n",
              "      <th>Accessories</th>\n",
              "      <th>Jewelry</th>\n",
              "      <th>Arts &amp; Entertainment</th>\n",
              "      <th>Event Planning &amp; Services</th>\n",
              "      <th>Nurseries &amp; Gardening</th>\n",
              "      <th>Appliances</th>\n",
              "      <th>Shoe Stores</th>\n",
              "      <th>Discount Store</th>\n",
              "      <th>Active Life</th>\n",
              "      <th>Music &amp; Video</th>\n",
              "      <th>Mags</th>\n",
              "      <th>Books</th>\n",
              "      <th>Hardware Stores</th>\n",
              "      <th>Eyewear &amp; Opticians</th>\n",
              "      <th>Florists</th>\n",
              "      <th>Specialty Food</th>\n",
              "      <th>Restaurants</th>\n",
              "      <th>Mobile PhonesConvenience Stores</th>\n",
              "      <th>Optometrists</th>\n",
              "      <th>Used</th>\n",
              "      <th>Vintage &amp; Consignment</th>\n",
              "      <th>Gift Shops</th>\n",
              "      <th>IT Services &amp; Computer Repair</th>\n",
              "      <th>Art Galleries</th>\n",
              "      <th>Building Supplies</th>\n",
              "      <th>Thrift Stores</th>\n",
              "      <th>Automotive</th>\n",
              "      <th>Mattresses</th>\n",
              "      <th>Wine &amp; Spirits</th>\n",
              "      <th>Beer</th>\n",
              "      <th>Hair Salons</th>\n",
              "      <th>Professional Services</th>\n",
              "      <th>Kitchen &amp; Bath</th>\n",
              "      <th>Bridal</th>\n",
              "      <th>Sports Wear</th>\n",
              "      <th>Tobacco Shops</th>\n",
              "      <th>Antiques</th>\n",
              "      <th>Pharmacy</th>\n",
              "      <th>Toy Stores</th>\n",
              "      <th>Bookstores</th>\n",
              "      <th>Hobby Shops</th>\n",
              "      <th>Bikes</th>\n",
              "      <th>Nightlife</th>\n",
              "      <th>Shopping Centers</th>\n",
              "      <th>Education</th>\n",
              "      <th>Appliances &amp; Repair</th>\n",
              "      <th>Local Flavor</th>\n",
              "      <th>Photography Stores &amp; Services</th>\n",
              "      <th>Skin Care</th>\n",
              "      <th>Bakeries</th>\n",
              "      <th>Doctors</th>\n",
              "      <th>Mobile Phone Repair</th>\n",
              "      <th>Outdoor Gear</th>\n",
              "      <th>Wholesale Stores</th>\n",
              "      <th>Computers</th>\n",
              "      <th>Art Supplies</th>\n",
              "      <th>Bars</th>\n",
              "      <th>Coffee &amp; Tea</th>\n",
              "      <th>Watches</th>\n",
              "      <th>Jewelry Repair</th>\n",
              "      <th>Mobile Phone Accessories</th>\n",
              "      <th>Electronics Repair</th>\n",
              "      <th>Fruits &amp; Veggies</th>\n",
              "      <th>Office Equipment</th>\n",
              "      <th>Venues &amp; Event Spaces</th>\n",
              "      <th>Contractors</th>\n",
              "      <th>Wedding Planning</th>\n",
              "      <th>Bike Repair/Maintenance</th>\n",
              "      <th>Ophthalmologists</th>\n",
              "      <th>Music &amp; DVDs</th>\n",
              "      <th>Bike Rentals</th>\n",
              "      <th>Formal Wear</th>\n",
              "      <th>Interior Design</th>\n",
              "      <th>Baby Gear &amp; Furniture</th>\n",
              "      <th>Landscaping</th>\n",
              "      <th>Guns &amp; Ammo</th>\n",
              "      <th>Telecommunications</th>\n",
              "      <th>Printing Services</th>\n",
              "      <th>Hair Removal</th>\n",
              "      <th>Vape Shops</th>\n",
              "      <th>Watch Repair</th>\n",
              "      <th>Party &amp; Event Planning</th>\n",
              "      <th>Specialty Schools</th>\n",
              "    </tr>\n",
              "  </thead>\n",
              "  <tbody>\n",
              "    <tr>\n",
              "      <th>0</th>\n",
              "      <td>0</td>\n",
              "      <td>575</td>\n",
              "      <td>3</td>\n",
              "      <td>We don't actually dress like this but if you l...</td>\n",
              "      <td>0.008016</td>\n",
              "      <td>0.805851</td>\n",
              "      <td>0.012982</td>\n",
              "      <td>0.001776</td>\n",
              "      <td>0.002434</td>\n",
              "      <td>0.001527</td>\n",
              "      <td>0.002501</td>\n",
              "      <td>0.003279</td>\n",
              "      <td>0.000721</td>\n",
              "      <td>0.004902</td>\n",
              "      <td>0.001717</td>\n",
              "      <td>0.002926</td>\n",
              "      <td>0.001181</td>\n",
              "      <td>0.002126</td>\n",
              "      <td>0.002126</td>\n",
              "      <td>0.001721</td>\n",
              "      <td>0.00087</td>\n",
              "      <td>1</td>\n",
              "      <td>1</td>\n",
              "      <td>0</td>\n",
              "      <td>0</td>\n",
              "      <td>0</td>\n",
              "      <td>0</td>\n",
              "      <td>0</td>\n",
              "      <td>0</td>\n",
              "      <td>0</td>\n",
              "      <td>0</td>\n",
              "      <td>0</td>\n",
              "      <td>0</td>\n",
              "      <td>0</td>\n",
              "      <td>0</td>\n",
              "      <td>0</td>\n",
              "      <td>0</td>\n",
              "      <td>0</td>\n",
              "      <td>1</td>\n",
              "      <td>0</td>\n",
              "      <td>0</td>\n",
              "      <td>0</td>\n",
              "      <td>0</td>\n",
              "      <td>0</td>\n",
              "      <td>0</td>\n",
              "      <td>0</td>\n",
              "      <td>0</td>\n",
              "      <td>0</td>\n",
              "      <td>0</td>\n",
              "      <td>0</td>\n",
              "      <td>0</td>\n",
              "      <td>0</td>\n",
              "      <td>0</td>\n",
              "      <td>0</td>\n",
              "      <td>0</td>\n",
              "      <td>0</td>\n",
              "      <td>0</td>\n",
              "      <td>0</td>\n",
              "      <td>0</td>\n",
              "      <td>0</td>\n",
              "      <td>0</td>\n",
              "      <td>0</td>\n",
              "      <td>0</td>\n",
              "      <td>0</td>\n",
              "      <td>0</td>\n",
              "      <td>0</td>\n",
              "      <td>0</td>\n",
              "      <td>0</td>\n",
              "      <td>0</td>\n",
              "      <td>0</td>\n",
              "      <td>0</td>\n",
              "      <td>0</td>\n",
              "      <td>0</td>\n",
              "      <td>0</td>\n",
              "      <td>0</td>\n",
              "      <td>0</td>\n",
              "      <td>0</td>\n",
              "      <td>0</td>\n",
              "      <td>0</td>\n",
              "      <td>0</td>\n",
              "      <td>0</td>\n",
              "      <td>0</td>\n",
              "      <td>0</td>\n",
              "      <td>0</td>\n",
              "      <td>0</td>\n",
              "      <td>0</td>\n",
              "      <td>0</td>\n",
              "      <td>0</td>\n",
              "      <td>0</td>\n",
              "      <td>0</td>\n",
              "      <td>0</td>\n",
              "      <td>0</td>\n",
              "      <td>0</td>\n",
              "      <td>0</td>\n",
              "      <td>0</td>\n",
              "      <td>0</td>\n",
              "      <td>0</td>\n",
              "      <td>0</td>\n",
              "      <td>0</td>\n",
              "      <td>0</td>\n",
              "      <td>0</td>\n",
              "      <td>0</td>\n",
              "      <td>0</td>\n",
              "      <td>0</td>\n",
              "      <td>0</td>\n",
              "      <td>0</td>\n",
              "      <td>0</td>\n",
              "      <td>0</td>\n",
              "      <td>0</td>\n",
              "      <td>0</td>\n",
              "      <td>0</td>\n",
              "      <td>0</td>\n",
              "      <td>0</td>\n",
              "      <td>0</td>\n",
              "      <td>0</td>\n",
              "      <td>0</td>\n",
              "      <td>0</td>\n",
              "      <td>0</td>\n",
              "      <td>0</td>\n",
              "      <td>0</td>\n",
              "      <td>0</td>\n",
              "    </tr>\n",
              "  </tbody>\n",
              "</table>\n",
              "</div>\n",
              "      <button class=\"colab-df-convert\" onclick=\"convertToInteractive('df-fbed3163-d580-4ad3-92f1-8e294e301717')\"\n",
              "              title=\"Convert this dataframe to an interactive table.\"\n",
              "              style=\"display:none;\">\n",
              "        \n",
              "  <svg xmlns=\"http://www.w3.org/2000/svg\" height=\"24px\"viewBox=\"0 0 24 24\"\n",
              "       width=\"24px\">\n",
              "    <path d=\"M0 0h24v24H0V0z\" fill=\"none\"/>\n",
              "    <path d=\"M18.56 5.44l.94 2.06.94-2.06 2.06-.94-2.06-.94-.94-2.06-.94 2.06-2.06.94zm-11 1L8.5 8.5l.94-2.06 2.06-.94-2.06-.94L8.5 2.5l-.94 2.06-2.06.94zm10 10l.94 2.06.94-2.06 2.06-.94-2.06-.94-.94-2.06-.94 2.06-2.06.94z\"/><path d=\"M17.41 7.96l-1.37-1.37c-.4-.4-.92-.59-1.43-.59-.52 0-1.04.2-1.43.59L10.3 9.45l-7.72 7.72c-.78.78-.78 2.05 0 2.83L4 21.41c.39.39.9.59 1.41.59.51 0 1.02-.2 1.41-.59l7.78-7.78 2.81-2.81c.8-.78.8-2.07 0-2.86zM5.41 20L4 18.59l7.72-7.72 1.47 1.35L5.41 20z\"/>\n",
              "  </svg>\n",
              "      </button>\n",
              "      \n",
              "  <style>\n",
              "    .colab-df-container {\n",
              "      display:flex;\n",
              "      flex-wrap:wrap;\n",
              "      gap: 12px;\n",
              "    }\n",
              "\n",
              "    .colab-df-convert {\n",
              "      background-color: #E8F0FE;\n",
              "      border: none;\n",
              "      border-radius: 50%;\n",
              "      cursor: pointer;\n",
              "      display: none;\n",
              "      fill: #1967D2;\n",
              "      height: 32px;\n",
              "      padding: 0 0 0 0;\n",
              "      width: 32px;\n",
              "    }\n",
              "\n",
              "    .colab-df-convert:hover {\n",
              "      background-color: #E2EBFA;\n",
              "      box-shadow: 0px 1px 2px rgba(60, 64, 67, 0.3), 0px 1px 3px 1px rgba(60, 64, 67, 0.15);\n",
              "      fill: #174EA6;\n",
              "    }\n",
              "\n",
              "    [theme=dark] .colab-df-convert {\n",
              "      background-color: #3B4455;\n",
              "      fill: #D2E3FC;\n",
              "    }\n",
              "\n",
              "    [theme=dark] .colab-df-convert:hover {\n",
              "      background-color: #434B5C;\n",
              "      box-shadow: 0px 1px 3px 1px rgba(0, 0, 0, 0.15);\n",
              "      filter: drop-shadow(0px 1px 2px rgba(0, 0, 0, 0.3));\n",
              "      fill: #FFFFFF;\n",
              "    }\n",
              "  </style>\n",
              "\n",
              "      <script>\n",
              "        const buttonEl =\n",
              "          document.querySelector('#df-fbed3163-d580-4ad3-92f1-8e294e301717 button.colab-df-convert');\n",
              "        buttonEl.style.display =\n",
              "          google.colab.kernel.accessAllowed ? 'block' : 'none';\n",
              "\n",
              "        async function convertToInteractive(key) {\n",
              "          const element = document.querySelector('#df-fbed3163-d580-4ad3-92f1-8e294e301717');\n",
              "          const dataTable =\n",
              "            await google.colab.kernel.invokeFunction('convertToInteractive',\n",
              "                                                     [key], {});\n",
              "          if (!dataTable) return;\n",
              "\n",
              "          const docLinkHtml = 'Like what you see? Visit the ' +\n",
              "            '<a target=\"_blank\" href=https://colab.research.google.com/notebooks/data_table.ipynb>data table notebook</a>'\n",
              "            + ' to learn more about interactive tables.';\n",
              "          element.innerHTML = '';\n",
              "          dataTable['output_type'] = 'display_data';\n",
              "          await google.colab.output.renderOutput(dataTable, element);\n",
              "          const docLink = document.createElement('div');\n",
              "          docLink.innerHTML = docLinkHtml;\n",
              "          element.appendChild(docLink);\n",
              "        }\n",
              "      </script>\n",
              "    </div>\n",
              "  </div>\n",
              "  "
            ]
          },
          "metadata": {},
          "execution_count": 12
        }
      ],
      "source": [
        "dataset.head(1)"
      ]
    },
    {
      "cell_type": "code",
      "execution_count": null,
      "metadata": {
        "id": "UaKT1LhrJQu3"
      },
      "outputs": [],
      "source": [
        "# def ponderation(datset , alpha):\n",
        "#     for index, row in dataset.iterrows():\n",
        "#       row['rating'] = row['rating']/5\n",
        "#       row['rating'] = (alpha * row['rating']) + (1-alpha)*(row['valuer_conf']*row['sentiment'])\n",
        "#       row['rating'] = row['rating']*5\n",
        "def ponderation(dataset, alpha):\n",
        "    dataset['updated_rating'] = dataset['rating'] / 5\n",
        "    dataset['updated_rating'] = (alpha * dataset['updated_rating']) + (1 - alpha) * (dataset['valuer_conf'] * dataset['sentiment'])\n",
        "    dataset['updated_rating'] = dataset['updated_rating'] * 5"
      ]
    },
    {
      "cell_type": "code",
      "execution_count": null,
      "metadata": {
        "id": "Ij3oFk4EMhcd"
      },
      "outputs": [],
      "source": [
        "ponderation(dataset , 0.7)"
      ]
    },
    {
      "cell_type": "code",
      "execution_count": null,
      "metadata": {
        "colab": {
          "base_uri": "https://localhost:8080/",
          "height": 165
        },
        "id": "zoBeEND_Nz_g",
        "outputId": "aaff259d-90bd-40a8-8620-24eacb17e2fe"
      },
      "outputs": [
        {
          "output_type": "execute_result",
          "data": {
            "text/plain": [
              "Empty DataFrame\n",
              "Columns: [user_id, item_id, text, rating, verified, Arts, Crafts & Sewing, Sewing, Crafting, Scrapbooking & Stamping, Beading & Jewelry Making, Painting, Drawing & Art Supplies, Painting, Sewing Notions & Supplies, Die-Cutting & Embossing, Paper & Paper Crafts, Knitting & Crochet, Die-Cuts, Beads & Bead Assortments, Craft Supplies, Drawing]\n",
              "Index: []"
            ],
            "text/html": [
              "\n",
              "  <div id=\"df-5d6cfb1b-6dda-40b6-ac16-1fbd52bb04b4\">\n",
              "    <div class=\"colab-df-container\">\n",
              "      <div>\n",
              "<style scoped>\n",
              "    .dataframe tbody tr th:only-of-type {\n",
              "        vertical-align: middle;\n",
              "    }\n",
              "\n",
              "    .dataframe tbody tr th {\n",
              "        vertical-align: top;\n",
              "    }\n",
              "\n",
              "    .dataframe thead th {\n",
              "        text-align: right;\n",
              "    }\n",
              "</style>\n",
              "<table border=\"1\" class=\"dataframe\">\n",
              "  <thead>\n",
              "    <tr style=\"text-align: right;\">\n",
              "      <th></th>\n",
              "      <th>user_id</th>\n",
              "      <th>item_id</th>\n",
              "      <th>text</th>\n",
              "      <th>rating</th>\n",
              "      <th>verified</th>\n",
              "      <th>Arts, Crafts &amp; Sewing</th>\n",
              "      <th>Sewing</th>\n",
              "      <th>Crafting</th>\n",
              "      <th>Scrapbooking &amp; Stamping</th>\n",
              "      <th>Beading &amp; Jewelry Making</th>\n",
              "      <th>Painting, Drawing &amp; Art Supplies</th>\n",
              "      <th>Painting</th>\n",
              "      <th>Sewing Notions &amp; Supplies</th>\n",
              "      <th>Die-Cutting &amp; Embossing</th>\n",
              "      <th>Paper &amp; Paper Crafts</th>\n",
              "      <th>Knitting &amp; Crochet</th>\n",
              "      <th>Die-Cuts</th>\n",
              "      <th>Beads &amp; Bead Assortments</th>\n",
              "      <th>Craft Supplies</th>\n",
              "      <th>Drawing</th>\n",
              "    </tr>\n",
              "  </thead>\n",
              "  <tbody>\n",
              "  </tbody>\n",
              "</table>\n",
              "</div>\n",
              "      <button class=\"colab-df-convert\" onclick=\"convertToInteractive('df-5d6cfb1b-6dda-40b6-ac16-1fbd52bb04b4')\"\n",
              "              title=\"Convert this dataframe to an interactive table.\"\n",
              "              style=\"display:none;\">\n",
              "        \n",
              "  <svg xmlns=\"http://www.w3.org/2000/svg\" height=\"24px\"viewBox=\"0 0 24 24\"\n",
              "       width=\"24px\">\n",
              "    <path d=\"M0 0h24v24H0V0z\" fill=\"none\"/>\n",
              "    <path d=\"M18.56 5.44l.94 2.06.94-2.06 2.06-.94-2.06-.94-.94-2.06-.94 2.06-2.06.94zm-11 1L8.5 8.5l.94-2.06 2.06-.94-2.06-.94L8.5 2.5l-.94 2.06-2.06.94zm10 10l.94 2.06.94-2.06 2.06-.94-2.06-.94-.94-2.06-.94 2.06-2.06.94z\"/><path d=\"M17.41 7.96l-1.37-1.37c-.4-.4-.92-.59-1.43-.59-.52 0-1.04.2-1.43.59L10.3 9.45l-7.72 7.72c-.78.78-.78 2.05 0 2.83L4 21.41c.39.39.9.59 1.41.59.51 0 1.02-.2 1.41-.59l7.78-7.78 2.81-2.81c.8-.78.8-2.07 0-2.86zM5.41 20L4 18.59l7.72-7.72 1.47 1.35L5.41 20z\"/>\n",
              "  </svg>\n",
              "      </button>\n",
              "      \n",
              "  <style>\n",
              "    .colab-df-container {\n",
              "      display:flex;\n",
              "      flex-wrap:wrap;\n",
              "      gap: 12px;\n",
              "    }\n",
              "\n",
              "    .colab-df-convert {\n",
              "      background-color: #E8F0FE;\n",
              "      border: none;\n",
              "      border-radius: 50%;\n",
              "      cursor: pointer;\n",
              "      display: none;\n",
              "      fill: #1967D2;\n",
              "      height: 32px;\n",
              "      padding: 0 0 0 0;\n",
              "      width: 32px;\n",
              "    }\n",
              "\n",
              "    .colab-df-convert:hover {\n",
              "      background-color: #E2EBFA;\n",
              "      box-shadow: 0px 1px 2px rgba(60, 64, 67, 0.3), 0px 1px 3px 1px rgba(60, 64, 67, 0.15);\n",
              "      fill: #174EA6;\n",
              "    }\n",
              "\n",
              "    [theme=dark] .colab-df-convert {\n",
              "      background-color: #3B4455;\n",
              "      fill: #D2E3FC;\n",
              "    }\n",
              "\n",
              "    [theme=dark] .colab-df-convert:hover {\n",
              "      background-color: #434B5C;\n",
              "      box-shadow: 0px 1px 3px 1px rgba(0, 0, 0, 0.15);\n",
              "      filter: drop-shadow(0px 1px 2px rgba(0, 0, 0, 0.3));\n",
              "      fill: #FFFFFF;\n",
              "    }\n",
              "  </style>\n",
              "\n",
              "      <script>\n",
              "        const buttonEl =\n",
              "          document.querySelector('#df-5d6cfb1b-6dda-40b6-ac16-1fbd52bb04b4 button.colab-df-convert');\n",
              "        buttonEl.style.display =\n",
              "          google.colab.kernel.accessAllowed ? 'block' : 'none';\n",
              "\n",
              "        async function convertToInteractive(key) {\n",
              "          const element = document.querySelector('#df-5d6cfb1b-6dda-40b6-ac16-1fbd52bb04b4');\n",
              "          const dataTable =\n",
              "            await google.colab.kernel.invokeFunction('convertToInteractive',\n",
              "                                                     [key], {});\n",
              "          if (!dataTable) return;\n",
              "\n",
              "          const docLinkHtml = 'Like what you see? Visit the ' +\n",
              "            '<a target=\"_blank\" href=https://colab.research.google.com/notebooks/data_table.ipynb>data table notebook</a>'\n",
              "            + ' to learn more about interactive tables.';\n",
              "          element.innerHTML = '';\n",
              "          dataTable['output_type'] = 'display_data';\n",
              "          await google.colab.output.renderOutput(dataTable, element);\n",
              "          const docLink = document.createElement('div');\n",
              "          docLink.innerHTML = docLinkHtml;\n",
              "          element.appendChild(docLink);\n",
              "        }\n",
              "      </script>\n",
              "    </div>\n",
              "  </div>\n",
              "  "
            ]
          },
          "metadata": {},
          "execution_count": 10
        }
      ],
      "source": [
        "dataset.head(0)"
      ]
    },
    {
      "cell_type": "code",
      "execution_count": null,
      "metadata": {
        "id": "HcaKtK5H3sHl"
      },
      "outputs": [],
      "source": [
        "def dataset_split(dataset): #normal testset\n",
        "    # Spliting into X and y\n",
        "    X = dataset[['user_id','item_id', 'text',\t'Arts, Crafts & Sewing','Sewing','Crafting',\n",
        "                 'Scrapbooking & Stamping',\t'Beading & Jewelry Making','Painting, Drawing & Art Supplies',\n",
        "                 'Painting',\t'Sewing Notions & Supplies','Die-Cutting & Embossing','Paper & Paper Crafts',\n",
        "                 'Knitting & Crochet','Die-Cuts','Beads & Bead Assortments',\t'Craft Supplies',\t'Drawing']]\n",
        "    y = dataset['rating']\n",
        "    X_train , y_train , X_test , y_test = train_test_split(X , y , test_size=0.2 , random_state=0)\n",
        "    return X_train , y_train , X_test , y_test\n"
      ]
    },
    {
      "cell_type": "code",
      "execution_count": null,
      "metadata": {
        "id": "KXRyV58j4SmN"
      },
      "outputs": [],
      "source": [
        "X_train, X_test, y_train, y_test = dataset_split(dataset)"
      ]
    },
    {
      "cell_type": "code",
      "execution_count": null,
      "metadata": {
        "id": "207jTnXpUL0U"
      },
      "outputs": [],
      "source": [
        "train_userDATA = X_train[[]] #17\n",
        "\n",
        "train_itemDATA = X_train[['Arts, Crafts & Sewing','Sewing','Crafting',\n",
        "                 'Scrapbooking & Stamping',\t'Beading & Jewelry Making','Painting, Drawing & Art Supplies',\n",
        "                 'Painting',\t'Sewing Notions & Supplies','Die-Cutting & Embossing','Paper & Paper Crafts',\n",
        "                 'Knitting & Crochet','Die-Cuts','Beads & Bead Assortments',\t'Craft Supplies',\t'Drawing']]"
      ]
    },
    {
      "cell_type": "code",
      "execution_count": null,
      "metadata": {
        "id": "0KIdb72QUZuO"
      },
      "outputs": [],
      "source": [
        "train_userID = X_train['user_id']\n",
        "train_itemID = X_train['item_id']"
      ]
    },
    {
      "cell_type": "code",
      "execution_count": null,
      "metadata": {
        "colab": {
          "base_uri": "https://localhost:8080/"
        },
        "id": "jeqiPo3Jc0oL",
        "outputId": "2122d167-b9ce-4bee-99fb-2ab5099494e8"
      },
      "outputs": [
        {
          "output_type": "execute_result",
          "data": {
            "text/plain": [
              "(143263, 15)"
            ]
          },
          "metadata": {},
          "execution_count": 11
        }
      ],
      "source": [
        "train_itemDATA.shape"
      ]
    },
    {
      "cell_type": "code",
      "execution_count": null,
      "metadata": {
        "id": "OD4sXivYhCsf"
      },
      "outputs": [],
      "source": [
        "# y_train.astype('float64')# train_userID, train_itemID, train_userDATA, train_itemDATA"
      ]
    },
    {
      "cell_type": "code",
      "execution_count": null,
      "metadata": {
        "id": "DO2P4vbHMUfb"
      },
      "outputs": [],
      "source": [
        "def getnum_user_item(X_train):\n",
        "    num_users = int(max(X_train.user_id.max()+1,X_test.user_id.max()+1))\n",
        "    num_items = int(max(X_train.item_id.max()+1,X_test.item_id.max()+1))\n",
        "    return num_users , num_items\n",
        "\n",
        "num_users , num_items = getnum_user_item(X_train)"
      ]
    },
    {
      "cell_type": "code",
      "execution_count": null,
      "metadata": {
        "colab": {
          "base_uri": "https://localhost:8080/"
        },
        "id": "4O97peR4Pupe",
        "outputId": "3f41d1a2-bbe4-4236-9029-b7e2c25468c1"
      },
      "outputs": [
        {
          "output_type": "stream",
          "name": "stdout",
          "text": [
            "18458 7594\n"
          ]
        }
      ],
      "source": [
        "print(num_users , num_items )"
      ]
    },
    {
      "cell_type": "code",
      "execution_count": null,
      "metadata": {
        "colab": {
          "base_uri": "https://localhost:8080/"
        },
        "id": "7872lCcE7_Kg",
        "outputId": "af8d0d93-8b68-4022-8ce2-c7068fc8bd11"
      },
      "outputs": [
        {
          "output_type": "execute_result",
          "data": {
            "text/plain": [
              "(143263, 6)"
            ]
          },
          "metadata": {},
          "execution_count": 14
        }
      ],
      "source": [
        " from tensorflow.keras.utils import to_categorical\n",
        " y = to_categorical(y_train)\n",
        " y.shape"
      ]
    },
    {
      "cell_type": "code",
      "execution_count": null,
      "metadata": {
        "id": "wBIkGo2S8V6G"
      },
      "outputs": [],
      "source": [
        "y_train = tf.constant(y, shape=[y_train.shape[0], 6])"
      ]
    },
    {
      "cell_type": "code",
      "execution_count": null,
      "metadata": {
        "id": "-r9LNB0H8fOU"
      },
      "outputs": [],
      "source": [
        "y_train"
      ]
    },
    {
      "cell_type": "markdown",
      "metadata": {
        "id": "Ybqeigvzutbi"
      },
      "source": [
        "# **module de filtrage**"
      ]
    },
    {
      "cell_type": "markdown",
      "metadata": {
        "id": "BCCxBmnPu0Db"
      },
      "source": [
        "**GMF part**"
      ]
    },
    {
      "cell_type": "code",
      "execution_count": null,
      "metadata": {
        "id": "Z7VHFnpBtO8Y"
      },
      "outputs": [],
      "source": [
        "# class GMF(tf.keras.Model):\n",
        "#     def __init__(self, emb_size_gmf, num_users, num_items):\n",
        "#         super(GMF, self).__init__()\n",
        "#         self.user_emb_GMF = tf.keras.layers.Embedding(num_users, emb_size_gmf, name='user_emb_GMF')\n",
        "#         self.item_emb_GMF = tf.keras.layers.Embedding(num_items, emb_size_gmf, name='item_emb_GMF')\n",
        "#         self.flat_u_GMF   = tf.keras.layers.Flatten()\n",
        "#         self.flat_i_GMF   = tf.keras.layers.Flatten()\n",
        "#         self.mul_layer    = tf.keras.layers.Multiply()\n",
        "\n",
        "#     def call(self, input_userID , input_itemID , input_userDATA ,input_itemDATA):\n",
        "#         u = self.user_emb_GMF(input_userID)\n",
        "#         i = self.item_emb_GMF(input_itemID)\n",
        "#         u = self.flat_u_GMF(u)\n",
        "#         i = self.flat_i_GMF(i)\n",
        "#         return self.mul_layer([i, u])\n"
      ]
    },
    {
      "cell_type": "markdown",
      "metadata": {
        "id": "aoYi-C4Ru7ft"
      },
      "source": [
        " **MLP part**"
      ]
    },
    {
      "cell_type": "code",
      "execution_count": null,
      "metadata": {
        "id": "wGoXTJ0CtO5D"
      },
      "outputs": [],
      "source": [
        "# class MLP(tf.keras.Model):\n",
        "#     def __init__(self, num_users, num_items, emb_size_mlp, predictive_factors,num_layers ):\n",
        "#         super(MLP, self).__init__()\n",
        "#         self.user_emb_MLP = tf.keras.layers.Embedding(num_users, emb_size_mlp, name='user_emb_MLP')\n",
        "#         self.item_emb_MLP = tf.keras.layers.Embedding(num_items, emb_size_mlp, name='item_emb_MLP')\n",
        "#         self.flat_u_MLP   = tf.keras.layers.Flatten()\n",
        "#         self.flat_i_MLP   = tf.keras.layers.Flatten()\n",
        "#         self.concat_layer = tf.keras.layers.Concatenate()\n",
        "#         self.layer_list   = []\n",
        "#         for l in range(num_layers,0,-1):\n",
        "#             layer = tf.keras.layers.Dense(predictive_factors*(2**(l-1)), activation='relu', name= 'layer%d' %(num_layers-l+1))\n",
        "#             self.layer_list.append(layer)\n",
        "\n",
        "#     def call(self, input_userID , input_itemID , input_userDATA ,input_itemDATA):\n",
        "#         u = self.user_emb_MLP(input_userID)\n",
        "#         i = self.item_emb_MLP(input_itemID)\n",
        "#         u = self.flat_u_MLP(u)\n",
        "#         i = self.flat_i_MLP(i)\n",
        "#         c = self.concat_layer([i, u, input_userDATA, input_itemDATA])\n",
        "#         for layer in self.layer_list:\n",
        "#             c = layer(c)\n",
        "#         return c\n"
      ]
    },
    {
      "cell_type": "markdown",
      "metadata": {
        "id": "UYjmztegvBvq"
      },
      "source": [
        "**NHF model**"
      ]
    },
    {
      "cell_type": "code",
      "execution_count": null,
      "metadata": {
        "id": "guycdgMFtO2e"
      },
      "outputs": [],
      "source": [
        "# class NHF(tf.keras.Model):\n",
        "#     def __init__(self, emb_size_gmf, num_users, num_items, emb_size_mlp, predictive_factors, l):\n",
        "#         super(NHF, self).__init__()\n",
        "#         self.gmf = GMF(emb_size_gmf, num_users, num_items)\n",
        "#         self.mlp = MLP(num_users, num_items, emb_size_mlp, predictive_factors, l)\n",
        "#         self.concat_layer = tf.keras.layers.Concatenate()\n",
        "#         self.dense = tf.keras.layers.Dense(1, activation='linear') # amazon dataset\n",
        "\n",
        "#     def call(self, input_userID,input_itemID, input_userDATA,input_itemDATA):\n",
        "#         gmf_output = self.gmf(input_userID,input_itemID, input_userDATA , input_itemDATA)\n",
        "#         mlp_output = self.mlp(input_userID,input_itemID, input_userDATA , input_itemDATA)\n",
        "#         concatenated_output = self.concat_layer([gmf_output, mlp_output])\n",
        "#         return self.dense(concatenated_output)\n"
      ]
    },
    {
      "cell_type": "markdown",
      "metadata": {
        "id": "Bt3gvV3zLc9r"
      },
      "source": [
        "**entrainement de NHF model**"
      ]
    },
    {
      "cell_type": "code",
      "execution_count": null,
      "metadata": {
        "id": "fSOB3zrHXzmo"
      },
      "outputs": [],
      "source": [
        "#  cree le model NHF\n",
        "def build_NHF_model(emb_size_hmlp, emb_size_gmf, predictive_factors, num_layers):\n",
        "\n",
        "    # emb_size_hmlp : size of embedding layer for mlp  model\n",
        "    # emb_size_gmf    : size of embedding layer for GMF  model\n",
        "    # predictive_factors : pour le nombre d'unite des couche dense dnas la partie mlp\n",
        "    # num_layers : numero de layer de mlp\n",
        "\n",
        "\n",
        "    # définition des input pour les deux model gmf et mlp\n",
        "    input_userID = Input(shape = [1], name = 'user_ID')\n",
        "    input_itemID = Input(shape = [1], name = 'item_ID')\n",
        "\n",
        "    input_userDATA = Input(shape = [0], name = 'user_data')\n",
        "    input_itemDATA = Input(shape = [15], name = 'item_data')#avant shape=[49]\n",
        "\n",
        "    #GMF part\n",
        "    user_latent_factors_GMF = emb_size_gmf\n",
        "    item_latent_factors_GMF = emb_size_gmf\n",
        "\n",
        "    user_emb_GMF = Embedding(num_users, user_latent_factors_GMF, name = 'user_emb_GMF')(input_userID)\n",
        "    item_emb_GMF = Embedding(num_items, item_latent_factors_GMF, name = 'item_emb_GMF')(input_itemID)\n",
        "\n",
        "    flat_u_GMF = Flatten()(user_emb_GMF)\n",
        "    flat_i_GMF = Flatten()(item_emb_GMF)\n",
        "\n",
        "    mul_layer = Multiply()([flat_u_GMF, flat_i_GMF]) # user embedding and item embedding\n",
        "\n",
        "    #HybMLP part\n",
        "    user_latent_factors_hMLP = emb_size_hmlp\n",
        "    item_latent_factors_hMLP = emb_size_hmlp\n",
        "\n",
        "    user_emb_hMLP = Embedding(num_users, user_latent_factors_hMLP, name= 'user_emb_hMLP')(input_userID)\n",
        "    item_emb_hMLP = Embedding(num_items, item_latent_factors_hMLP, name= 'item_emb_hMLP')(input_itemID)\n",
        "\n",
        "    flat_u_hMLP = Flatten()(user_emb_hMLP)\n",
        "    flat_i_hMLP = Flatten()(item_emb_hMLP)\n",
        "\n",
        "    concat_hMLP = concatenate([flat_u_hMLP, flat_i_hMLP, input_userDATA, input_itemDATA])\n",
        "    layer = concat_hMLP\n",
        "    for l in range(num_layers,0,-1):\n",
        "        layer = Dense(predictive_factors*(2**(l-1)), activation='relu',\n",
        "                      #kernel_regularizer=tf.keras.regularizers.L1(0.01) ,\n",
        "                      name= 'layer%d' %(num_layers-l+1))(layer)\n",
        "\n",
        "        # kernel_regularizer=tf.keras.regularizers.L1(0.00001)\n",
        "        #kernel_regularizer = tf.keras.regularizers.L1L2(l1=1e-3, l2=1e-3)\n",
        "        #layer = BatchNormalization(name=f'batch_norm_{l}')(layer)\n",
        "        #layer = Dropout(rate=0.7, name=f'dropout_{l}')(layer)\n",
        "\n",
        "\n",
        "    #NeuHybMF part :  concatener le model gmf et mlp\n",
        "    concat_NeuhMF = concatenate([mul_layer,layer])\n",
        "    out = Dense(5, activation='softmax', name='output')(concat_NeuhMF)\n",
        "\n",
        "    NHF_model = Model([input_userID,input_userDATA, input_itemID ,input_itemDATA], out)\n",
        "\n",
        "    return NHF_model\n",
        ""
      ]
    },
    {
      "cell_type": "code",
      "execution_count": null,
      "metadata": {
        "id": "SZvqNMuIL21i"
      },
      "outputs": [],
      "source": [
        "emb_size_gmf = 64\n",
        "num_users , num_items = getnum_user_item(X_train)\n",
        "emb_size_mlp = 64\n",
        "predictive_factors = 16\n",
        "l = 5"
      ]
    },
    {
      "cell_type": "code",
      "execution_count": null,
      "metadata": {
        "id": "WV10n1tmLrbg"
      },
      "outputs": [],
      "source": [
        "\n",
        "# NHF_model = NHF(emb_size_gmf, num_users, num_items, emb_size_mlp, predictive_factors, l)"
      ]
    },
    {
      "cell_type": "code",
      "execution_count": null,
      "metadata": {
        "id": "j6GKYmuIYBhG"
      },
      "outputs": [],
      "source": [
        "NHF = build_NHF_model(emb_size_mlp, emb_size_gmf, predictive_factors, l)"
      ]
    },
    {
      "cell_type": "code",
      "execution_count": null,
      "metadata": {
        "id": "LwVLQtkvhWrO"
      },
      "outputs": [],
      "source": [
        "\n",
        "# dans le cas d'utilisation de amazon dataset\n",
        "NHF.compile(optimizer='adam', loss='categorical_crossentropy',sample_weight_mode='temporal' ,metrics=['mae' , tf.keras.metrics.RootMeanSquaredError(),tf.keras.metrics.Precision()])"
      ]
    },
    {
      "cell_type": "code",
      "execution_count": null,
      "metadata": {
        "colab": {
          "base_uri": "https://localhost:8080/"
        },
        "id": "yEFtTdcQLa5_",
        "outputId": "5b3347e0-bb6b-413c-885f-772a23a94c0d"
      },
      "outputs": [
        {
          "output_type": "stream",
          "name": "stdout",
          "text": [
            "Epoch 1/15\n",
            "3582/3582 [==============================] - 61s 14ms/step - loss: 0.8611 - mae: 0.1374 - root_mean_squared_error: 0.2598 - precision: 0.7822 - val_loss: 0.7124 - val_mae: 0.1202 - val_root_mean_squared_error: 0.2385 - val_precision: 0.7949\n",
            "Epoch 2/15\n",
            "3582/3582 [==============================] - 46s 13ms/step - loss: 0.5001 - mae: 0.0889 - root_mean_squared_error: 0.1966 - precision: 0.8681 - val_loss: 0.6498 - val_mae: 0.1059 - val_root_mean_squared_error: 0.2272 - val_precision: 0.8350\n",
            "Epoch 3/15\n",
            "3582/3582 [==============================] - 46s 13ms/step - loss: 0.1973 - mae: 0.0395 - root_mean_squared_error: 0.1224 - precision: 0.9855 - val_loss: 0.7295 - val_mae: 0.1076 - val_root_mean_squared_error: 0.2379 - val_precision: 0.8322\n",
            "Epoch 4/15\n",
            "3582/3582 [==============================] - 42s 12ms/step - loss: 0.0808 - mae: 0.0177 - root_mean_squared_error: 0.0775 - precision: 0.9927 - val_loss: 0.8238 - val_mae: 0.1014 - val_root_mean_squared_error: 0.2432 - val_precision: 0.8200\n",
            "Epoch 5/15\n",
            "3582/3582 [==============================] - 42s 12ms/step - loss: 0.0302 - mae: 0.0065 - root_mean_squared_error: 0.0446 - precision: 0.9956 - val_loss: 0.9395 - val_mae: 0.1026 - val_root_mean_squared_error: 0.2533 - val_precision: 0.7940\n",
            "Epoch 6/15\n",
            "3582/3582 [==============================] - 43s 12ms/step - loss: 0.0156 - mae: 0.0025 - root_mean_squared_error: 0.0343 - precision: 0.9960 - val_loss: 1.0554 - val_mae: 0.1043 - val_root_mean_squared_error: 0.2617 - val_precision: 0.7727\n",
            "Epoch 7/15\n",
            "3582/3582 [==============================] - 43s 12ms/step - loss: 0.0121 - mae: 0.0017 - root_mean_squared_error: 0.0325 - precision: 0.9960 - val_loss: 1.1831 - val_mae: 0.1085 - val_root_mean_squared_error: 0.2704 - val_precision: 0.7553\n",
            "Epoch 8/15\n",
            "3582/3582 [==============================] - 43s 12ms/step - loss: 0.0110 - mae: 0.0015 - root_mean_squared_error: 0.0323 - precision: 0.9960 - val_loss: 1.3212 - val_mae: 0.1163 - val_root_mean_squared_error: 0.2828 - val_precision: 0.7232\n",
            "Epoch 9/15\n",
            "3582/3582 [==============================] - 43s 12ms/step - loss: 0.0105 - mae: 0.0014 - root_mean_squared_error: 0.0322 - precision: 0.9960 - val_loss: 1.4114 - val_mae: 0.1160 - val_root_mean_squared_error: 0.2855 - val_precision: 0.7185\n",
            "Epoch 10/15\n",
            "3582/3582 [==============================] - 45s 13ms/step - loss: 0.0101 - mae: 0.0014 - root_mean_squared_error: 0.0320 - precision: 0.9959 - val_loss: 1.5113 - val_mae: 0.1204 - val_root_mean_squared_error: 0.2928 - val_precision: 0.7010\n",
            "Epoch 11/15\n",
            "3582/3582 [==============================] - 43s 12ms/step - loss: 0.0096 - mae: 0.0014 - root_mean_squared_error: 0.0317 - precision: 0.9960 - val_loss: 1.5832 - val_mae: 0.1229 - val_root_mean_squared_error: 0.2966 - val_precision: 0.6912\n",
            "Epoch 12/15\n",
            "3582/3582 [==============================] - 42s 12ms/step - loss: 0.0093 - mae: 0.0014 - root_mean_squared_error: 0.0312 - precision: 0.9961 - val_loss: 1.5948 - val_mae: 0.1209 - val_root_mean_squared_error: 0.2956 - val_precision: 0.6942\n",
            "Epoch 13/15\n",
            "1558/3582 [============>.................] - ETA: 32s - loss: 0.0072 - mae: 0.0012 - root_mean_squared_error: 0.0280 - precision: 0.9965"
          ]
        }
      ],
      "source": [
        "history = NHF.fit([train_userID,train_userDATA, train_itemID ,train_itemDATA] , y_train , batch_size=32, epochs=15,validation_split=0.2)\n"
      ]
    },
    {
      "cell_type": "code",
      "execution_count": null,
      "metadata": {
        "colab": {
          "base_uri": "https://localhost:8080/",
          "height": 1000
        },
        "id": "JcyKC1YkECVa",
        "outputId": "f76e8052-0ae1-4116-ac27-f5512f4adde0"
      },
      "outputs": [
        {
          "output_type": "display_data",
          "data": {
            "text/plain": [
              "<Figure size 640x480 with 1 Axes>"
            ],
            "image/png": "[encoded data removed]"
          },
          "metadata": {}
        },
        {
          "output_type": "display_data",
          "data": {
            "text/plain": [
              "<Figure size 640x480 with 1 Axes>"
            ],
            "image/png": "[encoded data removed]"
          },
          "metadata": {}
        },
        {
          "output_type": "display_data",
          "data": {
            "text/plain": [
              "<Figure size 640x480 with 1 Axes>"
            ],
            "image/png": "[encoded data removed]"
          },
          "metadata": {}
        },
        {
          "output_type": "display_data",
          "data": {
            "text/plain": [
              "<Figure size 640x480 with 1 Axes>"
            ],
            "image/png": "[encoded data removed]"
          },
          "metadata": {}
        }
      ],
      "source": [
        "import matplotlib.pyplot as plt\n",
        "loss_curve= history.history[\"loss\"]\n",
        "acc_curve = history.history[\"precision\"]\n",
        "rmse_curve= history.history[\"root_mean_squared_error\"]\n",
        "mae_curve = history.history[\"mae\"]\n",
        "\n",
        "loss_val = history.history[\"val_loss\"]\n",
        "acc_val  = history.history[\"val_precision\"]\n",
        "rmse_val = history.history[\"val_root_mean_squared_error\"]\n",
        "mae_val  = history.history[\"val_mae\"]\n",
        "\n",
        "# ploter loss function\n",
        "def ploter(title , curve , valid):\n",
        "  plt.plot(curve , label = \"train\")\n",
        "  plt.plot(valid , label = \"validation\")\n",
        "  plt.legend(loc='upper left')\n",
        "  plt.ylim(0,4)\n",
        "  plt.title(title)\n",
        "  plt.show()\n",
        "\n",
        "ploter('loss' , loss_curve , loss_val)\n",
        "ploter('rmse' , rmse_curve , rmse_val)\n",
        "ploter('mae' , mae_curve , mae_val)\n",
        "ploter('acc' , acc_curve , acc_val)"
      ]
    },
    {
      "cell_type": "code",
      "execution_count": null,
      "metadata": {
        "id": "1y6KIh0nd9Yp"
      },
      "outputs": [],
      "source": [
        "test_userDATA = X_test[[]]\n",
        "\n",
        "test_itemDATA = X_test[['Arts, Crafts & Sewing','Sewing','Crafting',\n",
        "                 'Scrapbooking & Stamping',\t'Beading & Jewelry Making','Painting, Drawing & Art Supplies',\n",
        "                 'Painting',\t'Sewing Notions & Supplies','Die-Cutting & Embossing','Paper & Paper Crafts',\n",
        "                 'Knitting & Crochet','Die-Cuts','Beads & Bead Assortments',\t'Craft Supplies',\t'Drawing']]"
      ]
    },
    {
      "cell_type": "code",
      "execution_count": null,
      "metadata": {
        "id": "_BwW8ZfTfE6R"
      },
      "outputs": [],
      "source": [
        "test_userID = X_test['user_id']\n",
        "test_itemID = X_test['item_id']"
      ]
    },
    {
      "cell_type": "code",
      "execution_count": null,
      "metadata": {
        "colab": {
          "base_uri": "https://localhost:8080/"
        },
        "id": "U1Flv2mU9MwK",
        "outputId": "d2fd8471-5fe6-4903-e4ea-5caa9733239a"
      },
      "outputs": [
        {
          "output_type": "execute_result",
          "data": {
            "text/plain": [
              "(35816, 6)"
            ]
          },
          "metadata": {},
          "execution_count": 33
        }
      ],
      "source": [
        " from tensorflow.keras.utils import to_categorical\n",
        " y = to_categorical(y_test)\n",
        " y.shape"
      ]
    },
    {
      "cell_type": "code",
      "execution_count": null,
      "metadata": {
        "id": "YyHzF4te_3Va",
        "colab": {
          "base_uri": "https://localhost:8080/"
        },
        "outputId": "ace9b43b-354e-4c2a-aad8-e7d096153dbc"
      },
      "outputs": [
        {
          "output_type": "execute_result",
          "data": {
            "text/plain": [
              "array([[0., 0., 0., 0., 0., 1.],\n",
              "       [0., 0., 0., 0., 0., 1.],\n",
              "       [0., 0., 0., 0., 0., 1.],\n",
              "       [0., 0., 1., 0., 0., 0.],\n",
              "       [0., 0., 0., 0., 0., 1.]], dtype=float32)"
            ]
          },
          "metadata": {},
          "execution_count": 34
        }
      ],
      "source": [
        "y[0:5]"
      ]
    },
    {
      "cell_type": "code",
      "execution_count": null,
      "metadata": {
        "id": "kSYXC7rR9MKV"
      },
      "outputs": [],
      "source": [
        "y_test = tf.constant(y, shape=[y_test.shape[0], 6])"
      ]
    },
    {
      "cell_type": "code",
      "execution_count": null,
      "metadata": {
        "id": "Ex_H-fGFAoY3",
        "colab": {
          "base_uri": "https://localhost:8080/"
        },
        "outputId": "c83aeaf5-3d5c-44c7-d2ca-7e9990d4fa06"
      },
      "outputs": [
        {
          "output_type": "execute_result",
          "data": {
            "text/plain": [
              "<tf.Tensor: shape=(35816, 6), dtype=float32, numpy=\n",
              "array([[0., 0., 0., 0., 0., 1.],\n",
              "       [0., 0., 0., 0., 0., 1.],\n",
              "       [0., 0., 0., 0., 0., 1.],\n",
              "       ...,\n",
              "       [0., 0., 0., 0., 0., 1.],\n",
              "       [0., 0., 0., 0., 0., 1.],\n",
              "       [0., 0., 0., 0., 0., 1.]], dtype=float32)>"
            ]
          },
          "metadata": {},
          "execution_count": 36
        }
      ],
      "source": [
        "y_test"
      ]
    },
    {
      "cell_type": "code",
      "execution_count": null,
      "metadata": {
        "colab": {
          "base_uri": "https://localhost:8080/"
        },
        "id": "kK86aHqOfHTE",
        "outputId": "8997dea5-47b6-4d10-8862-23b12baed821"
      },
      "outputs": [
        {
          "output_type": "stream",
          "name": "stdout",
          "text": [
            "1120/1120 [==============================] - 4s 3ms/step - loss: 1.8906 - mae: 0.1013 - root_mean_squared_error: 0.2827 - precision: 0.7275\n"
          ]
        },
        {
          "output_type": "execute_result",
          "data": {
            "text/plain": [
              "[1.890588402748108,\n",
              " 0.10131844133138657,\n",
              " 0.2826771140098572,\n",
              " 0.7275431752204895]"
            ]
          },
          "metadata": {},
          "execution_count": 37
        }
      ],
      "source": [
        "NHF.evaluate([test_userID,test_userDATA,test_itemID,test_itemDATA],y_test)"
      ]
    },
    {
      "cell_type": "code",
      "execution_count": null,
      "metadata": {
        "id": "XdBmfl7q7OmY"
      },
      "outputs": [],
      "source": []
    },
    {
      "cell_type": "code",
      "source": [],
      "metadata": {
        "id": "XTOuxPEcYa8M"
      },
      "execution_count": null,
      "outputs": []
    },
    {
      "cell_type": "code",
      "source": [],
      "metadata": {
        "id": "eIN1Cx7OYavc"
      },
      "execution_count": null,
      "outputs": []
    },
    {
      "cell_type": "code",
      "source": [],
      "metadata": {
        "id": "DnrjXF9kYaju"
      },
      "execution_count": null,
      "outputs": []
    },
    {
      "cell_type": "code",
      "execution_count": null,
      "metadata": {
        "colab": {
          "base_uri": "https://localhost:8080/"
        },
        "id": "62SnON3V-dUp",
        "outputId": "64c9e78d-7a91-4747-be7a-0c5de200c2db"
      },
      "outputs": [
        {
          "output_type": "stream",
          "name": "stderr",
          "text": [
            "WARNING:absl:Function `_wrapped_model` contains input name(s) user_ID, item_ID with unsupported characters which will be renamed to user_id, item_id in the SavedModel.\n"
          ]
        }
      ],
      "source": [
        "NHF.save('TEST', save_format='tf')"
      ]
    },
    {
      "cell_type": "code",
      "execution_count": null,
      "metadata": {
        "id": "0As9RFc8Ha4d"
      },
      "outputs": [],
      "source": [
        "loaded_model_SA = tf.keras.models.load_model('TEST')"
      ]
    },
    {
      "cell_type": "code",
      "execution_count": null,
      "metadata": {
        "colab": {
          "base_uri": "https://localhost:8080/"
        },
        "id": "S15bJqTG_u-0",
        "outputId": "ba038fe0-dc0b-4544-d1eb-11b1b67e3bf1"
      },
      "outputs": [
        {
          "output_type": "stream",
          "name": "stdout",
          "text": [
            "250/250 [==============================] - 1s 3ms/step\n"
          ]
        }
      ],
      "source": [
        "\n",
        "sentiment = loaded_model_SA.predict([test_userID,test_userDATA,test_itemID,test_itemDATA])\n"
      ]
    },
    {
      "cell_type": "code",
      "source": [
        "sentiment"
      ],
      "metadata": {
        "id": "rj3cBHRnDCh3",
        "outputId": "d9c0b81d-f122-4c29-f6b7-d8722f6406b9",
        "colab": {
          "base_uri": "https://localhost:8080/"
        }
      },
      "execution_count": null,
      "outputs": [
        {
          "output_type": "execute_result",
          "data": {
            "text/plain": [
              "array([[4.23629332e-04, 2.28115963e-03, 5.52160665e-02, 8.33073020e-01,\n",
              "        1.09006055e-01],\n",
              "       [1.00846046e-04, 9.82405618e-03, 9.56954062e-02, 4.65850294e-01,\n",
              "        4.28529412e-01],\n",
              "       [3.70968628e-05, 3.18556093e-03, 9.88853276e-02, 7.81864941e-01,\n",
              "        1.16027057e-01],\n",
              "       ...,\n",
              "       [1.44032744e-10, 6.31279349e-08, 1.04489331e-07, 1.52885586e-05,\n",
              "        9.99984503e-01],\n",
              "       [2.07987875e-02, 1.10777274e-01, 2.56548464e-01, 1.42173976e-01,\n",
              "        4.69701529e-01],\n",
              "       [8.10321071e-04, 1.31733844e-03, 1.56305373e-01, 1.56194074e-02,\n",
              "        8.25947583e-01]], dtype=float32)"
            ]
          },
          "metadata": {},
          "execution_count": 233
        }
      ]
    }
  ],
  "metadata": {
    "accelerator": "GPU",
    "colab": {
      "provenance": [],
      "include_colab_link": true
    },
    "gpuClass": "standard",
    "kernelspec": {
      "display_name": "Python 3",
      "name": "python3"
    },
    "language_info": {
      "name": "python"
    }
  },
  "nbformat": 4,
  "nbformat_minor": 0
}