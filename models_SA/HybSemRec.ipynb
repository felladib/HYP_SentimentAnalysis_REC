{
  "cells": [
    {
      "cell_type": "markdown",
      "metadata": {
        "id": "view-in-github",
        "colab_type": "text"
      },
      "source": [
        "<a href=\"https://colab.research.google.com/github/felladib/H_SentimentAnalysis_REC/blob/main/HybSemRec.ipynb\" target=\"_parent\"><img src=\"https://colab.research.google.com/assets/colab-badge.svg\" alt=\"Open In Colab\"/></a>"
      ]
    },
    {
      "cell_type": "code",
      "execution_count": null,
      "metadata": {
        "colab": {
          "base_uri": "https://localhost:8080/"
        },
        "id": "NMZqeqb7rsEm",
        "outputId": "5657ba92-e122-4199-d8e7-795af532f514"
      },
      "outputs": [
        {
          "output_type": "stream",
          "name": "stdout",
          "text": [
            "Drive already mounted at /content/drive; to attempt to forcibly remount, call drive.mount(\"/content/drive\", force_remount=True).\n"
          ]
        }
      ],
      "source": [
        "from google.colab import drive\n",
        "drive.mount('/content/drive')"
      ]
    },
    {
      "cell_type": "code",
      "execution_count": null,
      "metadata": {
        "id": "ZkaLAIf4hGoV"
      },
      "outputs": [],
      "source": [
        "import tensorflow as tf\n",
        "import pandas as pd\n",
        "import numpy as np\n",
        "import math\n",
        "import matplotlib.pyplot as plt\n",
        "from sklearn.model_selection import train_test_split\n",
        "from keras import metrics\n",
        "from keras.layers import Embedding, Multiply, Dense, Dot, Conv2D, Input, Flatten\n",
        "from keras.layers import concatenate\n",
        "from keras.models import Model"
      ]
    },
    {
      "cell_type": "markdown",
      "metadata": {
        "id": "uizFP_8bxw6p"
      },
      "source": [
        "# **collection de données**"
      ]
    },
    {
      "cell_type": "markdown",
      "metadata": {
        "id": "S4e5LcxH3OfZ"
      },
      "source": [
        "**SA_data**"
      ]
    },
    {
      "cell_type": "code",
      "execution_count": null,
      "metadata": {
        "id": "JYpZjdLmx8r4"
      },
      "outputs": [],
      "source": [
        "ptr = pd.read_csv('/content/drive/MyDrive/Train.csv')\n",
        "pte = pd.read_csv('/content/drive/MyDrive/Test.csv')\n",
        "pv = pd.read_csv('/content/drive/MyDrive/Valid.csv')"
      ]
    },
    {
      "cell_type": "code",
      "execution_count": null,
      "metadata": {
        "id": "PNxdv8Y2x8oT"
      },
      "outputs": [],
      "source": [
        "X_train_rev = ptr['text']\n",
        "y_train_rev = ptr['label']\n",
        "X_test_rev = pte['text']\n",
        "y_test_rev = pte['label']\n",
        "X_val_rev = pv['text']\n",
        "y_val_rev = pv['label']"
      ]
    },
    {
      "cell_type": "markdown",
      "metadata": {
        "id": "H2fr9hg63b-E"
      },
      "source": [
        "**fake_reviews data**"
      ]
    },
    {
      "cell_type": "code",
      "execution_count": null,
      "metadata": {
        "id": "Xuem202G3rb7"
      },
      "outputs": [],
      "source": [
        "# open dataset pour cree la matrice de confiance :\n",
        "dataset = pd.read_csv('/content/drive/MyDrive/shopping_full_dataset.csv' ,nrows = 20000) #open dataset"
      ]
    },
    {
      "cell_type": "code",
      "execution_count": null,
      "metadata": {
        "colab": {
          "base_uri": "https://localhost:8080/",
          "height": 646
        },
        "id": "NPP5cnm7_ymq",
        "outputId": "e6eac662-d352-4fb8-8cb8-758169b7b943"
      },
      "outputs": [
        {
          "data": {
            "text/html": [
              "\n",
              "  <div id=\"df-ac005fa6-ad6f-405c-870d-183f8443e0fe\">\n",
              "    <div class=\"colab-df-container\">\n",
              "      <div>\n",
              "<style scoped>\n",
              "    .dataframe tbody tr th:only-of-type {\n",
              "        vertical-align: middle;\n",
              "    }\n",
              "\n",
              "    .dataframe tbody tr th {\n",
              "        vertical-align: top;\n",
              "    }\n",
              "\n",
              "    .dataframe thead th {\n",
              "        text-align: right;\n",
              "    }\n",
              "</style>\n",
              "<table border=\"1\" class=\"dataframe\">\n",
              "  <thead>\n",
              "    <tr style=\"text-align: right;\">\n",
              "      <th></th>\n",
              "      <th>Unnamed: 0</th>\n",
              "      <th>user_id</th>\n",
              "      <th>item_id</th>\n",
              "      <th>text</th>\n",
              "      <th>rating</th>\n",
              "      <th>fans</th>\n",
              "      <th>average_stars</th>\n",
              "      <th>friends</th>\n",
              "      <th>vote_funny</th>\n",
              "      <th>useful</th>\n",
              "      <th>...</th>\n",
              "      <th>TV Mounting</th>\n",
              "      <th>Car Auctions</th>\n",
              "      <th>Food Trucks</th>\n",
              "      <th>Waterproofing</th>\n",
              "      <th>Water Delivery</th>\n",
              "      <th>Food Delivery Services</th>\n",
              "      <th>Korean</th>\n",
              "      <th>Chicken Shop</th>\n",
              "      <th>Hospitals</th>\n",
              "      <th>valuer_conf</th>\n",
              "    </tr>\n",
              "  </thead>\n",
              "  <tbody>\n",
              "    <tr>\n",
              "      <th>0</th>\n",
              "      <td>0</td>\n",
              "      <td>0</td>\n",
              "      <td>1411</td>\n",
              "      <td>looking optometrist brady fantastic knowledgea...</td>\n",
              "      <td>4.5</td>\n",
              "      <td>5</td>\n",
              "      <td>3.93</td>\n",
              "      <td>982</td>\n",
              "      <td>16</td>\n",
              "      <td>68</td>\n",
              "      <td>...</td>\n",
              "      <td>0.0</td>\n",
              "      <td>0.0</td>\n",
              "      <td>0.0</td>\n",
              "      <td>0.0</td>\n",
              "      <td>0.0</td>\n",
              "      <td>0.0</td>\n",
              "      <td>0.0</td>\n",
              "      <td>0.0</td>\n",
              "      <td>0.0</td>\n",
              "      <td>1.000000</td>\n",
              "    </tr>\n",
              "    <tr>\n",
              "      <th>1</th>\n",
              "      <td>1</td>\n",
              "      <td>0</td>\n",
              "      <td>1823</td>\n",
              "      <td>fun best way absolutely adorable shop cornucop...</td>\n",
              "      <td>4.0</td>\n",
              "      <td>5</td>\n",
              "      <td>3.93</td>\n",
              "      <td>982</td>\n",
              "      <td>16</td>\n",
              "      <td>68</td>\n",
              "      <td>...</td>\n",
              "      <td>0.0</td>\n",
              "      <td>0.0</td>\n",
              "      <td>0.0</td>\n",
              "      <td>0.0</td>\n",
              "      <td>0.0</td>\n",
              "      <td>0.0</td>\n",
              "      <td>0.0</td>\n",
              "      <td>0.0</td>\n",
              "      <td>0.0</td>\n",
              "      <td>1.000000</td>\n",
              "    </tr>\n",
              "    <tr>\n",
              "      <th>2</th>\n",
              "      <td>2</td>\n",
              "      <td>1</td>\n",
              "      <td>1990</td>\n",
              "      <td>went birthday lunch definitely list went big d...</td>\n",
              "      <td>4.5</td>\n",
              "      <td>4</td>\n",
              "      <td>4.37</td>\n",
              "      <td>94</td>\n",
              "      <td>5</td>\n",
              "      <td>14</td>\n",
              "      <td>...</td>\n",
              "      <td>0.0</td>\n",
              "      <td>0.0</td>\n",
              "      <td>0.0</td>\n",
              "      <td>0.0</td>\n",
              "      <td>0.0</td>\n",
              "      <td>0.0</td>\n",
              "      <td>0.0</td>\n",
              "      <td>0.0</td>\n",
              "      <td>0.0</td>\n",
              "      <td>1.000000</td>\n",
              "    </tr>\n",
              "    <tr>\n",
              "      <th>3</th>\n",
              "      <td>3</td>\n",
              "      <td>2</td>\n",
              "      <td>224</td>\n",
              "      <td>special target pretty convenient location park...</td>\n",
              "      <td>4.0</td>\n",
              "      <td>18</td>\n",
              "      <td>3.64</td>\n",
              "      <td>8110</td>\n",
              "      <td>106</td>\n",
              "      <td>325</td>\n",
              "      <td>...</td>\n",
              "      <td>0.0</td>\n",
              "      <td>0.0</td>\n",
              "      <td>0.0</td>\n",
              "      <td>0.0</td>\n",
              "      <td>0.0</td>\n",
              "      <td>0.0</td>\n",
              "      <td>0.0</td>\n",
              "      <td>0.0</td>\n",
              "      <td>0.0</td>\n",
              "      <td>1.000000</td>\n",
              "    </tr>\n",
              "    <tr>\n",
              "      <th>4</th>\n",
              "      <td>4</td>\n",
              "      <td>2</td>\n",
              "      <td>383</td>\n",
              "      <td>wow place packed spirit place asked athletes a...</td>\n",
              "      <td>5.0</td>\n",
              "      <td>18</td>\n",
              "      <td>3.64</td>\n",
              "      <td>8110</td>\n",
              "      <td>106</td>\n",
              "      <td>325</td>\n",
              "      <td>...</td>\n",
              "      <td>0.0</td>\n",
              "      <td>0.0</td>\n",
              "      <td>0.0</td>\n",
              "      <td>0.0</td>\n",
              "      <td>0.0</td>\n",
              "      <td>0.0</td>\n",
              "      <td>0.0</td>\n",
              "      <td>0.0</td>\n",
              "      <td>0.0</td>\n",
              "      <td>0.850834</td>\n",
              "    </tr>\n",
              "  </tbody>\n",
              "</table>\n",
              "<p>5 rows × 686 columns</p>\n",
              "</div>\n",
              "      <button class=\"colab-df-convert\" onclick=\"convertToInteractive('df-ac005fa6-ad6f-405c-870d-183f8443e0fe')\"\n",
              "              title=\"Convert this dataframe to an interactive table.\"\n",
              "              style=\"display:none;\">\n",
              "        \n",
              "  <svg xmlns=\"http://www.w3.org/2000/svg\" height=\"24px\"viewBox=\"0 0 24 24\"\n",
              "       width=\"24px\">\n",
              "    <path d=\"M0 0h24v24H0V0z\" fill=\"none\"/>\n",
              "    <path d=\"M18.56 5.44l.94 2.06.94-2.06 2.06-.94-2.06-.94-.94-2.06-.94 2.06-2.06.94zm-11 1L8.5 8.5l.94-2.06 2.06-.94-2.06-.94L8.5 2.5l-.94 2.06-2.06.94zm10 10l.94 2.06.94-2.06 2.06-.94-2.06-.94-.94-2.06-.94 2.06-2.06.94z\"/><path d=\"M17.41 7.96l-1.37-1.37c-.4-.4-.92-.59-1.43-.59-.52 0-1.04.2-1.43.59L10.3 9.45l-7.72 7.72c-.78.78-.78 2.05 0 2.83L4 21.41c.39.39.9.59 1.41.59.51 0 1.02-.2 1.41-.59l7.78-7.78 2.81-2.81c.8-.78.8-2.07 0-2.86zM5.41 20L4 18.59l7.72-7.72 1.47 1.35L5.41 20z\"/>\n",
              "  </svg>\n",
              "      </button>\n",
              "      \n",
              "  <style>\n",
              "    .colab-df-container {\n",
              "      display:flex;\n",
              "      flex-wrap:wrap;\n",
              "      gap: 12px;\n",
              "    }\n",
              "\n",
              "    .colab-df-convert {\n",
              "      background-color: #E8F0FE;\n",
              "      border: none;\n",
              "      border-radius: 50%;\n",
              "      cursor: pointer;\n",
              "      display: none;\n",
              "      fill: #1967D2;\n",
              "      height: 32px;\n",
              "      padding: 0 0 0 0;\n",
              "      width: 32px;\n",
              "    }\n",
              "\n",
              "    .colab-df-convert:hover {\n",
              "      background-color: #E2EBFA;\n",
              "      box-shadow: 0px 1px 2px rgba(60, 64, 67, 0.3), 0px 1px 3px 1px rgba(60, 64, 67, 0.15);\n",
              "      fill: #174EA6;\n",
              "    }\n",
              "\n",
              "    [theme=dark] .colab-df-convert {\n",
              "      background-color: #3B4455;\n",
              "      fill: #D2E3FC;\n",
              "    }\n",
              "\n",
              "    [theme=dark] .colab-df-convert:hover {\n",
              "      background-color: #434B5C;\n",
              "      box-shadow: 0px 1px 3px 1px rgba(0, 0, 0, 0.15);\n",
              "      filter: drop-shadow(0px 1px 2px rgba(0, 0, 0, 0.3));\n",
              "      fill: #FFFFFF;\n",
              "    }\n",
              "  </style>\n",
              "\n",
              "      <script>\n",
              "        const buttonEl =\n",
              "          document.querySelector('#df-ac005fa6-ad6f-405c-870d-183f8443e0fe button.colab-df-convert');\n",
              "        buttonEl.style.display =\n",
              "          google.colab.kernel.accessAllowed ? 'block' : 'none';\n",
              "\n",
              "        async function convertToInteractive(key) {\n",
              "          const element = document.querySelector('#df-ac005fa6-ad6f-405c-870d-183f8443e0fe');\n",
              "          const dataTable =\n",
              "            await google.colab.kernel.invokeFunction('convertToInteractive',\n",
              "                                                     [key], {});\n",
              "          if (!dataTable) return;\n",
              "\n",
              "          const docLinkHtml = 'Like what you see? Visit the ' +\n",
              "            '<a target=\"_blank\" href=https://colab.research.google.com/notebooks/data_table.ipynb>data table notebook</a>'\n",
              "            + ' to learn more about interactive tables.';\n",
              "          element.innerHTML = '';\n",
              "          dataTable['output_type'] = 'display_data';\n",
              "          await google.colab.output.renderOutput(dataTable, element);\n",
              "          const docLink = document.createElement('div');\n",
              "          docLink.innerHTML = docLinkHtml;\n",
              "          element.appendChild(docLink);\n",
              "        }\n",
              "      </script>\n",
              "    </div>\n",
              "  </div>\n",
              "  "
            ],
            "text/plain": [
              "   Unnamed: 0  user_id  item_id  \\\n",
              "0           0        0     1411   \n",
              "1           1        0     1823   \n",
              "2           2        1     1990   \n",
              "3           3        2      224   \n",
              "4           4        2      383   \n",
              "\n",
              "                                                text  rating  fans  \\\n",
              "0  looking optometrist brady fantastic knowledgea...     4.5     5   \n",
              "1  fun best way absolutely adorable shop cornucop...     4.0     5   \n",
              "2  went birthday lunch definitely list went big d...     4.5     4   \n",
              "3  special target pretty convenient location park...     4.0    18   \n",
              "4  wow place packed spirit place asked athletes a...     5.0    18   \n",
              "\n",
              "   average_stars  friends  vote_funny  useful  ...  TV Mounting  Car Auctions  \\\n",
              "0           3.93      982          16      68  ...          0.0           0.0   \n",
              "1           3.93      982          16      68  ...          0.0           0.0   \n",
              "2           4.37       94           5      14  ...          0.0           0.0   \n",
              "3           3.64     8110         106     325  ...          0.0           0.0   \n",
              "4           3.64     8110         106     325  ...          0.0           0.0   \n",
              "\n",
              "   Food Trucks  Waterproofing  Water Delivery  Food Delivery Services  Korean  \\\n",
              "0          0.0            0.0             0.0                     0.0     0.0   \n",
              "1          0.0            0.0             0.0                     0.0     0.0   \n",
              "2          0.0            0.0             0.0                     0.0     0.0   \n",
              "3          0.0            0.0             0.0                     0.0     0.0   \n",
              "4          0.0            0.0             0.0                     0.0     0.0   \n",
              "\n",
              "   Chicken Shop  Hospitals  valuer_conf  \n",
              "0           0.0        0.0     1.000000  \n",
              "1           0.0        0.0     1.000000  \n",
              "2           0.0        0.0     1.000000  \n",
              "3           0.0        0.0     1.000000  \n",
              "4           0.0        0.0     0.850834  \n",
              "\n",
              "[5 rows x 686 columns]"
            ]
          },
          "execution_count": 47,
          "metadata": {},
          "output_type": "execute_result"
        }
      ],
      "source": [
        "# affichage de la matrice :\n",
        "dataset.head()"
      ]
    },
    {
      "cell_type": "code",
      "execution_count": null,
      "metadata": {
        "id": "7h6L-eWp38ym"
      },
      "outputs": [],
      "source": [
        "# C'est juste pour cree la mtrice de confiance :\n",
        "dataset   = dataset\n",
        "dataset_u = dataset.copy()\n",
        "dataset_i = dataset.copy()\n",
        "dataset_i = dataset_i.sort_values(by=['item_id'],axis=0, ascending = True)"
      ]
    },
    {
      "cell_type": "markdown",
      "metadata": {
        "id": "tsorjIPDiFPN"
      },
      "source": [
        "# **module de fake reviews**"
      ]
    },
    {
      "cell_type": "code",
      "execution_count": null,
      "metadata": {
        "id": "NbGASTTIhQrJ"
      },
      "outputs": [],
      "source": [
        "# relu fonction permet de retourner x or 0 dans le cas ou x<0\n",
        "def relu(x):\n",
        "    return (np.maximum(0,x))"
      ]
    },
    {
      "cell_type": "code",
      "execution_count": null,
      "metadata": {
        "id": "L6as2og-iN3b"
      },
      "outputs": [],
      "source": [
        "# relu fonction permet de retourner x or 0 dans le cas ou x<0\n",
        "def relu(x):\n",
        "    return (np.maximum(0,x))\n",
        "#  build_confidence_M fonction permet de retourner un vecteur qui contient la valeur de confiance pour chaque row (user , item ) dans notre dataset\n",
        "def build_confidence_M(dataset_item, dataset_user, emb_dataset ):\n",
        "  confidence_M = np.zeros(dataset_user.shape[0]) # intialiser la matrice par des zeros\n",
        "  i = 0\n",
        "  for index, row in emb_dataset.iterrows():\n",
        "    user   = row['user_id']\n",
        "    item   = row['item_id']\n",
        "    rating = row['rating']\n",
        "    # recupere l user qu'on veut lui calcule la valeur de confinace par rapport un item\n",
        "    if rating<= 3:\n",
        "      nb1 = 0\n",
        "      nb2 = 0\n",
        "      sum1 = 0\n",
        "      sum2 = 0\n",
        "      #  recperer tt les ratings de cet user par rapport au autre items\n",
        "      for x in dataset_user['user_id']:\n",
        "\n",
        "        if (user == dataset['user_id'][x]):\n",
        "          if (item != dataset['item_id'][x] and dataset['rating'][x] <= 3):\n",
        "            nb1 = nb1+1\n",
        "            sum1 = sum1 + dataset['rating'][x]\n",
        "      #  la moyenne de ratings\n",
        "      if(nb1!=0):\n",
        "        result1 = sum1/nb1 #la somme des ratings divisé par le nombre de ratings (<=3)\n",
        "        result1 = result1 - rating #rating : la note qu'a donné l'utilisateur considéré [i] à l'item considéré [i]\n",
        "        result1 = abs(result1)\n",
        "        result1 = result1 - 0.8  #0.8 :\n",
        "        result1 = - relu(result1) # ReLU : permet de remplacer les resultats négatifs par 0\n",
        "      else: result1 = 0\n",
        "      #  recuperer tt les ratings donner  par les autre users a cet item\n",
        "      for y in dataset_item['item_id']:\n",
        "\n",
        "        if (item == dataset['item_id'][y]):\n",
        "          if (user != dataset['user_id'][y] and dataset['rating'][y] <= 3):\n",
        "            nb2 = nb2+1\n",
        "            sum2 = sum2 + dataset['rating'][y]\n",
        "\n",
        "    #   calcule la moyenne de ratings\n",
        "      if(nb2!=0):\n",
        "        result2 = sum2/nb2\n",
        "        result2 = result2 - rating\n",
        "        result2 = abs(result2)\n",
        "        result2 = result2 - 0.8\n",
        "        result2 = - relu(result2)\n",
        "      else: result2 = 0\n",
        "      result = result1 + result2\n",
        "      result = math.exp(result)\n",
        "      # return result\n",
        "    # les meme etap si rating >3\n",
        "    elif rating > 3:\n",
        "      nb1 = 0\n",
        "      nb2 = 0\n",
        "      sum1 = 0\n",
        "      sum2 = 0\n",
        "      for x in dataset_user['user_id']:\n",
        "        if (user == dataset['user_id'][x]):\n",
        "          if (item != dataset['item_id'][x] and dataset['rating'][x] > 3):\n",
        "            nb1 = nb1+1\n",
        "            sum1 = sum1 + dataset['rating'][x]\n",
        "      if(nb1!=0):\n",
        "        result1 = sum1/nb1\n",
        "        result1 = result1 - rating\n",
        "        result1 = abs(result1)\n",
        "        result1 = result1 - 0.8\n",
        "        result1 = - relu(result1)\n",
        "      else: result1 = 0\n",
        "      for y in dataset_item['item_id']:\n",
        "        if (item == dataset['item_id'][y]):\n",
        "          if (user != dataset['user_id'][y] and dataset['rating'][y] > 3):\n",
        "            nb2 = nb2+1\n",
        "            sum2 = sum2 + dataset['rating'][y]\n",
        "      if(nb2!=0):\n",
        "        result2 = sum2/nb2\n",
        "        result2 = result2 - rating\n",
        "        result2 = abs(result2)\n",
        "        result2 = result2 - 0.8\n",
        "        result2 = - relu(result2)\n",
        "      else: result2 = 0\n",
        "      result = result1 + result2\n",
        "      result = math.exp(result)\n",
        "    # remplire la matrice par la valeur de confiance\n",
        "    confidence_M[i]=result\n",
        "    i = i+1\n",
        "  return confidence_M"
      ]
    },
    {
      "cell_type": "code",
      "execution_count": null,
      "metadata": {
        "id": "j5_aNfdBvQKG"
      },
      "outputs": [],
      "source": [
        "# build la matrice de confiance :\n",
        "conf_val = build_confidence_M(dataset_i , dataset_u , dataset[:1000])"
      ]
    },
    {
      "cell_type": "code",
      "execution_count": null,
      "metadata": {
        "id": "lxX3FaDG4nqr"
      },
      "outputs": [],
      "source": [
        "#  remplire la colonne de confiance pour chauqe user-item :\n",
        "dataset['valuer_conf'] = conf_val"
      ]
    },
    {
      "cell_type": "markdown",
      "metadata": {
        "id": "ZzO_TsIUv-gK"
      },
      "source": [
        "# **preprocessing avec bert model**"
      ]
    },
    {
      "cell_type": "code",
      "execution_count": null,
      "metadata": {
        "id": "X6_3w7QLwM0O",
        "colab": {
          "base_uri": "https://localhost:8080/"
        },
        "outputId": "38807896-e860-4f01-818f-2599969a9af9"
      },
      "outputs": [
        {
          "output_type": "stream",
          "name": "stdout",
          "text": [
            "\u001b[33mWARNING: Skipping tensorflow-text as it is not installed.\u001b[0m\u001b[33m\n",
            "\u001b[0mLooking in indexes: https://pypi.org/simple, https://us-python.pkg.dev/colab-wheels/public/simple/\n",
            "Collecting tensorflow-text\n",
            "  Downloading tensorflow_text-2.12.0-cp39-cp39-manylinux_2_17_x86_64.manylinux2014_x86_64.whl (6.0 MB)\n",
            "\u001b[2K     \u001b[90m━━━━━━━━━━━━━━━━━━━━━━━━━━━━━━━━━━━━━━━━\u001b[0m \u001b[32m6.0/6.0 MB\u001b[0m \u001b[31m94.6 MB/s\u001b[0m eta \u001b[36m0:00:00\u001b[0m\n",
            "\u001b[?25hRequirement already satisfied: tensorflow<2.13,>=2.12.0 in /usr/local/lib/python3.9/dist-packages (from tensorflow-text) (2.12.0)\n",
            "Requirement already satisfied: tensorflow-hub>=0.8.0 in /usr/local/lib/python3.9/dist-packages (from tensorflow-text) (0.13.0)\n",
            "Requirement already satisfied: packaging in /usr/local/lib/python3.9/dist-packages (from tensorflow<2.13,>=2.12.0->tensorflow-text) (23.0)\n",
            "Requirement already satisfied: flatbuffers>=2.0 in /usr/local/lib/python3.9/dist-packages (from tensorflow<2.13,>=2.12.0->tensorflow-text) (23.3.3)\n",
            "Requirement already satisfied: opt-einsum>=2.3.2 in /usr/local/lib/python3.9/dist-packages (from tensorflow<2.13,>=2.12.0->tensorflow-text) (3.3.0)\n",
            "Requirement already satisfied: gast<=0.4.0,>=0.2.1 in /usr/local/lib/python3.9/dist-packages (from tensorflow<2.13,>=2.12.0->tensorflow-text) (0.4.0)\n",
            "Requirement already satisfied: grpcio<2.0,>=1.24.3 in /usr/local/lib/python3.9/dist-packages (from tensorflow<2.13,>=2.12.0->tensorflow-text) (1.53.0)\n",
            "Requirement already satisfied: termcolor>=1.1.0 in /usr/local/lib/python3.9/dist-packages (from tensorflow<2.13,>=2.12.0->tensorflow-text) (2.2.0)\n",
            "Requirement already satisfied: keras<2.13,>=2.12.0 in /usr/local/lib/python3.9/dist-packages (from tensorflow<2.13,>=2.12.0->tensorflow-text) (2.12.0)\n",
            "Requirement already satisfied: setuptools in /usr/local/lib/python3.9/dist-packages (from tensorflow<2.13,>=2.12.0->tensorflow-text) (67.6.1)\n",
            "Requirement already satisfied: tensorflow-io-gcs-filesystem>=0.23.1 in /usr/local/lib/python3.9/dist-packages (from tensorflow<2.13,>=2.12.0->tensorflow-text) (0.32.0)\n",
            "Requirement already satisfied: typing-extensions>=3.6.6 in /usr/local/lib/python3.9/dist-packages (from tensorflow<2.13,>=2.12.0->tensorflow-text) (4.5.0)\n",
            "Requirement already satisfied: wrapt<1.15,>=1.11.0 in /usr/local/lib/python3.9/dist-packages (from tensorflow<2.13,>=2.12.0->tensorflow-text) (1.14.1)\n",
            "Requirement already satisfied: tensorflow-estimator<2.13,>=2.12.0 in /usr/local/lib/python3.9/dist-packages (from tensorflow<2.13,>=2.12.0->tensorflow-text) (2.12.0)\n",
            "Requirement already satisfied: six>=1.12.0 in /usr/local/lib/python3.9/dist-packages (from tensorflow<2.13,>=2.12.0->tensorflow-text) (1.16.0)\n",
            "Requirement already satisfied: h5py>=2.9.0 in /usr/local/lib/python3.9/dist-packages (from tensorflow<2.13,>=2.12.0->tensorflow-text) (3.8.0)\n",
            "Requirement already satisfied: absl-py>=1.0.0 in /usr/local/lib/python3.9/dist-packages (from tensorflow<2.13,>=2.12.0->tensorflow-text) (1.4.0)\n",
            "Requirement already satisfied: libclang>=13.0.0 in /usr/local/lib/python3.9/dist-packages (from tensorflow<2.13,>=2.12.0->tensorflow-text) (16.0.0)\n",
            "Requirement already satisfied: jax>=0.3.15 in /usr/local/lib/python3.9/dist-packages (from tensorflow<2.13,>=2.12.0->tensorflow-text) (0.4.7)\n",
            "Requirement already satisfied: numpy<1.24,>=1.22 in /usr/local/lib/python3.9/dist-packages (from tensorflow<2.13,>=2.12.0->tensorflow-text) (1.22.4)\n",
            "Requirement already satisfied: astunparse>=1.6.0 in /usr/local/lib/python3.9/dist-packages (from tensorflow<2.13,>=2.12.0->tensorflow-text) (1.6.3)\n",
            "Requirement already satisfied: protobuf!=4.21.0,!=4.21.1,!=4.21.2,!=4.21.3,!=4.21.4,!=4.21.5,<5.0.0dev,>=3.20.3 in /usr/local/lib/python3.9/dist-packages (from tensorflow<2.13,>=2.12.0->tensorflow-text) (3.20.3)\n",
            "Requirement already satisfied: google-pasta>=0.1.1 in /usr/local/lib/python3.9/dist-packages (from tensorflow<2.13,>=2.12.0->tensorflow-text) (0.2.0)\n",
            "Requirement already satisfied: tensorboard<2.13,>=2.12 in /usr/local/lib/python3.9/dist-packages (from tensorflow<2.13,>=2.12.0->tensorflow-text) (2.12.0)\n",
            "Requirement already satisfied: wheel<1.0,>=0.23.0 in /usr/local/lib/python3.9/dist-packages (from astunparse>=1.6.0->tensorflow<2.13,>=2.12.0->tensorflow-text) (0.40.0)\n",
            "Requirement already satisfied: ml-dtypes>=0.0.3 in /usr/local/lib/python3.9/dist-packages (from jax>=0.3.15->tensorflow<2.13,>=2.12.0->tensorflow-text) (0.0.4)\n",
            "Requirement already satisfied: scipy>=1.7 in /usr/local/lib/python3.9/dist-packages (from jax>=0.3.15->tensorflow<2.13,>=2.12.0->tensorflow-text) (1.10.1)\n",
            "Requirement already satisfied: markdown>=2.6.8 in /usr/local/lib/python3.9/dist-packages (from tensorboard<2.13,>=2.12->tensorflow<2.13,>=2.12.0->tensorflow-text) (3.4.3)\n",
            "Requirement already satisfied: tensorboard-plugin-wit>=1.6.0 in /usr/local/lib/python3.9/dist-packages (from tensorboard<2.13,>=2.12->tensorflow<2.13,>=2.12.0->tensorflow-text) (1.8.1)\n",
            "Requirement already satisfied: google-auth<3,>=1.6.3 in /usr/local/lib/python3.9/dist-packages (from tensorboard<2.13,>=2.12->tensorflow<2.13,>=2.12.0->tensorflow-text) (2.17.0)\n",
            "Requirement already satisfied: werkzeug>=1.0.1 in /usr/local/lib/python3.9/dist-packages (from tensorboard<2.13,>=2.12->tensorflow<2.13,>=2.12.0->tensorflow-text) (2.2.3)\n",
            "Requirement already satisfied: google-auth-oauthlib<0.5,>=0.4.1 in /usr/local/lib/python3.9/dist-packages (from tensorboard<2.13,>=2.12->tensorflow<2.13,>=2.12.0->tensorflow-text) (0.4.6)\n",
            "Requirement already satisfied: requests<3,>=2.21.0 in /usr/local/lib/python3.9/dist-packages (from tensorboard<2.13,>=2.12->tensorflow<2.13,>=2.12.0->tensorflow-text) (2.27.1)\n",
            "Requirement already satisfied: tensorboard-data-server<0.8.0,>=0.7.0 in /usr/local/lib/python3.9/dist-packages (from tensorboard<2.13,>=2.12->tensorflow<2.13,>=2.12.0->tensorflow-text) (0.7.0)\n",
            "Requirement already satisfied: rsa<5,>=3.1.4 in /usr/local/lib/python3.9/dist-packages (from google-auth<3,>=1.6.3->tensorboard<2.13,>=2.12->tensorflow<2.13,>=2.12.0->tensorflow-text) (4.9)\n",
            "Requirement already satisfied: cachetools<6.0,>=2.0.0 in /usr/local/lib/python3.9/dist-packages (from google-auth<3,>=1.6.3->tensorboard<2.13,>=2.12->tensorflow<2.13,>=2.12.0->tensorflow-text) (5.3.0)\n",
            "Requirement already satisfied: pyasn1-modules>=0.2.1 in /usr/local/lib/python3.9/dist-packages (from google-auth<3,>=1.6.3->tensorboard<2.13,>=2.12->tensorflow<2.13,>=2.12.0->tensorflow-text) (0.2.8)\n",
            "Requirement already satisfied: requests-oauthlib>=0.7.0 in /usr/local/lib/python3.9/dist-packages (from google-auth-oauthlib<0.5,>=0.4.1->tensorboard<2.13,>=2.12->tensorflow<2.13,>=2.12.0->tensorflow-text) (1.3.1)\n",
            "Requirement already satisfied: importlib-metadata>=4.4 in /usr/local/lib/python3.9/dist-packages (from markdown>=2.6.8->tensorboard<2.13,>=2.12->tensorflow<2.13,>=2.12.0->tensorflow-text) (6.1.0)\n",
            "Requirement already satisfied: idna<4,>=2.5 in /usr/local/lib/python3.9/dist-packages (from requests<3,>=2.21.0->tensorboard<2.13,>=2.12->tensorflow<2.13,>=2.12.0->tensorflow-text) (3.4)\n",
            "Requirement already satisfied: urllib3<1.27,>=1.21.1 in /usr/local/lib/python3.9/dist-packages (from requests<3,>=2.21.0->tensorboard<2.13,>=2.12->tensorflow<2.13,>=2.12.0->tensorflow-text) (1.26.15)\n",
            "Requirement already satisfied: certifi>=2017.4.17 in /usr/local/lib/python3.9/dist-packages (from requests<3,>=2.21.0->tensorboard<2.13,>=2.12->tensorflow<2.13,>=2.12.0->tensorflow-text) (2022.12.7)\n",
            "Requirement already satisfied: charset-normalizer~=2.0.0 in /usr/local/lib/python3.9/dist-packages (from requests<3,>=2.21.0->tensorboard<2.13,>=2.12->tensorflow<2.13,>=2.12.0->tensorflow-text) (2.0.12)\n",
            "Requirement already satisfied: MarkupSafe>=2.1.1 in /usr/local/lib/python3.9/dist-packages (from werkzeug>=1.0.1->tensorboard<2.13,>=2.12->tensorflow<2.13,>=2.12.0->tensorflow-text) (2.1.2)\n",
            "Requirement already satisfied: zipp>=0.5 in /usr/local/lib/python3.9/dist-packages (from importlib-metadata>=4.4->markdown>=2.6.8->tensorboard<2.13,>=2.12->tensorflow<2.13,>=2.12.0->tensorflow-text) (3.15.0)\n",
            "Requirement already satisfied: pyasn1<0.5.0,>=0.4.6 in /usr/local/lib/python3.9/dist-packages (from pyasn1-modules>=0.2.1->google-auth<3,>=1.6.3->tensorboard<2.13,>=2.12->tensorflow<2.13,>=2.12.0->tensorflow-text) (0.4.8)\n",
            "Requirement already satisfied: oauthlib>=3.0.0 in /usr/local/lib/python3.9/dist-packages (from requests-oauthlib>=0.7.0->google-auth-oauthlib<0.5,>=0.4.1->tensorboard<2.13,>=2.12->tensorflow<2.13,>=2.12.0->tensorflow-text) (3.2.2)\n",
            "Installing collected packages: tensorflow-text\n",
            "Successfully installed tensorflow-text-2.12.0\n"
          ]
        }
      ],
      "source": [
        "# !pip uninstall tensorflow\n",
        "!pip uninstall tensorflow-text\n",
        "# !pip install tensorflow\n",
        "!pip install tensorflow-text"
      ]
    },
    {
      "cell_type": "code",
      "execution_count": null,
      "metadata": {
        "colab": {
          "base_uri": "https://localhost:8080/"
        },
        "id": "5DGjPaGO_rt9",
        "outputId": "d49246cc-5b03-46b7-e7d4-2044f6cec93c"
      },
      "outputs": [
        {
          "name": "stdout",
          "output_type": "stream",
          "text": [
            "Looking in indexes: https://pypi.org/simple, https://us-python.pkg.dev/colab-wheels/public/simple/\n",
            "Requirement already satisfied: tensorflow_hub in /usr/local/lib/python3.9/dist-packages (0.13.0)\n",
            "Requirement already satisfied: numpy>=1.12.0 in /usr/local/lib/python3.9/dist-packages (from tensorflow_hub) (1.22.4)\n",
            "Requirement already satisfied: protobuf>=3.19.6 in /usr/local/lib/python3.9/dist-packages (from tensorflow_hub) (3.20.3)\n"
          ]
        }
      ],
      "source": [
        "!pip install --upgrade tensorflow_hub\n",
        "# !pip install tensorflow-text"
      ]
    },
    {
      "cell_type": "code",
      "execution_count": null,
      "metadata": {
        "id": "J4eZZhQ7wciw"
      },
      "outputs": [],
      "source": [
        "import tensorflow_hub as hub\n",
        "import tensorflow_text as text"
      ]
    },
    {
      "cell_type": "code",
      "execution_count": null,
      "metadata": {
        "id": "nx7H6OMvwt5v"
      },
      "outputs": [],
      "source": [
        "bert_preprocess = hub.KerasLayer('https://tfhub.dev/tensorflow/bert_en_uncased_preprocess/3')\n",
        "bert_encoder = hub.KerasLayer('https://tfhub.dev/tensorflow/bert_en_uncased_L-12_H-768_A-12/4')"
      ]
    },
    {
      "cell_type": "code",
      "execution_count": null,
      "metadata": {
        "id": "KI6dx5a4wu_o"
      },
      "outputs": [],
      "source": [
        "from keras.engine import training\n",
        "text_input = tf.keras.layers.Input(shape=(), dtype=tf.string, name=\"text\")\n",
        "preprocessed_text = bert_preprocess(text_input)\n",
        "outputs = bert_encoder(preprocessed_text ,training = False)\n",
        "\n",
        "preprocessing_model = tf.keras.Model(inputs=text_input, outputs=outputs['sequence_output'])\n",
        "\n"
      ]
    },
    {
      "cell_type": "markdown",
      "metadata": {
        "id": "ob76zFWvjXzn"
      },
      "source": [
        "# **module d'analyse de sentiment**"
      ]
    },
    {
      "cell_type": "code",
      "execution_count": null,
      "metadata": {
        "id": "3Yq5fu-x98UX"
      },
      "outputs": [],
      "source": [
        "from keras import metrics\n",
        "rmse = metrics.RootMeanSquaredError()\n",
        "precision = metrics.Precision()"
      ]
    },
    {
      "cell_type": "markdown",
      "metadata": {
        "id": "xhuG2S1Xj7bA"
      },
      "source": [
        "## **classe LSTM**"
      ]
    },
    {
      "cell_type": "code",
      "execution_count": null,
      "metadata": {
        "id": "1uetTAJrieQD"
      },
      "outputs": [],
      "source": [
        "class MyLSTM(tf.keras.Model):\n",
        "    def __init__(self,units,preprocessing_model,l1=0,l2=0 , droup_val=0):\n",
        "        super(MyLSTM, self).__init__()\n",
        "        self.preprocessing_model = preprocessing_model\n",
        "        self.lstm                = tf.keras.layers.LSTM(units,\n",
        "                                                        # input_shape=(1, 128,768),\n",
        "                                                        return_sequences=True,\n",
        "                                                        kernel_regularizer=tf.keras.regularizers.L1L2(l1=l1, l2=l2),\n",
        "                                                        name='lstm1')\n",
        "        self.dropout             = tf.keras.layers.Dropout(droup_val , name='dropout')\n",
        "        self.flatten             = tf.keras.layers.Flatten(name='flatten')\n",
        "        self.dense1              = tf.keras.layers.Dense(128,kernel_regularizer=tf.keras.regularizers.l2( l2=l2),activation='tanh', name='dense1')\n",
        "        self.dense2              = tf.keras.layers.Dense(16,activation='relu' , name='dense1')\n",
        "        self.dense3              = tf.keras.layers.Dense(1 , activation = 'sigmoid' , name ='output')\n",
        "\n",
        "    def call(self, inputs):\n",
        "        x = self.preprocessing_model(inputs)\n",
        "        x = self.lstm(x)\n",
        "        x = self.dropout(x)\n",
        "        x = self.flatten(x)\n",
        "        x = self.dense1(x)\n",
        "        x = self.dense2(x)\n",
        "        return self.dense3(x)\n",
        "\n"
      ]
    },
    {
      "cell_type": "markdown",
      "metadata": {
        "id": "Bqgh8nsCl_xb"
      },
      "source": [
        "**entrainement LSTM**"
      ]
    },
    {
      "cell_type": "code",
      "execution_count": null,
      "metadata": {
        "id": "AQLhHbPSmMHx"
      },
      "outputs": [],
      "source": [
        "units = 32\n",
        "l1= 5e-3\n",
        "l2= 5e-3\n",
        "BATCH_SIZE = 32\n",
        "EPOCHS = 20\n",
        "droup_val =0.3"
      ]
    },
    {
      "cell_type": "code",
      "execution_count": null,
      "metadata": {
        "id": "mdoT6NtkmDig"
      },
      "outputs": [],
      "source": [
        "model_sa=MyLSTM(units,preprocessing_model,l1,l2 , droup_val)"
      ]
    },
    {
      "cell_type": "code",
      "execution_count": null,
      "metadata": {
        "id": "sgo9JPQZml91"
      },
      "outputs": [],
      "source": [
        "model_sa.compile(optimizer='adam', loss='binary_crossentropy', metrics=['accuracy','mae', metrics.RootMeanSquaredError()])"
      ]
    },
    {
      "cell_type": "code",
      "execution_count": null,
      "metadata": {
        "id": "oR1rtcccvvA-"
      },
      "outputs": [],
      "source": [
        "history = model_sa.fit(X_train_rev, y_train_rev, epochs=EPOCHS, batch_size= BATCH_SIZE, validation_data=(X_val_rev, y_val_rev))"
      ]
    },
    {
      "cell_type": "code",
      "execution_count": null,
      "metadata": {
        "id": "wt4plq7geOF3"
      },
      "outputs": [],
      "source": [
        "import matplotlib.pyplot as plt\n",
        "loss_curve= history.history[\"loss\"]\n",
        "acc_curve = history.history[\"accuracy\"]\n",
        "rmse_curve= history.history[\"root_mean_squared_error\"]\n",
        "mae_curve = history.history[\"mae\"]\n",
        "\n",
        "loss_val = history.history[\"val_loss\"]\n",
        "acc_val  = history.history[\"val_accuracy\"]\n",
        "rmse_val = history.history[\"val_root_mean_squared_error\"]\n",
        "mae_val  = history.history[\"val_mae\"]\n",
        "\n",
        "# ploter loss function\n",
        "def ploter(title , curve , valid)\n",
        "  plt.plot(curve , label = \"train\")\n",
        "  plt.plot(valid , label = \"validation\")\n",
        "  plt.legend(loc='upper left')\n",
        "  plt.title(title)\n",
        "  plt.show()\n",
        "\n",
        "ploter('loss' , loss_curve , loss_val)\n",
        "ploter('rmse' , rmse_curve , rsme_val)\n",
        "ploter('mae' , mae_curve , mae_val)\n",
        "ploter('acc' , acc_curve , acc_val)\n"
      ]
    },
    {
      "cell_type": "markdown",
      "metadata": {
        "id": "DXAGDE9ZWpLf"
      },
      "source": [
        "**test LSTM**"
      ]
    },
    {
      "cell_type": "code",
      "execution_count": null,
      "metadata": {
        "id": "AVzpW-qgedD7"
      },
      "outputs": [],
      "source": [
        "score = model_sa.evaluate(X_test_rev , y_test_rev)"
      ]
    },
    {
      "cell_type": "code",
      "execution_count": null,
      "metadata": {
        "id": "eLEiljUAelk8"
      },
      "outputs": [],
      "source": [
        "score"
      ]
    },
    {
      "cell_type": "markdown",
      "metadata": {
        "id": "uBMWVi2NkJZI"
      },
      "source": [
        "## **classe BiLstm**"
      ]
    },
    {
      "cell_type": "code",
      "execution_count": null,
      "metadata": {
        "id": "AZ52Tu3pkIGx"
      },
      "outputs": [],
      "source": [
        "class MyBiLstm(tf.keras.Model):\n",
        "        def __init__(self,preprocessing_model,units ,l1=0,l2=0 ,droup_val=0):\n",
        "            super(MyBiLstm, self).__init__()\n",
        "            self.preprocessing_model = preprocessing_model\n",
        "            self.bilstm              = tf.keras.layers.Bidirectional(tf.keras.layers.LSTM(int(units/2),\n",
        "                                                                    return_sequences=True,\n",
        "                                                                    # input_shape=(None , 128 , 768),\n",
        "                                                                    kernel_regularizer=tf.keras.regularizers.L1L2(l1=l1, l2=l2),\n",
        "                                                                    name='bilstm1'))\n",
        "            self.dropout             = tf.keras.layers.Dropout(droup_val)\n",
        "            self.flatten             = tf.keras.layers.Flatten()\n",
        "            self.dense1              = tf.keras.layers.Dense(128,kernel_regularizer=tf.keras.regularizers.l2(l2=l2),activation='tanh')\n",
        "            self.dense2              = tf.keras.layers.Dense(5,kernel_regularizer=tf.keras.regularizers.l2( l2=l2),activation='relu')\n",
        "            self.dense3              = tf.keras.layers.Dense(1 , activation = 'sigmoid' , name ='output')\n",
        "\n",
        "\n",
        "        def call(self, inputs):\n",
        "            x = self.preprocessing_model(inputs)\n",
        "            x = self.bilstm(x)\n",
        "            x = self.dropout(x)\n",
        "            x = self.flatten(x)\n",
        "            x = self.dense1(x)\n",
        "            x = self.dense2(x)\n",
        "            return self.dense3(x)\n"
      ]
    },
    {
      "cell_type": "markdown",
      "metadata": {
        "id": "Eulvi7xFoGkk"
      },
      "source": [
        "**Entrainement BiLSTM**"
      ]
    },
    {
      "cell_type": "code",
      "execution_count": null,
      "metadata": {
        "id": "Kh0DCAHUoGk4"
      },
      "outputs": [],
      "source": [
        "units = 16\n",
        "l1= 5e-3\n",
        "l2= 5e-3\n",
        "droup_val = 0.3\n",
        "BATCH_SIZE = 32\n",
        "EPOCHS = 15"
      ]
    },
    {
      "cell_type": "code",
      "execution_count": null,
      "metadata": {
        "id": "SuGVlg4GoGk4"
      },
      "outputs": [],
      "source": [
        "model_sa=MyBiLstm(preprocessing_model,units,l1,l2 , droup_val)"
      ]
    },
    {
      "cell_type": "code",
      "execution_count": null,
      "metadata": {
        "id": "tfWHSAaXzyP0"
      },
      "outputs": [],
      "source": [
        "model_sa.compile(optimizer='adam', loss='binary_crossentropy', metrics=['accuracy','mae', metrics.RootMeanSquaredError()])"
      ]
    },
    {
      "cell_type": "code",
      "execution_count": null,
      "metadata": {
        "id": "TPcawFeRzxi-"
      },
      "outputs": [],
      "source": [
        "history = model_sa.fit(X_train_rev, y_train_rev, epochs=EPOCHS, batch_size= BATCH_SIZE, validation_data=(X_val_rev, y_val_rev))"
      ]
    },
    {
      "cell_type": "code",
      "execution_count": null,
      "metadata": {
        "id": "eArUz7_S0K8A"
      },
      "outputs": [],
      "source": [
        "import matplotlib.pyplot as plt\n",
        "loss_curve= history.history[\"loss\"]\n",
        "acc_curve = history.history[\"accuracy\"]\n",
        "rmse_curve= history.history[\"root_mean_squared_error\"]\n",
        "mae_curve = history.history[\"mae\"]\n",
        "\n",
        "loss_val = history.history[\"val_loss\"]\n",
        "acc_val  = history.history[\"val_accuracy\"]\n",
        "rmse_val = history.history[\"val_root_mean_squared_error\"]\n",
        "mae_val  = history.history[\"val_mae\"]\n",
        "\n",
        "# ploter loss function\n",
        "def ploter(title , curve , valid)\n",
        "  plt.plot(curve , label = \"train\")\n",
        "  plt.plot(valid , label = \"validation\")\n",
        "  plt.legend(loc='upper left')\n",
        "  plt.title(title)\n",
        "  plt.show()\n",
        "\n",
        "ploter('loss' , loss_curve , loss_val)\n",
        "ploter('rmse' , rmse_curve , rsme_val)\n",
        "ploter('mae' , mae_curve , mae_val)\n",
        "ploter('acc' , acc_curve , acc_val)\n",
        "\n"
      ]
    },
    {
      "cell_type": "markdown",
      "metadata": {
        "id": "G9ZztbAsXEDX"
      },
      "source": [
        "**test BiLstm**"
      ]
    },
    {
      "cell_type": "code",
      "execution_count": null,
      "metadata": {
        "id": "9w1CAYbv2uRQ"
      },
      "outputs": [],
      "source": [
        "scores= model_sa.evaluate(X_test_rev,y_test_rev,verbose=0)"
      ]
    },
    {
      "cell_type": "code",
      "execution_count": null,
      "metadata": {
        "colab": {
          "base_uri": "https://localhost:8080/"
        },
        "id": "fgHFMwx_2vIl",
        "outputId": "6ec248d2-fae6-4096-91f9-dc0c1e660d48"
      },
      "outputs": [
        {
          "data": {
            "text/plain": [
              "[0.479573130607605, 0.8543999791145325, 0.2415805160999298, 0.3291526734828949]"
            ]
          },
          "execution_count": 73,
          "metadata": {},
          "output_type": "execute_result"
        }
      ],
      "source": [
        "scores"
      ]
    },
    {
      "cell_type": "code",
      "execution_count": null,
      "metadata": {
        "id": "EqlnhISbiLK7"
      },
      "outputs": [],
      "source": [
        "print(y_test_rev[1000:1007])\n",
        "print(X_test_rev[1000:1007])\n",
        "model_sa.predict(X_test_rev[1000:1007])"
      ]
    },
    {
      "cell_type": "markdown",
      "metadata": {
        "id": "icicUZkpkRCn"
      },
      "source": [
        "## **classe BiLstmCnn**"
      ]
    },
    {
      "cell_type": "code",
      "execution_count": null,
      "metadata": {
        "id": "g5rY4CzEkQaT"
      },
      "outputs": [],
      "source": [
        "class MyBiLstmCnn(tf.keras.Model):\n",
        "        def __init__(self,preprocessing_model , units , l1=0 , l2=0 , droup_val = 0):\n",
        "            super(MyBiLstmCnn, self).__init__()\n",
        "            self.preprocessing_model = preprocessing_model\n",
        "            self.bilstm              = tf.keras.layers.Bidirectional(tf.keras.layers.LSTM(int(units/2),\n",
        "                                                                    return_sequences=True,\n",
        "                                                                    input_shape=(None , 128 , 768),\n",
        "                                                                    kernel_regularizer=tf.keras.regularizers.L1L2(l1=l1, l2=l2),\n",
        "                                                                    name='bilstm1'))\n",
        "            self.cnn                 = tf.keras.layers.Conv1D(64,3,activation=\"relu\",padding=\"valid\")\n",
        "            self.maxpooling          = tf.keras.layers.GlobalMaxPooling1D()\n",
        "            self.dropout             = tf.keras.layers.Dropout(droup_val)\n",
        "            self.flatten             = tf.keras.layers.Flatten()\n",
        "            self.dense1              = tf.keras.layers.Dense(128,kernel_regularizer=tf.keras.regularizers.l2(l2=l2),activation='relu')\n",
        "            # self.dense2              = tf.keras.layers.Dense(5 , activation='relu')\n",
        "            self.dense3              = tf.keras.layers.Dense(1 , activation = 'sigmoid' , name ='output')\n",
        "\n",
        "\n",
        "        def call(self, inputs):\n",
        "            x = self.preprocessing_model(inputs)\n",
        "            x = self.bilstm(x)\n",
        "            x = self.cnn(x)\n",
        "            x = self.maxpooling (x)\n",
        "            x = self.dropout(x)\n",
        "            x = self.flatten(x)\n",
        "            x = self.dense1(x)\n",
        "            # x = self.dense2(x)\n",
        "            return self.dense3(x)\n",
        ""
      ]
    },
    {
      "cell_type": "markdown",
      "metadata": {
        "id": "HqVwxRpuoH8l"
      },
      "source": [
        "**TEST Bilstm cnn**"
      ]
    },
    {
      "cell_type": "code",
      "execution_count": null,
      "metadata": {
        "id": "KYNth7e5oH8m"
      },
      "outputs": [],
      "source": [
        "units = 32\n",
        "l1= 5e-3\n",
        "l2= 5e-3\n",
        "droup_val = 0.5\n",
        "EPOCH = 15\n",
        "BATCH_SIZE = 32"
      ]
    },
    {
      "cell_type": "code",
      "execution_count": null,
      "metadata": {
        "id": "NkXKRWG9oH8n"
      },
      "outputs": [],
      "source": [
        "model_sa=MyBiLstmCnn(preprocessing_model , units , l1, l2 , droup_val)"
      ]
    },
    {
      "cell_type": "code",
      "execution_count": null,
      "metadata": {
        "id": "wPxsyYJYoH8n"
      },
      "outputs": [],
      "source": [
        "model_sa.compile(optimizer='adam', loss='binary_crossentropy', metrics=['accuracy','mae', metrics.RootMeanSquaredError()])"
      ]
    },
    {
      "cell_type": "code",
      "execution_count": null,
      "metadata": {
        "colab": {
          "base_uri": "https://localhost:8080/"
        },
        "id": "6SFZHSEkTbew",
        "outputId": "30f200b1-213e-4bd2-d2dc-dbf502913508"
      },
      "outputs": [
        {
          "name": "stdout",
          "output_type": "stream",
          "text": [
            "Epoch 1/15\n",
            "1250/1250 [==============================] - 586s 444ms/step - loss: 1.2382 - accuracy: 0.7909 - mae: 0.2907 - root_mean_squared_error: 0.3784 - val_loss: 0.5749 - val_accuracy: 0.8334 - val_mae: 0.2309 - val_root_mean_squared_error: 0.3422\n",
            "Epoch 2/15\n",
            "1250/1250 [==============================] - 568s 454ms/step - loss: 0.5860 - accuracy: 0.8312 - mae: 0.2429 - root_mean_squared_error: 0.3466 - val_loss: 0.5800 - val_accuracy: 0.8266 - val_mae: 0.2393 - val_root_mean_squared_error: 0.3467\n",
            "Epoch 3/15\n",
            "1250/1250 [==============================] - 551s 441ms/step - loss: 0.5752 - accuracy: 0.8303 - mae: 0.2404 - root_mean_squared_error: 0.3457 - val_loss: 0.5880 - val_accuracy: 0.8148 - val_mae: 0.2408 - val_root_mean_squared_error: 0.3605\n",
            "Epoch 4/15\n",
            "1250/1250 [==============================] - 549s 439ms/step - loss: 0.5694 - accuracy: 0.8335 - mae: 0.2368 - root_mean_squared_error: 0.3434 - val_loss: 0.5540 - val_accuracy: 0.8428 - val_mae: 0.2180 - val_root_mean_squared_error: 0.3345\n",
            "Epoch 5/15\n",
            "1250/1250 [==============================] - 552s 442ms/step - loss: 0.5632 - accuracy: 0.8346 - mae: 0.2371 - root_mean_squared_error: 0.3435 - val_loss: 0.5543 - val_accuracy: 0.8360 - val_mae: 0.2605 - val_root_mean_squared_error: 0.3451\n",
            "Epoch 6/15\n",
            "1250/1250 [==============================] - 548s 438ms/step - loss: 0.5605 - accuracy: 0.8350 - mae: 0.2347 - root_mean_squared_error: 0.3418 - val_loss: 0.5613 - val_accuracy: 0.8272 - val_mae: 0.2432 - val_root_mean_squared_error: 0.3495\n",
            "Epoch 7/15\n",
            "1250/1250 [==============================] - 546s 437ms/step - loss: 0.5542 - accuracy: 0.8359 - mae: 0.2326 - root_mean_squared_error: 0.3403 - val_loss: 0.5325 - val_accuracy: 0.8472 - val_mae: 0.2278 - val_root_mean_squared_error: 0.3315\n",
            "Epoch 8/15\n",
            "1250/1250 [==============================] - 548s 438ms/step - loss: 0.5526 - accuracy: 0.8375 - mae: 0.2335 - root_mean_squared_error: 0.3408 - val_loss: 0.5210 - val_accuracy: 0.8494 - val_mae: 0.2183 - val_root_mean_squared_error: 0.3286\n",
            "Epoch 9/15\n",
            "1250/1250 [==============================] - 548s 438ms/step - loss: 0.5518 - accuracy: 0.8362 - mae: 0.2326 - root_mean_squared_error: 0.3405 - val_loss: 0.5729 - val_accuracy: 0.8202 - val_mae: 0.2495 - val_root_mean_squared_error: 0.3556\n",
            "Epoch 10/15\n",
            "1250/1250 [==============================] - 544s 435ms/step - loss: 0.5474 - accuracy: 0.8375 - mae: 0.2302 - root_mean_squared_error: 0.3390 - val_loss: 0.5201 - val_accuracy: 0.8500 - val_mae: 0.2343 - val_root_mean_squared_error: 0.3297\n",
            "Epoch 11/15\n",
            "1250/1250 [==============================] - 542s 434ms/step - loss: 0.5477 - accuracy: 0.8389 - mae: 0.2306 - root_mean_squared_error: 0.3390 - val_loss: 0.5379 - val_accuracy: 0.8376 - val_mae: 0.2208 - val_root_mean_squared_error: 0.3390\n",
            "Epoch 12/15\n",
            "1250/1250 [==============================] - 542s 434ms/step - loss: 0.5488 - accuracy: 0.8379 - mae: 0.2305 - root_mean_squared_error: 0.3389 - val_loss: 0.5999 - val_accuracy: 0.8038 - val_mae: 0.2576 - val_root_mean_squared_error: 0.3654\n",
            "Epoch 13/15\n",
            "1250/1250 [==============================] - 543s 434ms/step - loss: 0.5497 - accuracy: 0.8355 - mae: 0.2316 - root_mean_squared_error: 0.3399 - val_loss: 0.5626 - val_accuracy: 0.8308 - val_mae: 0.2588 - val_root_mean_squared_error: 0.3472\n",
            "Epoch 14/15\n",
            "1250/1250 [==============================] - 543s 434ms/step - loss: 0.5470 - accuracy: 0.8401 - mae: 0.2284 - root_mean_squared_error: 0.3376 - val_loss: 0.5574 - val_accuracy: 0.8362 - val_mae: 0.2624 - val_root_mean_squared_error: 0.3458\n",
            "Epoch 15/15\n",
            "1250/1250 [==============================] - 543s 434ms/step - loss: 0.5543 - accuracy: 0.8383 - mae: 0.2297 - root_mean_squared_error: 0.3384 - val_loss: 0.5269 - val_accuracy: 0.8476 - val_mae: 0.2188 - val_root_mean_squared_error: 0.3290\n"
          ]
        }
      ],
      "source": [
        "history = model_sa.fit(X_train_rev, y_train_rev, epochs=EPOCH, batch_size= BATCH_SIZE, validation_data=(X_val_rev, y_val_rev))"
      ]
    },
    {
      "cell_type": "code",
      "execution_count": null,
      "metadata": {
        "colab": {
          "base_uri": "https://localhost:8080/",
          "height": 1000
        },
        "id": "rkv2GK_qUHd0",
        "outputId": "087dd6e1-69a1-4698-9b33-bb39229a79cc"
      },
      "outputs": [
        {
          "data": {
            "image/png": "[encoded data removed]",
            "text/plain": [
              "<Figure size 640x480 with 1 Axes>"
            ]
          },
          "metadata": {},
          "output_type": "display_data"
        },
        {
          "data": {
            "image/png": "[encoded data removed]",
            "text/plain": [
              "<Figure size 640x480 with 1 Axes>"
            ]
          },
          "metadata": {},
          "output_type": "display_data"
        },
        {
          "data": {
            "image/png": "[encoded data removed]",
            "text/plain": [
              "<Figure size 640x480 with 1 Axes>"
            ]
          },
          "metadata": {},
          "output_type": "display_data"
        },
        {
          "data": {
            "image/png": "[encoded data removed]",
            "text/plain": [
              "<Figure size 640x480 with 1 Axes>"
            ]
          },
          "metadata": {},
          "output_type": "display_data"
        }
      ],
      "source": [
        "import matplotlib.pyplot as plt\n",
        "loss_curve= history.history[\"loss\"]\n",
        "acc_curve = history.history[\"accuracy\"]\n",
        "rmse_curve= history.history[\"root_mean_squared_error\"]\n",
        "mae_curve = history.history[\"mae\"]\n",
        "\n",
        "loss_val = history.history[\"val_loss\"]\n",
        "acc_val  = history.history[\"val_accuracy\"]\n",
        "rmse_val = history.history[\"val_root_mean_squared_error\"]\n",
        "mae_val  = history.history[\"val_mae\"]\n",
        "\n",
        "# ploter loss function\n",
        "def ploter(title , curve , valid):\n",
        "  plt.plot(curve , label = \"train\")\n",
        "  plt.plot(valid , label = \"validation\")\n",
        "  plt.legend(loc='upper left')\n",
        "  plt.ylim(0,2)\n",
        "  plt.title(title)\n",
        "  plt.show()\n",
        "\n",
        "ploter('loss' , loss_curve , loss_val)\n",
        "ploter('rmse' , rmse_curve , rmse_val)\n",
        "ploter('mae' , mae_curve , mae_val)\n",
        "ploter('acc' , acc_curve , acc_val)"
      ]
    },
    {
      "cell_type": "markdown",
      "metadata": {
        "id": "g74nuqpsXn8J"
      },
      "source": [
        "**test BiLstm_Cnn**"
      ]
    },
    {
      "cell_type": "code",
      "execution_count": null,
      "metadata": {
        "colab": {
          "base_uri": "https://localhost:8080/"
        },
        "id": "3ov7TmnLmhtv",
        "outputId": "cf0540a9-c7f6-47fd-bce7-c14b0d48aa2b"
      },
      "outputs": [
        {
          "name": "stdout",
          "output_type": "stream",
          "text": [
            "157/157 [==============================] - 58s 365ms/step - loss: 0.5272 - accuracy: 0.8548 - mae: 0.2169 - root_mean_squared_error: 0.3279\n"
          ]
        }
      ],
      "source": [
        "score = model_sa.evaluate(X_test_rev , y_test_rev)"
      ]
    },
    {
      "cell_type": "code",
      "execution_count": null,
      "metadata": {
        "colab": {
          "base_uri": "https://localhost:8080/"
        },
        "id": "plCypCUCmoCA",
        "outputId": "34149605-e306-4aa6-9046-309158e1eb18"
      },
      "outputs": [
        {
          "data": {
            "text/plain": [
              "[0.5271879434585571,\n",
              " 0.8547999858856201,\n",
              " 0.21690131723880768,\n",
              " 0.3279414474964142]"
            ]
          },
          "execution_count": 36,
          "metadata": {},
          "output_type": "execute_result"
        }
      ],
      "source": [
        "score"
      ]
    },
    {
      "cell_type": "markdown",
      "metadata": {
        "id": "yeUmU9jPlYAW"
      },
      "source": [
        "## **classe BiLstmRnn**"
      ]
    },
    {
      "cell_type": "code",
      "execution_count": null,
      "metadata": {
        "id": "ZZNKNcW_lYiM"
      },
      "outputs": [],
      "source": [
        "class MyBiLstmRnn(tf.keras.Model):\n",
        "        def __init__(self, units ,preprocessing_model  , l1=0 , l2=0  ,droup_val):\n",
        "            super(MyBiLstmRnn, self).__init__()\n",
        "            self.preprocessing_model = preprocessing_model\n",
        "            # self.first_layer         = tf.keras.layers.Dense(units,activation='relu')\n",
        "            self.bilstm              = tf.keras.layers.Bidirectional(tf.keras.layers.LSTM(int(units/2),\n",
        "                                                                    return_sequences=True,\n",
        "                                                                    kernel_regularizer=tf.keras.regularizers.L1L2(l1=l1, l2=l2),\n",
        "                                                                    name='bilstm1'))\n",
        "\n",
        "            self.rnn                 = tf.keras.layers.SimpleRNN(units ,\n",
        "                                                        return_sequences=True ,\n",
        "                                                        input_shape=(None , 128 , 768),\n",
        "                                                        kernel_regularizer=tf.keras.regularizers.L1L2(l1=l1, l2=l2),\n",
        "                                                        name = 'rnn1')\n",
        "            self.dropout             = tf.keras.layers.Dropout(droup_val)\n",
        "            self.flatten             = tf.keras.layers.Flatten()\n",
        "            self.dense1              = tf.keras.layers.Dense(128,kernel_regularizer=tf.keras.regularizers.L1L2(l1=l1, l2=l2),activation='relu')\n",
        "            # self.dense2              = tf.keras.layers.Dense(5,,activation='relu')\n",
        "            self.dense2              = tf.keras.layers.Dense(1 , activation = 'sigmoid' , name ='output')\n",
        "\n",
        "\n",
        "        def call(self, inputs):\n",
        "            x = self.preprocessing_model(inputs)\n",
        "            x = self.bilstm(x)\n",
        "            x = self.rnn(x)\n",
        "            x = self.dropout(x)\n",
        "            x = self.flatten(x)\n",
        "            x = self.dense1(x)\n",
        "            # x = self.dense2(x)\n",
        "            return self.dense3(x)\n",
        "\n",
        ""
      ]
    },
    {
      "cell_type": "markdown",
      "metadata": {
        "id": "MJ7kVXPRoJNQ"
      },
      "source": [
        "**Entrainement LSTM**"
      ]
    },
    {
      "cell_type": "code",
      "execution_count": null,
      "metadata": {
        "id": "SqYvw5qPoJNS"
      },
      "outputs": [],
      "source": [
        "units = 16\n",
        "l1= 5e-3\n",
        "l2= 5e-3\n",
        "droup_val = 0.5\n",
        "EPOCH = 15\n",
        "BATCH_SIZE = 32"
      ]
    },
    {
      "cell_type": "code",
      "execution_count": null,
      "metadata": {
        "id": "S3ruqqp6oJNS"
      },
      "outputs": [],
      "source": [
        "model_sa=MyBiLstmRnn(units , preprocessing_model,l1,l2 , droup_val )"
      ]
    },
    {
      "cell_type": "code",
      "execution_count": null,
      "metadata": {
        "id": "ne2opkRXX2oA"
      },
      "outputs": [],
      "source": [
        "from keras import metrics\n",
        "rmse = metrics.RootMeanSquaredError()\n",
        "precision = metrics.Precision()"
      ]
    },
    {
      "cell_type": "code",
      "execution_count": null,
      "metadata": {
        "id": "b5l7Fkw2oJNT"
      },
      "outputs": [],
      "source": [
        "model_sa.compile(optimizer='adam', loss='binary_crossentropy', metrics=['accuracy','mae',rmse , precision])"
      ]
    },
    {
      "cell_type": "code",
      "execution_count": null,
      "metadata": {
        "colab": {
          "base_uri": "https://localhost:8080/"
        },
        "id": "7WbP4xF3YCxI",
        "outputId": "bab01850-a5df-4011-c168-8eca874b5105"
      },
      "outputs": [
        {
          "name": "stdout",
          "output_type": "stream",
          "text": [
            "Epoch 1/25\n",
            "1250/1250 [==============================] - 710s 552ms/step - loss: 1.9870 - accuracy: 0.7814 - mae: 0.3154 - root_mean_squared_error: 0.3931 - precision: 0.7823 - val_loss: 0.8364 - val_accuracy: 0.8066 - val_mae: 0.2853 - val_root_mean_squared_error: 0.3714 - val_precision: 0.8400\n",
            "Epoch 2/25\n",
            "1250/1250 [==============================] - 656s 525ms/step - loss: 0.8066 - accuracy: 0.8044 - mae: 0.2828 - root_mean_squared_error: 0.3734 - precision: 0.8014 - val_loss: 0.7547 - val_accuracy: 0.8080 - val_mae: 0.2705 - val_root_mean_squared_error: 0.3643 - val_precision: 0.8396\n",
            "Epoch 3/25\n",
            "1250/1250 [==============================] - 683s 547ms/step - loss: 0.7740 - accuracy: 0.8076 - mae: 0.2765 - root_mean_squared_error: 0.3696 - precision: 0.8010 - val_loss: 0.7492 - val_accuracy: 0.8226 - val_mae: 0.2502 - val_root_mean_squared_error: 0.3567 - val_precision: 0.7936\n",
            "Epoch 4/25\n",
            "1250/1250 [==============================] - 682s 545ms/step - loss: 0.7625 - accuracy: 0.8073 - mae: 0.2764 - root_mean_squared_error: 0.3695 - precision: 0.7984 - val_loss: 0.8055 - val_accuracy: 0.7934 - val_mae: 0.2533 - val_root_mean_squared_error: 0.3869 - val_precision: 0.7303\n",
            "Epoch 5/25\n",
            "1250/1250 [==============================] - 681s 545ms/step - loss: 0.7479 - accuracy: 0.8148 - mae: 0.2677 - root_mean_squared_error: 0.3640 - precision: 0.8059 - val_loss: 0.7310 - val_accuracy: 0.8184 - val_mae: 0.2739 - val_root_mean_squared_error: 0.3597 - val_precision: 0.7756\n",
            "Epoch 6/25\n",
            "1250/1250 [==============================] - 654s 523ms/step - loss: 0.7412 - accuracy: 0.8145 - mae: 0.2653 - root_mean_squared_error: 0.3628 - precision: 0.8051 - val_loss: 0.7002 - val_accuracy: 0.8218 - val_mae: 0.2719 - val_root_mean_squared_error: 0.3542 - val_precision: 0.8232\n",
            "Epoch 7/25\n",
            "1250/1250 [==============================] - 679s 543ms/step - loss: 0.7374 - accuracy: 0.8170 - mae: 0.2630 - root_mean_squared_error: 0.3613 - precision: 0.8076 - val_loss: 0.7576 - val_accuracy: 0.8036 - val_mae: 0.3128 - val_root_mean_squared_error: 0.3754 - val_precision: 0.8744\n",
            "Epoch 8/25\n",
            "1250/1250 [==============================] - 681s 545ms/step - loss: 0.7269 - accuracy: 0.8200 - mae: 0.2596 - root_mean_squared_error: 0.3589 - precision: 0.8110 - val_loss: 0.7058 - val_accuracy: 0.8292 - val_mae: 0.2508 - val_root_mean_squared_error: 0.3492 - val_precision: 0.8217\n",
            "Epoch 9/25\n",
            "1250/1250 [==============================] - 680s 544ms/step - loss: 0.7238 - accuracy: 0.8209 - mae: 0.2573 - root_mean_squared_error: 0.3573 - precision: 0.8104 - val_loss: 0.7128 - val_accuracy: 0.8290 - val_mae: 0.2305 - val_root_mean_squared_error: 0.3527 - val_precision: 0.8280\n",
            "Epoch 10/25\n",
            "1250/1250 [==============================] - 681s 545ms/step - loss: 0.7192 - accuracy: 0.8207 - mae: 0.2567 - root_mean_squared_error: 0.3571 - precision: 0.8097 - val_loss: 0.7233 - val_accuracy: 0.8216 - val_mae: 0.2894 - val_root_mean_squared_error: 0.3592 - val_precision: 0.7781\n",
            "Epoch 11/25\n",
            "1250/1250 [==============================] - 656s 525ms/step - loss: 0.7161 - accuracy: 0.8206 - mae: 0.2568 - root_mean_squared_error: 0.3571 - precision: 0.8094 - val_loss: 0.7298 - val_accuracy: 0.8170 - val_mae: 0.2446 - val_root_mean_squared_error: 0.3612 - val_precision: 0.8652\n",
            "Epoch 12/25\n",
            "1250/1250 [==============================] - 678s 543ms/step - loss: 0.7160 - accuracy: 0.8223 - mae: 0.2546 - root_mean_squared_error: 0.3558 - precision: 0.8109 - val_loss: 0.7642 - val_accuracy: 0.7866 - val_mae: 0.2992 - val_root_mean_squared_error: 0.3844 - val_precision: 0.7173\n",
            "Epoch 13/25\n",
            "1250/1250 [==============================] - 674s 539ms/step - loss: 0.7149 - accuracy: 0.8210 - mae: 0.2547 - root_mean_squared_error: 0.3559 - precision: 0.8109 - val_loss: 0.6880 - val_accuracy: 0.8292 - val_mae: 0.2617 - val_root_mean_squared_error: 0.3489 - val_precision: 0.8358\n",
            "Epoch 14/25\n",
            "1250/1250 [==============================] - 649s 519ms/step - loss: 0.7166 - accuracy: 0.8222 - mae: 0.2536 - root_mean_squared_error: 0.3556 - precision: 0.8100 - val_loss: 0.7228 - val_accuracy: 0.8170 - val_mae: 0.2477 - val_root_mean_squared_error: 0.3592 - val_precision: 0.7597\n",
            "Epoch 15/25\n",
            "1250/1250 [==============================] - 674s 539ms/step - loss: 0.7070 - accuracy: 0.8234 - mae: 0.2507 - root_mean_squared_error: 0.3535 - precision: 0.8121 - val_loss: 0.6842 - val_accuracy: 0.8340 - val_mae: 0.2302 - val_root_mean_squared_error: 0.3465 - val_precision: 0.8029\n",
            "Epoch 16/25\n",
            "1250/1250 [==============================] - 677s 542ms/step - loss: 0.7017 - accuracy: 0.8240 - mae: 0.2522 - root_mean_squared_error: 0.3543 - precision: 0.8130 - val_loss: 0.7044 - val_accuracy: 0.8248 - val_mae: 0.2722 - val_root_mean_squared_error: 0.3540 - val_precision: 0.7756\n",
            "Epoch 17/25\n",
            "1250/1250 [==============================] - 680s 544ms/step - loss: 0.6981 - accuracy: 0.8257 - mae: 0.2507 - root_mean_squared_error: 0.3530 - precision: 0.8148 - val_loss: 0.6717 - val_accuracy: 0.8320 - val_mae: 0.2502 - val_root_mean_squared_error: 0.3449 - val_precision: 0.8037\n",
            "Epoch 18/25\n",
            "1250/1250 [==============================] - 676s 541ms/step - loss: 0.6962 - accuracy: 0.8238 - mae: 0.2510 - root_mean_squared_error: 0.3534 - precision: 0.8128 - val_loss: 0.6784 - val_accuracy: 0.8326 - val_mae: 0.2394 - val_root_mean_squared_error: 0.3447 - val_precision: 0.8107\n",
            "Epoch 19/25\n",
            "1250/1250 [==============================] - 676s 541ms/step - loss: 0.6930 - accuracy: 0.8269 - mae: 0.2502 - root_mean_squared_error: 0.3526 - precision: 0.8150 - val_loss: 0.6735 - val_accuracy: 0.8340 - val_mae: 0.2311 - val_root_mean_squared_error: 0.3420 - val_precision: 0.8248\n",
            "Epoch 20/25\n",
            "1020/1250 [=======================>......] - ETA: 1:49 - loss: 0.6903 - accuracy: 0.8263 - mae: 0.2476 - root_mean_squared_error: 0.3509 - precision: 0.8143"
          ]
        }
      ],
      "source": [
        "history = model_sa.fit(X_train_rev, y_train_rev, epochs=25, batch_size= 32, validation_data=(X_val_rev, y_val_rev))"
      ]
    },
    {
      "cell_type": "code",
      "execution_count": null,
      "metadata": {
        "id": "LvM4E2vQb2u_"
      },
      "outputs": [],
      "source": [
        "import matplotlib.pyplot as plt\n",
        "loss_curve= history.history[\"loss\"]\n",
        "acc_curve = history.history[\"accuracy\"]\n",
        "rmse_curve= history.history[\"root_mean_squared_error\"]\n",
        "mae_curve = history.history[\"mae\"]\n",
        "\n",
        "loss_val = history.history[\"val_loss\"]\n",
        "acc_val  = history.history[\"val_accuracy\"]\n",
        "rmse_val = history.history[\"val_root_mean_squared_error\"]\n",
        "mae_val  = history.history[\"val_mae\"]\n",
        "\n",
        "# ploter loss function\n",
        "def ploter(title , curve , valid):\n",
        "  plt.plot(curve , label = \"train\")\n",
        "  plt.plot(valid , label = \"validation\")\n",
        "  plt.legend(loc='upper left')\n",
        "  plt.title(title)\n",
        "  plt.show()\n",
        "\n",
        "ploter('loss' , loss_curve , loss_val)\n",
        "ploter('rmse' , rmse_curve , rmse_val)\n",
        "ploter('mae' , mae_curve , mae_val)\n",
        "ploter('acc' , acc_curve , acc_val)"
      ]
    },
    {
      "cell_type": "markdown",
      "metadata": {
        "id": "7G-OvjuyYUG_"
      },
      "source": [
        "**test BiLstm_Rnn**"
      ]
    },
    {
      "cell_type": "code",
      "execution_count": null,
      "metadata": {
        "id": "JuUvBc_PHrBJ"
      },
      "outputs": [],
      "source": [
        "scores = model_sa.evaluate(X_train_rev , y_train_rev)"
      ]
    },
    {
      "cell_type": "code",
      "execution_count": null,
      "metadata": {
        "id": "L_3evr6OYcZi"
      },
      "outputs": [],
      "source": [
        "scores"
      ]
    },
    {
      "cell_type": "markdown",
      "metadata": {
        "id": "FQK_8H0amJdl"
      },
      "source": [
        "## **classe LstmCnn**"
      ]
    },
    {
      "cell_type": "code",
      "execution_count": null,
      "metadata": {
        "id": "5ecJrqBKmKJ_"
      },
      "outputs": [],
      "source": [
        "class MyLstmCnn(tf.keras.Model):\n",
        "    def __init__(self,preprocessing_model , units , l1=0 , l2=0 , droup_val=0):\n",
        "        super(MyLstmCnn, self).__init__()\n",
        "        self.preprocessing_model = preprocessing_model\n",
        "        self.lstm                = tf.keras.layers.LSTM(units,\n",
        "                                               return_sequences=True,\n",
        "                                               input_shape=(None , 128 , 768),\n",
        "                                               kernel_regularizer=tf.keras.regularizers.L1L2(l1=l1, l2=l2),\n",
        "                                               dropout=0.2 ,\n",
        "                                               name = 'lstm1')\n",
        "        self.cnn                 = tf.keras.layers.Conv1D(64,3,activation=\"relu\",padding=\"valid\")\n",
        "        self.dropout             = tf.keras.layers.Dropout((droup_val))\n",
        "        self.flatten             = tf.keras.layers.Flatten()\n",
        "        self.dense1              = tf.keras.layers.Dense(128,kernel_regularizer=tf.keras.regularizers.L1L2(l1=l1, l2=l2),activation='relu')\n",
        "        # self.dense2              = tf.keras.layers.Dense(5,kernel_regularizer=tf.keras.regularizers.L1L2(l1=l1, l2=l2),activation='relu')\n",
        "        self.dense3              = tf.keras.layers.Dense(1 , activation = 'sigmoid' , name =' output')\n",
        "\n",
        "\n",
        "    def call(self, inputs):\n",
        "        x = self.preprocessing_model(inputs)\n",
        "        x = self.lstm(x)\n",
        "        x = self.cnn (x)\n",
        "        x = self.dropout(x)\n",
        "        x = self.flatten(x)\n",
        "        x = self.dense1(x)\n",
        "        # x = self.dense2(x)\n",
        "        return self.dense3(x)"
      ]
    },
    {
      "cell_type": "markdown",
      "metadata": {
        "id": "dDxUvZVfoKIQ"
      },
      "source": [
        "**Entrainment LSTM CNN**"
      ]
    },
    {
      "cell_type": "code",
      "execution_count": null,
      "metadata": {
        "id": "MbeerMSAoKIR"
      },
      "outputs": [],
      "source": [
        "units = 16\n",
        "l1= 5e-3\n",
        "l2= 5e-3\n",
        "droup_val = 0.5\n",
        "EPOCH = 15\n",
        "BATCH_SIZE = 32"
      ]
    },
    {
      "cell_type": "code",
      "execution_count": null,
      "metadata": {
        "id": "IxJq_3UpoKIR"
      },
      "outputs": [],
      "source": [
        "model_sa=MyLstmCnn(preprocessing_model,units,l1,l2 , droup_val)"
      ]
    },
    {
      "cell_type": "code",
      "execution_count": null,
      "metadata": {
        "id": "wYZkxrXtoKIS"
      },
      "outputs": [],
      "source": [
        "model_sa.compile(optimizer='adam', loss='binary_crossentropy', metrics=['accuracy','mae', rmse , precision])"
      ]
    },
    {
      "cell_type": "code",
      "execution_count": null,
      "metadata": {
        "id": "h7mXDxaCb_1p"
      },
      "outputs": [],
      "source": [
        "import matplotlib.pyplot as plt\n",
        "loss_curve= history.history[\"loss\"]\n",
        "acc_curve = history.history[\"accuracy\"]\n",
        "rmse_curve= history.history[\"root_mean_squared_error\"]\n",
        "mae_curve = history.history[\"mae\"]\n",
        "\n",
        "loss_val = history.history[\"val_loss\"]\n",
        "acc_val  = history.history[\"val_accuracy\"]\n",
        "rmse_val = history.history[\"val_root_mean_squared_error\"]\n",
        "mae_val  = history.history[\"val_mae\"]\n",
        "\n",
        "# ploter loss function\n",
        "def ploter(title , curve , valid):\n",
        "  plt.plot(curve , label = \"train\")\n",
        "  plt.plot(valid , label = \"validation\")\n",
        "  plt.legend(loc='upper left')\n",
        "  plt.title(title)\n",
        "  plt.show()\n",
        "\n",
        "ploter('loss' , loss_curve , loss_val)\n",
        "ploter('rmse' , rmse_curve , rmse_val)\n",
        "ploter('mae' , mae_curve , mae_val)\n",
        "ploter('acc' , acc_curve , acc_val)"
      ]
    },
    {
      "cell_type": "markdown",
      "metadata": {
        "id": "ZdlLH8FBZDgP"
      },
      "source": [
        "**test Lstm_Cnn**"
      ]
    },
    {
      "cell_type": "code",
      "execution_count": null,
      "metadata": {
        "id": "0GTw0nK2cA0N"
      },
      "outputs": [],
      "source": [
        "scores = model_sa.evaluate(X_test_rev , y_test_rev)"
      ]
    },
    {
      "cell_type": "code",
      "execution_count": null,
      "metadata": {
        "id": "EclmIBWNZI34"
      },
      "outputs": [],
      "source": [
        "scores"
      ]
    },
    {
      "cell_type": "markdown",
      "metadata": {
        "id": "bGZ2ycH4mKwK"
      },
      "source": [
        "## **classe LstmRnn**"
      ]
    },
    {
      "cell_type": "code",
      "execution_count": null,
      "metadata": {
        "id": "WePSmBOrmLGJ"
      },
      "outputs": [],
      "source": [
        "class MyLstmRnn(tf.keras.Model):\n",
        "    def __init__(self, preprocessing_model , units , l1=0 , l2=0 , droup_val=0):\n",
        "        super(MyLstmRnn, self).__init__()\n",
        "        self.preprocessing_model = preprocessing_model\n",
        "        self.lstm                = tf.keras.layers.LSTM(units,\n",
        "                                                      return_sequences=True,\n",
        "                                                      kernel_regularizer=tf.keras.regularizers.L1L2(l1=l1, l2=l2),\n",
        "                                                      input_shape=(None ,128 , 768),\n",
        "                                                      name='lstm1')\n",
        "\n",
        "        self.rnn                 = tf.keras.layers.SimpleRNN(units ,\n",
        "                                                              return_sequences=True ,\n",
        "                                                              kernel_regularizer=tf.keras.regularizers.L1L2(l1=l1, l2=l2),\n",
        "                                                              name = 'rnn1')\n",
        "        self.dropout             = tf.keras.layers.Dropout(droup_val)\n",
        "        self.flatten             = tf.keras.layers.Flatten()\n",
        "        self.dense1              = tf.keras.layers.Dense(128,kernel_regularizer=tf.keras.regularizers.L1L2(l1=l1, l2=l2),activation='relu')\n",
        "        # self.dense2              = tf.keras.layers.Dense(5,kernel_regularizer=tf.keras.regularizers.L1L2(l1=l1, l2=l2),activation='relu')\n",
        "        self.dense3              = tf.keras.layers.Dense(1 , activation = 'sigmoid' , name =' output')\n",
        "\n",
        "    def call(self, inputs):\n",
        "        x = self.preprocessing_model(inputs)\n",
        "        x = self.lstm(x)\n",
        "        x = self.rnn(x)\n",
        "        x = self.dropout(x)\n",
        "        x = self.flatten(x)\n",
        "        x = self.dense1(x)\n",
        "        # x = self.dense2(x)\n",
        "        return self.dense3(x)"
      ]
    },
    {
      "cell_type": "markdown",
      "metadata": {
        "id": "TYQrO1m3oLGO"
      },
      "source": [
        "**entrainement LSTM Rnn**"
      ]
    },
    {
      "cell_type": "code",
      "execution_count": null,
      "metadata": {
        "id": "J94u4mXXoLGP"
      },
      "outputs": [],
      "source": [
        "units = 16\n",
        "l1= 5e-3\n",
        "l2= 5e-3\n",
        "droup_val = 0.5\n",
        "EPOCH = 15\n",
        "BATCH_SIZE = 32"
      ]
    },
    {
      "cell_type": "code",
      "execution_count": null,
      "metadata": {
        "id": "-gTi4zQ5oLGQ"
      },
      "outputs": [],
      "source": [
        "model_sa=MyLstmRnn( preprocessing_model , units , l1 , l2 , droup_val)"
      ]
    },
    {
      "cell_type": "code",
      "execution_count": null,
      "metadata": {
        "id": "S-cYF9QLoLGR"
      },
      "outputs": [],
      "source": [
        "model_sa.compile(optimizer='adam', loss='binary_crossentropy', metrics=['accuracy','mae', rmse , precision ])"
      ]
    },
    {
      "cell_type": "code",
      "execution_count": null,
      "metadata": {
        "id": "y8JiWZ5bcH-U"
      },
      "outputs": [],
      "source": [
        "import matplotlib.pyplot as plt\n",
        "loss_curve= history.history[\"loss\"]\n",
        "acc_curve = history.history[\"accuracy\"]\n",
        "rmse_curve= history.history[\"root_mean_squared_error\"]\n",
        "mae_curve = history.history[\"mae\"]\n",
        "\n",
        "loss_val = history.history[\"val_loss\"]\n",
        "acc_val  = history.history[\"val_accuracy\"]\n",
        "rmse_val = history.history[\"val_root_mean_squared_error\"]\n",
        "mae_val  = history.history[\"val_mae\"]\n",
        "\n",
        "# ploter loss function\n",
        "def ploter(title , curve , valid):\n",
        "  plt.plot(curve , label = \"train\")\n",
        "  plt.plot(valid , label = \"validation\")\n",
        "  plt.legend(loc='upper left')\n",
        "  plt.title(title)\n",
        "  plt.show()\n",
        "\n",
        "ploter('loss' , loss_curve , loss_val)\n",
        "ploter('rmse' , rmse_curve , rmse_val)\n",
        "ploter('mae' , mae_curve , mae_val)\n",
        "ploter('acc' , acc_curve , acc_val)"
      ]
    },
    {
      "cell_type": "markdown",
      "metadata": {
        "id": "qf_T_vExZz3O"
      },
      "source": [
        "**test Lstm_Rnn**"
      ]
    },
    {
      "cell_type": "code",
      "execution_count": null,
      "metadata": {
        "id": "BiVLj1-RcJXg"
      },
      "outputs": [],
      "source": [
        "scores = model_sa.evaluat(X_test_rev , y_test_rev)"
      ]
    },
    {
      "cell_type": "code",
      "execution_count": null,
      "metadata": {
        "id": "BcDNh4-vaApa"
      },
      "outputs": [],
      "source": [
        "scores"
      ]
    },
    {
      "cell_type": "markdown",
      "metadata": {
        "id": "D52SFqpA7jY-"
      },
      "source": [
        "## **new model**"
      ]
    },
    {
      "cell_type": "code",
      "execution_count": null,
      "metadata": {
        "id": "Cm4oibBRm4xM"
      },
      "outputs": [],
      "source": [
        "# class Concate(tf.keras.Model):\n",
        "#     def __init__(self,preprocessing_model , units , l1=0 , l2=0):\n",
        "#         super(Concate, self).__init__()\n",
        "\n",
        "#         # Define the four models\n",
        "#         self.LstmRnn   = MyLstmRnn(preprocessing_model , units , l1 , l2)\n",
        "#         self.LstmCnn   = MyLstmCnn(preprocessing_model , units  , l1 , l2)\n",
        "#         self.BiLstmRnn = MyBiLstmRnn(preprocessing_model , units  , l1 , l2)\n",
        "#         self.BiLstmCnn = MyBiLstmCnn(preprocessing_model , units  , l1 , l2)\n",
        "\n",
        "#         # Define the concatenate layer\n",
        "#         self.max_layer = tf.keras.layers.Maximum()\n",
        "\n",
        "#         # Define the dense layer\n",
        "#         self.dense1 = tf.keras.layers.Dense(16,\n",
        "#                                            kernel_regularizer=tf.keras.regularizers.L1L2(l1=l1, l2=l2),\n",
        "#                                            activation='relu')\n",
        "#         self.dense2 = tf.keras.layers.Dense(1,\n",
        "#                                            kernel_regularizer=tf.keras.regularizers.L1L2(l1=l1, l2=l2),\n",
        "#                                            activation='sigmoid')\n",
        "\n",
        "#     def call(self, inputs):\n",
        "#         # Pass the inputs through each model\n",
        "#         lstm_rnn_output = self.LstmRnn(inputs)\n",
        "#         lstm_cnn_output = self.LstmCnn(inputs)\n",
        "#         bilstm_rnn_output = self.BiLstmRnn(inputs)\n",
        "#         bilstm_cnn_output = self.BiLstmCnn(inputs)\n",
        "\n",
        "#         # Concatenate the outputs using the concatenate layer\n",
        "#         max_output = self.max_layer([lstm_cnn_output, lstm_rnn_output, bilstm_cnn_output, bilstm_rnn_output])\n",
        "\n",
        "#         # Pass the concatenated output through the dense layer\n",
        "#         dense1 = self.dense1(max_output)\n",
        "\n",
        "#         return self.dense2(dense1)\n"
      ]
    },
    {
      "cell_type": "code",
      "execution_count": null,
      "metadata": {
        "id": "dqgTiZYR832_"
      },
      "outputs": [],
      "source": [
        "import tensorflow as tf\n",
        "from tensorflow.keras import Sequential\n",
        "from tensorflow.keras.layers import Dense, LSTM, Bidirectional, Concatenate, LayerNormalization, Add\n",
        "from tensorflow.keras.models import Model\n",
        "from tensorflow.keras import regularizers\n",
        "import pandas as pd\n",
        "from sklearn.model_selection import train_test_split\n",
        "import tensorflow_hub as hub\n",
        "import tensorflow_text as text\n",
        "import tensorflow as tf\n",
        "import numpy as np"
      ]
    },
    {
      "cell_type": "code",
      "execution_count": null,
      "metadata": {
        "id": "aGqkogef7rln"
      },
      "outputs": [],
      "source": [
        "class AddNorm(tf.keras.layers.Layer):\n",
        "    \"\"\"Residual connection followed by layer normalization.\"\"\"\n",
        "\n",
        "    def __init__(self, name=None, **kwargs):\n",
        "        super().__init__()\n",
        "        if name: self._name = name\n",
        "        self.ln = LayerNormalization(**kwargs)\n",
        "        self.add = Add()\n",
        "\n",
        "    def call(self, X):\n",
        "        return self.ln(self.add(X))"
      ]
    },
    {
      "cell_type": "code",
      "execution_count": null,
      "metadata": {
        "id": "xiWii28p7qbN"
      },
      "outputs": [],
      "source": [
        "from keras.backend import dropout\n",
        "class HybLstm(Model):\n",
        "  def __init__(self,units,preprocessing_model,l1=0,l2=0):\n",
        "    super().__init__()\n",
        "    self.preprocessing_model = preprocessing_model\n",
        "    self.first_layer = Dense(units,activation='relu')\n",
        "    self.lstm1 = Bidirectional(LSTM(int(units/2), return_sequences=True, kernel_regularizer=regularizers.L1L2(l1=l1, l2=l2) , dropout = 0.5))\n",
        "    self.lstm2 = Bidirectional(LSTM(int(units/2), return_sequences=True, kernel_regularizer=regularizers.L1L2(l1=l1, l2=l2) , dropout = 0.5))\n",
        "    self.lstm3 = LSTM(units, return_sequences=True, return_state=True, kernel_regularizer=regularizers.L1L2(l1=l1, l2=l2) , dropout = 0.5)\n",
        "\n",
        "    self.add1,self.add2 = AddNorm(),AddNorm()\n",
        "\n",
        "    self.concat = Concatenate()\n",
        "    self.dense1 = Dense(units,activation='relu')\n",
        "    self.final_layer = Dense(1,activation=\"sigmoid\")\n",
        "\n",
        "  def call(self,x):\n",
        "    x  = self.preprocessing_model(x)\n",
        "    x  = self.first_layer(x)\n",
        "    xl = self.lstm1(x)\n",
        "    x  = self.add1([x,xl])\n",
        "    xl = self.lstm2(x)\n",
        "    x  = self.add2([x,xl])\n",
        "\n",
        "    _, final_memory_state, final_carry_state  = self.lstm3(x)\n",
        "    states = self.concat([final_memory_state, final_carry_state])\n",
        "    states = self.dense1(states)\n",
        "    out    = self.final_layer(states)\n",
        "    return out\n",
        "\n",
        "  def train(self,X_train,Y_train, batch_size , epochs, learning_rate,**kwargs):\n",
        "    print(\"    training ...\")\n",
        "    # Learning rate decay\n",
        "    callbacks = []\n",
        "    def scheduler(epoch, lr):\n",
        "      if epoch<2:\n",
        "        return learning_rate/10\n",
        "      else:\n",
        "        return learning_rate * np.exp(-4 * epoch / epochs)\n",
        "\n",
        "    callbacks.append(tf.keras.callbacks.LearningRateScheduler(scheduler))\n",
        "\n",
        "    # Compile the model :\n",
        "    self.compile(loss='binary_crossentropy' ,\n",
        "                 optimizer = tf.keras.optimizers.Adam(learning_rate=learning_rate),\n",
        "                 metrics = [\"accuracy\" , rmse , 'mae' , precision])\n",
        "    # Fitting the data :\n",
        "    self.train_history = self.fit(X_train,Y_train,\n",
        "                                  batch_size = BATCH_SIZE,\n",
        "                                  epochs=EPOCHS,\n",
        "                                  callbacks=callbacks,\n",
        "                                  ** kwargs)"
      ]
    },
    {
      "cell_type": "code",
      "execution_count": null,
      "metadata": {
        "id": "P9Ux6knf9BJd"
      },
      "outputs": [],
      "source": [
        "BATCH_SIZE = 32\n",
        "EPOCHS = 15\n",
        "LEARNING_RATE = 5e-3"
      ]
    },
    {
      "cell_type": "code",
      "execution_count": null,
      "metadata": {
        "id": "G9rAx1267veR"
      },
      "outputs": [],
      "source": [
        "model = HybLstm(units=32,preprocessing_model=preprocessing_model,l1=1e-5,l2=1e-5)"
      ]
    },
    {
      "cell_type": "code",
      "execution_count": null,
      "metadata": {
        "colab": {
          "base_uri": "https://localhost:8080/"
        },
        "id": "aqBS3Bs_7zU4",
        "outputId": "7330c3b2-4b14-4fb9-e96c-39391a77c632"
      },
      "outputs": [
        {
          "output_type": "stream",
          "name": "stdout",
          "text": [
            "    training ...\n",
            "Epoch 1/15\n",
            "1250/1250 [==============================] - 581s 455ms/step - loss: 0.4644 - accuracy: 0.7822 - root_mean_squared_error: 0.3508 - mae: 0.2905 - precision: 0.8189 - val_loss: 0.4924 - val_accuracy: 0.7864 - val_root_mean_squared_error: 0.3938 - val_mae: 0.2458 - val_precision: 0.9238 - lr: 5.0000e-04\n",
            "Epoch 2/15\n",
            "1250/1250 [==============================] - 563s 451ms/step - loss: 0.3612 - accuracy: 0.8468 - root_mean_squared_error: 0.3294 - mae: 0.2171 - precision: 0.8440 - val_loss: 0.3459 - val_accuracy: 0.8572 - val_root_mean_squared_error: 0.3224 - val_mae: 0.2165 - val_precision: 0.8644 - lr: 5.0000e-04\n",
            "Epoch 3/15\n",
            "1250/1250 [==============================] - 563s 451ms/step - loss: 0.3559 - accuracy: 0.8512 - root_mean_squared_error: 0.3268 - mae: 0.2138 - precision: 0.8503 - val_loss: 0.3530 - val_accuracy: 0.8536 - val_root_mean_squared_error: 0.3267 - val_mae: 0.1961 - val_precision: 0.8148 - lr: 0.0029\n",
            "Epoch 4/15\n",
            "1250/1250 [==============================] - 563s 451ms/step - loss: 0.3276 - accuracy: 0.8621 - root_mean_squared_error: 0.3135 - mae: 0.1966 - precision: 0.8627 - val_loss: 0.3413 - val_accuracy: 0.8664 - val_root_mean_squared_error: 0.3188 - val_mae: 0.2353 - val_precision: 0.8617 - lr: 0.0022\n",
            "Epoch 5/15\n",
            "1250/1250 [==============================] - 564s 452ms/step - loss: 0.3080 - accuracy: 0.8715 - root_mean_squared_error: 0.3032 - mae: 0.1841 - precision: 0.8700 - val_loss: 0.3155 - val_accuracy: 0.8730 - val_root_mean_squared_error: 0.3069 - val_mae: 0.1717 - val_precision: 0.8793 - lr: 0.0017\n",
            "Epoch 6/15\n",
            "1250/1250 [==============================] - 563s 451ms/step - loss: 0.2934 - accuracy: 0.8788 - root_mean_squared_error: 0.2954 - mae: 0.1744 - precision: 0.8767 - val_loss: 0.3212 - val_accuracy: 0.8588 - val_root_mean_squared_error: 0.3129 - val_mae: 0.2063 - val_precision: 0.8165 - lr: 0.0013\n",
            "Epoch 7/15\n",
            "1250/1250 [==============================] - 563s 451ms/step - loss: 0.2792 - accuracy: 0.8852 - root_mean_squared_error: 0.2874 - mae: 0.1654 - precision: 0.8831 - val_loss: 0.3021 - val_accuracy: 0.8706 - val_root_mean_squared_error: 0.3021 - val_mae: 0.1848 - val_precision: 0.8570 - lr: 0.0010\n",
            "Epoch 8/15\n",
            "1250/1250 [==============================] - 563s 451ms/step - loss: 0.2682 - accuracy: 0.8909 - root_mean_squared_error: 0.2815 - mae: 0.1587 - precision: 0.8882 - val_loss: 0.3177 - val_accuracy: 0.8690 - val_root_mean_squared_error: 0.3093 - val_mae: 0.1704 - val_precision: 0.8409 - lr: 7.7319e-04\n",
            "Epoch 9/15\n",
            "1250/1250 [==============================] - 541s 433ms/step - loss: 0.2571 - accuracy: 0.8955 - root_mean_squared_error: 0.2751 - mae: 0.1513 - precision: 0.8928 - val_loss: 0.3100 - val_accuracy: 0.8754 - val_root_mean_squared_error: 0.3049 - val_mae: 0.1659 - val_precision: 0.8750 - lr: 5.9221e-04\n",
            "Epoch 10/15\n",
            "1250/1250 [==============================] - 563s 450ms/step - loss: 0.2461 - accuracy: 0.9021 - root_mean_squared_error: 0.2684 - mae: 0.1439 - precision: 0.8977 - val_loss: 0.3073 - val_accuracy: 0.8718 - val_root_mean_squared_error: 0.3051 - val_mae: 0.1748 - val_precision: 0.8775 - lr: 4.5359e-04\n",
            "Epoch 11/15\n",
            "1250/1250 [==============================] - 558s 447ms/step - loss: 0.2380 - accuracy: 0.9051 - root_mean_squared_error: 0.2635 - mae: 0.1391 - precision: 0.9005 - val_loss: 0.3148 - val_accuracy: 0.8740 - val_root_mean_squared_error: 0.3058 - val_mae: 0.1605 - val_precision: 0.8771 - lr: 3.4742e-04\n",
            "Epoch 12/15\n",
            "1250/1250 [==============================] - 563s 451ms/step - loss: 0.2290 - accuracy: 0.9090 - root_mean_squared_error: 0.2579 - mae: 0.1334 - precision: 0.9068 - val_loss: 0.3138 - val_accuracy: 0.8720 - val_root_mean_squared_error: 0.3064 - val_mae: 0.1674 - val_precision: 0.8784 - lr: 2.6610e-04\n",
            "Epoch 13/15\n",
            "1250/1250 [==============================] - 539s 431ms/step - loss: 0.2239 - accuracy: 0.9118 - root_mean_squared_error: 0.2547 - mae: 0.1303 - precision: 0.9082 - val_loss: 0.3252 - val_accuracy: 0.8742 - val_root_mean_squared_error: 0.3075 - val_mae: 0.1553 - val_precision: 0.8817 - lr: 2.0381e-04\n",
            "Epoch 14/15\n",
            " 876/1250 [====================>.........] - ETA: 2:23 - loss: 0.2222 - accuracy: 0.9123 - root_mean_squared_error: 0.2527 - mae: 0.1280 - precision: 0.9093"
          ]
        }
      ],
      "source": [
        "history = model.train(X_train_rev,y_train_rev, batch_size = BATCH_SIZE, epochs=EPOCHS, learning_rate=LEARNING_RATE , validation_data=(X_val_rev , y_val_rev))"
      ]
    },
    {
      "cell_type": "code",
      "execution_count": null,
      "metadata": {
        "colab": {
          "base_uri": "https://localhost:8080/"
        },
        "id": "U8r1mCfCj8rP",
        "outputId": "54dde834-ffc2-4b82-e10c-fa1affc6f560"
      },
      "outputs": [
        {
          "name": "stdout",
          "output_type": "stream",
          "text": [
            "157/157 [==============================] - 59s 374ms/step - loss: 0.5945 - accuracy: 0.8592 - root_mean_squared_error: 0.3496 - mae: 0.1451 - precision: 0.8547\n"
          ]
        },
        {
          "data": {
            "text/plain": [
              "[0.5945040583610535,\n",
              " 0.8592000007629395,\n",
              " 0.34960469603538513,\n",
              " 0.14513042569160461,\n",
              " 0.8546671867370605]"
            ]
          },
          "execution_count": 26,
          "metadata": {},
          "output_type": "execute_result"
        }
      ],
      "source": [
        "model.evaluate(X_test_rev , y_test_rev)"
      ]
    },
    {
      "cell_type": "markdown",
      "metadata": {
        "id": "s97l8vbNkaFA"
      },
      "source": [
        "overfitting\n",
        "\n",
        "\n",
        "\n"
      ]
    },
    {
      "cell_type": "code",
      "execution_count": null,
      "metadata": {
        "id": "gOE0YsLizrgR"
      },
      "outputs": [],
      "source": [
        "from keras import metrics\n",
        "rmse = metrics.RootMeanSquaredError()\n",
        "precision = metrics.Precision()"
      ]
    },
    {
      "cell_type": "markdown",
      "metadata": {
        "id": "NHO3St6wzcyz"
      },
      "source": [
        "## ***save sentiment model***"
      ]
    },
    {
      "cell_type": "code",
      "execution_count": null,
      "metadata": {
        "colab": {
          "base_uri": "https://localhost:8080/"
        },
        "id": "62SnON3V-dUp",
        "outputId": "64be2752-39da-4059-96f6-f188b348ccb5"
      },
      "outputs": [
        {
          "name": "stderr",
          "output_type": "stream",
          "text": [
            "WARNING:tensorflow:Model's `__init__()` arguments contain non-serializable objects. Please implement a `get_config()` method in the subclassed Model for proper saving and loading. Defaulting to empty config.\n",
            "WARNING:tensorflow:Model's `__init__()` arguments contain non-serializable objects. Please implement a `get_config()` method in the subclassed Model for proper saving and loading. Defaulting to empty config.\n",
            "WARNING:absl:Found untraced functions such as _jit_compiled_convolution_op, _update_step_xla, lstm_cell_7_layer_call_fn, lstm_cell_7_layer_call_and_return_conditional_losses, lstm_cell_8_layer_call_fn while saving (showing 5 of 372). These functions will not be directly callable after loading.\n",
            "WARNING:tensorflow:Model's `__init__()` arguments contain non-serializable objects. Please implement a `get_config()` method in the subclassed Model for proper saving and loading. Defaulting to empty config.\n",
            "WARNING:tensorflow:Model's `__init__()` arguments contain non-serializable objects. Please implement a `get_config()` method in the subclassed Model for proper saving and loading. Defaulting to empty config.\n"
          ]
        }
      ],
      "source": [
        "model_sa.save('/content/drive/MyDrive/concat_modelSA', save_format='tf')"
      ]
    },
    {
      "cell_type": "code",
      "execution_count": null,
      "metadata": {
        "id": "0As9RFc8Ha4d"
      },
      "outputs": [],
      "source": [
        "loaded_model_SA = tf.keras.models.load_model('/content/drive/MyDrive/concat_modelSA')"
      ]
    },
    {
      "cell_type": "code",
      "execution_count": null,
      "metadata": {
        "colab": {
          "base_uri": "https://localhost:8080/"
        },
        "id": "S15bJqTG_u-0",
        "outputId": "af90919f-516b-478d-bb42-fe9a1ae3d938"
      },
      "outputs": [
        {
          "name": "stdout",
          "output_type": "stream",
          "text": [
            "316/316 [==============================] - 110s 340ms/step\n"
          ]
        }
      ],
      "source": [
        "\n",
        "sentiment = loaded_model_SA.predict(dataset['text'])\n"
      ]
    },
    {
      "cell_type": "code",
      "execution_count": null,
      "metadata": {
        "colab": {
          "base_uri": "https://localhost:8080/"
        },
        "id": "aAbywGAwLoow",
        "outputId": "f14317a3-8af3-4ba4-e905-750ddad2efee"
      },
      "outputs": [
        {
          "data": {
            "text/plain": [
              "array([[0.8124601 ],\n",
              "       [0.9521889 ],\n",
              "       [0.6658738 ],\n",
              "       ...,\n",
              "       [0.65334785],\n",
              "       [0.50953776],\n",
              "       [0.54554576]], dtype=float32)"
            ]
          },
          "execution_count": 60,
          "metadata": {},
          "output_type": "execute_result"
        }
      ],
      "source": [
        "sentiment"
      ]
    },
    {
      "cell_type": "code",
      "execution_count": null,
      "metadata": {
        "id": "Vl5bqU3FIc8-"
      },
      "outputs": [],
      "source": [
        "dataset['sentiment']= sentiment"
      ]
    },
    {
      "cell_type": "markdown",
      "metadata": {
        "id": "KMUbF1KYIrAu"
      },
      "source": [
        "## ***enregistrer score de sentiment et la confiance***"
      ]
    },
    {
      "cell_type": "code",
      "execution_count": null,
      "metadata": {
        "colab": {
          "base_uri": "https://localhost:8080/",
          "height": 646
        },
        "id": "sbKM3Rt84kqc",
        "outputId": "2d59dbaf-3317-41d3-89c8-d25ebcc3e5b6"
      },
      "outputs": [
        {
          "data": {
            "text/html": [
              "\n",
              "  <div id=\"df-88e4517f-a364-441d-b856-9020ae33b07e\">\n",
              "    <div class=\"colab-df-container\">\n",
              "      <div>\n",
              "<style scoped>\n",
              "    .dataframe tbody tr th:only-of-type {\n",
              "        vertical-align: middle;\n",
              "    }\n",
              "\n",
              "    .dataframe tbody tr th {\n",
              "        vertical-align: top;\n",
              "    }\n",
              "\n",
              "    .dataframe thead th {\n",
              "        text-align: right;\n",
              "    }\n",
              "</style>\n",
              "<table border=\"1\" class=\"dataframe\">\n",
              "  <thead>\n",
              "    <tr style=\"text-align: right;\">\n",
              "      <th></th>\n",
              "      <th>Unnamed: 0</th>\n",
              "      <th>user_id</th>\n",
              "      <th>item_id</th>\n",
              "      <th>text</th>\n",
              "      <th>rating</th>\n",
              "      <th>fans</th>\n",
              "      <th>average_stars</th>\n",
              "      <th>friends</th>\n",
              "      <th>vote_funny</th>\n",
              "      <th>useful</th>\n",
              "      <th>...</th>\n",
              "      <th>Car Auctions</th>\n",
              "      <th>Food Trucks</th>\n",
              "      <th>Waterproofing</th>\n",
              "      <th>Water Delivery</th>\n",
              "      <th>Food Delivery Services</th>\n",
              "      <th>Korean</th>\n",
              "      <th>Chicken Shop</th>\n",
              "      <th>Hospitals</th>\n",
              "      <th>valuer_conf</th>\n",
              "      <th>sentiment</th>\n",
              "    </tr>\n",
              "  </thead>\n",
              "  <tbody>\n",
              "    <tr>\n",
              "      <th>0</th>\n",
              "      <td>0</td>\n",
              "      <td>0</td>\n",
              "      <td>1411</td>\n",
              "      <td>looking optometrist brady fantastic knowledgea...</td>\n",
              "      <td>4.5</td>\n",
              "      <td>5</td>\n",
              "      <td>3.93</td>\n",
              "      <td>982</td>\n",
              "      <td>16</td>\n",
              "      <td>68</td>\n",
              "      <td>...</td>\n",
              "      <td>0.0</td>\n",
              "      <td>0.0</td>\n",
              "      <td>0.0</td>\n",
              "      <td>0.0</td>\n",
              "      <td>0.0</td>\n",
              "      <td>0.0</td>\n",
              "      <td>0.0</td>\n",
              "      <td>0.0</td>\n",
              "      <td>1.000000</td>\n",
              "      <td>0.812460</td>\n",
              "    </tr>\n",
              "    <tr>\n",
              "      <th>1</th>\n",
              "      <td>1</td>\n",
              "      <td>0</td>\n",
              "      <td>1823</td>\n",
              "      <td>fun best way absolutely adorable shop cornucop...</td>\n",
              "      <td>4.0</td>\n",
              "      <td>5</td>\n",
              "      <td>3.93</td>\n",
              "      <td>982</td>\n",
              "      <td>16</td>\n",
              "      <td>68</td>\n",
              "      <td>...</td>\n",
              "      <td>0.0</td>\n",
              "      <td>0.0</td>\n",
              "      <td>0.0</td>\n",
              "      <td>0.0</td>\n",
              "      <td>0.0</td>\n",
              "      <td>0.0</td>\n",
              "      <td>0.0</td>\n",
              "      <td>0.0</td>\n",
              "      <td>1.000000</td>\n",
              "      <td>0.952189</td>\n",
              "    </tr>\n",
              "    <tr>\n",
              "      <th>2</th>\n",
              "      <td>2</td>\n",
              "      <td>1</td>\n",
              "      <td>1990</td>\n",
              "      <td>went birthday lunch definitely list went big d...</td>\n",
              "      <td>4.5</td>\n",
              "      <td>4</td>\n",
              "      <td>4.37</td>\n",
              "      <td>94</td>\n",
              "      <td>5</td>\n",
              "      <td>14</td>\n",
              "      <td>...</td>\n",
              "      <td>0.0</td>\n",
              "      <td>0.0</td>\n",
              "      <td>0.0</td>\n",
              "      <td>0.0</td>\n",
              "      <td>0.0</td>\n",
              "      <td>0.0</td>\n",
              "      <td>0.0</td>\n",
              "      <td>0.0</td>\n",
              "      <td>1.000000</td>\n",
              "      <td>0.665874</td>\n",
              "    </tr>\n",
              "    <tr>\n",
              "      <th>3</th>\n",
              "      <td>3</td>\n",
              "      <td>2</td>\n",
              "      <td>224</td>\n",
              "      <td>special target pretty convenient location park...</td>\n",
              "      <td>4.0</td>\n",
              "      <td>18</td>\n",
              "      <td>3.64</td>\n",
              "      <td>8110</td>\n",
              "      <td>106</td>\n",
              "      <td>325</td>\n",
              "      <td>...</td>\n",
              "      <td>0.0</td>\n",
              "      <td>0.0</td>\n",
              "      <td>0.0</td>\n",
              "      <td>0.0</td>\n",
              "      <td>0.0</td>\n",
              "      <td>0.0</td>\n",
              "      <td>0.0</td>\n",
              "      <td>0.0</td>\n",
              "      <td>1.000000</td>\n",
              "      <td>0.494975</td>\n",
              "    </tr>\n",
              "    <tr>\n",
              "      <th>4</th>\n",
              "      <td>4</td>\n",
              "      <td>2</td>\n",
              "      <td>383</td>\n",
              "      <td>wow place packed spirit place asked athletes a...</td>\n",
              "      <td>5.0</td>\n",
              "      <td>18</td>\n",
              "      <td>3.64</td>\n",
              "      <td>8110</td>\n",
              "      <td>106</td>\n",
              "      <td>325</td>\n",
              "      <td>...</td>\n",
              "      <td>0.0</td>\n",
              "      <td>0.0</td>\n",
              "      <td>0.0</td>\n",
              "      <td>0.0</td>\n",
              "      <td>0.0</td>\n",
              "      <td>0.0</td>\n",
              "      <td>0.0</td>\n",
              "      <td>0.0</td>\n",
              "      <td>0.850834</td>\n",
              "      <td>0.870697</td>\n",
              "    </tr>\n",
              "  </tbody>\n",
              "</table>\n",
              "<p>5 rows × 687 columns</p>\n",
              "</div>\n",
              "      <button class=\"colab-df-convert\" onclick=\"convertToInteractive('df-88e4517f-a364-441d-b856-9020ae33b07e')\"\n",
              "              title=\"Convert this dataframe to an interactive table.\"\n",
              "              style=\"display:none;\">\n",
              "        \n",
              "  <svg xmlns=\"http://www.w3.org/2000/svg\" height=\"24px\"viewBox=\"0 0 24 24\"\n",
              "       width=\"24px\">\n",
              "    <path d=\"M0 0h24v24H0V0z\" fill=\"none\"/>\n",
              "    <path d=\"M18.56 5.44l.94 2.06.94-2.06 2.06-.94-2.06-.94-.94-2.06-.94 2.06-2.06.94zm-11 1L8.5 8.5l.94-2.06 2.06-.94-2.06-.94L8.5 2.5l-.94 2.06-2.06.94zm10 10l.94 2.06.94-2.06 2.06-.94-2.06-.94-.94-2.06-.94 2.06-2.06.94z\"/><path d=\"M17.41 7.96l-1.37-1.37c-.4-.4-.92-.59-1.43-.59-.52 0-1.04.2-1.43.59L10.3 9.45l-7.72 7.72c-.78.78-.78 2.05 0 2.83L4 21.41c.39.39.9.59 1.41.59.51 0 1.02-.2 1.41-.59l7.78-7.78 2.81-2.81c.8-.78.8-2.07 0-2.86zM5.41 20L4 18.59l7.72-7.72 1.47 1.35L5.41 20z\"/>\n",
              "  </svg>\n",
              "      </button>\n",
              "      \n",
              "  <style>\n",
              "    .colab-df-container {\n",
              "      display:flex;\n",
              "      flex-wrap:wrap;\n",
              "      gap: 12px;\n",
              "    }\n",
              "\n",
              "    .colab-df-convert {\n",
              "      background-color: #E8F0FE;\n",
              "      border: none;\n",
              "      border-radius: 50%;\n",
              "      cursor: pointer;\n",
              "      display: none;\n",
              "      fill: #1967D2;\n",
              "      height: 32px;\n",
              "      padding: 0 0 0 0;\n",
              "      width: 32px;\n",
              "    }\n",
              "\n",
              "    .colab-df-convert:hover {\n",
              "      background-color: #E2EBFA;\n",
              "      box-shadow: 0px 1px 2px rgba(60, 64, 67, 0.3), 0px 1px 3px 1px rgba(60, 64, 67, 0.15);\n",
              "      fill: #174EA6;\n",
              "    }\n",
              "\n",
              "    [theme=dark] .colab-df-convert {\n",
              "      background-color: #3B4455;\n",
              "      fill: #D2E3FC;\n",
              "    }\n",
              "\n",
              "    [theme=dark] .colab-df-convert:hover {\n",
              "      background-color: #434B5C;\n",
              "      box-shadow: 0px 1px 3px 1px rgba(0, 0, 0, 0.15);\n",
              "      filter: drop-shadow(0px 1px 2px rgba(0, 0, 0, 0.3));\n",
              "      fill: #FFFFFF;\n",
              "    }\n",
              "  </style>\n",
              "\n",
              "      <script>\n",
              "        const buttonEl =\n",
              "          document.querySelector('#df-88e4517f-a364-441d-b856-9020ae33b07e button.colab-df-convert');\n",
              "        buttonEl.style.display =\n",
              "          google.colab.kernel.accessAllowed ? 'block' : 'none';\n",
              "\n",
              "        async function convertToInteractive(key) {\n",
              "          const element = document.querySelector('#df-88e4517f-a364-441d-b856-9020ae33b07e');\n",
              "          const dataTable =\n",
              "            await google.colab.kernel.invokeFunction('convertToInteractive',\n",
              "                                                     [key], {});\n",
              "          if (!dataTable) return;\n",
              "\n",
              "          const docLinkHtml = 'Like what you see? Visit the ' +\n",
              "            '<a target=\"_blank\" href=https://colab.research.google.com/notebooks/data_table.ipynb>data table notebook</a>'\n",
              "            + ' to learn more about interactive tables.';\n",
              "          element.innerHTML = '';\n",
              "          dataTable['output_type'] = 'display_data';\n",
              "          await google.colab.output.renderOutput(dataTable, element);\n",
              "          const docLink = document.createElement('div');\n",
              "          docLink.innerHTML = docLinkHtml;\n",
              "          element.appendChild(docLink);\n",
              "        }\n",
              "      </script>\n",
              "    </div>\n",
              "  </div>\n",
              "  "
            ],
            "text/plain": [
              "   Unnamed: 0  user_id  item_id  \\\n",
              "0           0        0     1411   \n",
              "1           1        0     1823   \n",
              "2           2        1     1990   \n",
              "3           3        2      224   \n",
              "4           4        2      383   \n",
              "\n",
              "                                                text  rating  fans  \\\n",
              "0  looking optometrist brady fantastic knowledgea...     4.5     5   \n",
              "1  fun best way absolutely adorable shop cornucop...     4.0     5   \n",
              "2  went birthday lunch definitely list went big d...     4.5     4   \n",
              "3  special target pretty convenient location park...     4.0    18   \n",
              "4  wow place packed spirit place asked athletes a...     5.0    18   \n",
              "\n",
              "   average_stars  friends  vote_funny  useful  ...  Car Auctions  Food Trucks  \\\n",
              "0           3.93      982          16      68  ...           0.0          0.0   \n",
              "1           3.93      982          16      68  ...           0.0          0.0   \n",
              "2           4.37       94           5      14  ...           0.0          0.0   \n",
              "3           3.64     8110         106     325  ...           0.0          0.0   \n",
              "4           3.64     8110         106     325  ...           0.0          0.0   \n",
              "\n",
              "   Waterproofing  Water Delivery  Food Delivery Services  Korean  \\\n",
              "0            0.0             0.0                     0.0     0.0   \n",
              "1            0.0             0.0                     0.0     0.0   \n",
              "2            0.0             0.0                     0.0     0.0   \n",
              "3            0.0             0.0                     0.0     0.0   \n",
              "4            0.0             0.0                     0.0     0.0   \n",
              "\n",
              "   Chicken Shop  Hospitals  valuer_conf  sentiment  \n",
              "0           0.0        0.0     1.000000   0.812460  \n",
              "1           0.0        0.0     1.000000   0.952189  \n",
              "2           0.0        0.0     1.000000   0.665874  \n",
              "3           0.0        0.0     1.000000   0.494975  \n",
              "4           0.0        0.0     0.850834   0.870697  \n",
              "\n",
              "[5 rows x 687 columns]"
            ]
          },
          "execution_count": 63,
          "metadata": {},
          "output_type": "execute_result"
        }
      ],
      "source": [
        "dataset.to_csv(r'/content/drive/MyDrive/datasetwithconfvalue.csv') # enregistre update dataset\n",
        "dataset.head()"
      ]
    },
    {
      "cell_type": "markdown",
      "metadata": {
        "id": "AGNoUT3D3iZU"
      },
      "source": [
        "## **filtring model_data**"
      ]
    },
    {
      "cell_type": "code",
      "execution_count": null,
      "metadata": {
        "id": "P0wU_7O04KTC"
      },
      "outputs": [],
      "source": [
        "dataset = pd.read_csv('/content/drive/MyDrive/yelpdatasetwithconfsent.csv',nrows = 20000) #open dataset"
      ]
    },
    {
      "cell_type": "code",
      "execution_count": null,
      "metadata": {
        "id": "2h6F5x_YM-F4"
      },
      "outputs": [],
      "source": [
        "dataset.head()"
      ]
    },
    {
      "cell_type": "code",
      "execution_count": null,
      "metadata": {
        "id": "UaKT1LhrJQu3"
      },
      "outputs": [],
      "source": [
        "# def ponderation(datset , alpha):\n",
        "#     for index, row in dataset.iterrows():\n",
        "#       row['rating'] = row['rating']/5\n",
        "#       row['rating'] = (alpha * row['rating']) + (1-alpha)*(row['valuer_conf']*row['sentiment'])\n",
        "#       row['rating'] = row['rating']*5\n",
        "def ponderation(dataset, alpha):\n",
        "    dataset['updated_rating'] = dataset['rating'] / 5\n",
        "    dataset['updated_rating'] = (alpha * dataset['updated_rating']) + (1 - alpha) * (dataset['valuer_conf'] * dataset['sentiment'])\n",
        "    dataset['updated_rating'] = dataset['updated_rating'] * 5"
      ]
    },
    {
      "cell_type": "code",
      "execution_count": null,
      "metadata": {
        "id": "Ij3oFk4EMhcd"
      },
      "outputs": [],
      "source": [
        "ponderation(dataset , 0.7)"
      ]
    },
    {
      "cell_type": "code",
      "execution_count": null,
      "metadata": {
        "id": "zoBeEND_Nz_g"
      },
      "outputs": [],
      "source": [
        "dataset.head()"
      ]
    },
    {
      "cell_type": "code",
      "execution_count": null,
      "metadata": {
        "id": "HcaKtK5H3sHl"
      },
      "outputs": [],
      "source": [
        "def dataset_split(dataset): #normal testset\n",
        "    # Spliting into X and y\n",
        "    X = dataset[['user_id', 'item_id', 'text','fans','average_stars','friends','vote_funny','useful','vote_cool','hot','more',\n",
        "        'profile','cute','list','note','plain',\n",
        "        'cool','funny','writer','photos','Shopping', 'Books', 'Mags', 'Music & Video', 'Bookstores',\n",
        "        'Baby Gear & Furniture', 'Home Decor', 'Furniture Stores', 'Home & Garden', 'Auction Houses',\n",
        "        'Active Life', 'Fashion', 'Toy Stores', 'Hobby Shops', 'Comic Books', 'Department Stores',\n",
        "        'Grocery', 'Food', 'Electronics', 'Jewelry', 'Outdoor Gear', 'Golf Lessons', 'Sporting Goods',\n",
        "        'Golf Equipment', 'Golf', 'Fitness & Instruction', 'Sports Wear', 'Flooring', 'Home Services',\n",
        "        'Kitchen & Bath', 'Building Supplies', 'Interior Design', 'Hardware Stores', 'Appliances']]\n",
        "    y = dataset['updated_rating']\n",
        "    X_train , y_train , X_test , y_test = train_test_split(X , y , test_size=0.2 , random_state=0)\n",
        "    return X_train , y_train , X_test , y_test\n"
      ]
    },
    {
      "cell_type": "code",
      "execution_count": null,
      "metadata": {
        "id": "KXRyV58j4SmN"
      },
      "outputs": [],
      "source": [
        "X_train, X_test, y_train, y_test = dataset_split(dataset)"
      ]
    },
    {
      "cell_type": "code",
      "execution_count": null,
      "metadata": {
        "id": "207jTnXpUL0U"
      },
      "outputs": [],
      "source": [
        "train_userDATA = X_train[['fans','average_stars','friends','vote_funny','useful','vote_cool','hot','more',\n",
        "        'profile','cute','list','note','plain',\n",
        "        'cool','funny','writer','photos']] #17\n",
        "\n",
        "train_itemDATA = X_train[['Shopping', 'Books', 'Mags', 'Music & Video',\n",
        "                          'Bookstores', 'Baby Gear & Furniture', 'Home Decor',\n",
        "                          'Furniture Stores', 'Home & Garden', 'Auction Houses',\n",
        "                          'Active Life', 'Fashion', 'Toy Stores', 'Hobby Shops',\n",
        "                          'Comic Books', 'Department Stores', 'Grocery', 'Food',\n",
        "                          'Electronics', 'Jewelry', 'Outdoor Gear', 'Golf Lessons',\n",
        "                          'Sporting Goods', 'Golf Equipment', 'Golf', 'Fitness & Instruction',\n",
        "                          'Sports Wear', 'Flooring', 'Home Services', 'Kitchen & Bath',\n",
        "                          'Building Supplies', 'Interior Design', 'Hardware Stores', 'Appliances']] #34"
      ]
    },
    {
      "cell_type": "code",
      "execution_count": null,
      "metadata": {
        "id": "0KIdb72QUZuO"
      },
      "outputs": [],
      "source": [
        "train_userID = X_train['user_id']\n",
        "train_itemID = X_train['item_id']"
      ]
    },
    {
      "cell_type": "code",
      "execution_count": null,
      "metadata": {
        "id": "OD4sXivYhCsf"
      },
      "outputs": [],
      "source": [
        "# y_train.astype('float64')# train_userID, train_itemID, train_userDATA, train_itemDATA"
      ]
    },
    {
      "cell_type": "code",
      "execution_count": null,
      "metadata": {
        "id": "DO2P4vbHMUfb"
      },
      "outputs": [],
      "source": [
        "def getnum_user_item(X_train):\n",
        "    num_users = int(max(X_train.user_id.max()+1,X_test.user_id.max()+1))\n",
        "    num_items = int(max(X_train.item_id.max()+1,X_test.item_id.max()+1))\n",
        "    return num_users , num_items\n",
        "\n",
        "num_users , num_items = getnum_user_item(X_train)"
      ]
    },
    {
      "cell_type": "code",
      "execution_count": null,
      "metadata": {
        "colab": {
          "base_uri": "https://localhost:8080/"
        },
        "id": "4O97peR4Pupe",
        "outputId": "8e936c10-ee76-4d49-c6ad-165a4956e8ee"
      },
      "outputs": [
        {
          "output_type": "stream",
          "name": "stdout",
          "text": [
            "3314 2874\n"
          ]
        }
      ],
      "source": [
        "print(num_users , num_items )"
      ]
    }
  ],
  "metadata": {
    "accelerator": "GPU",
    "colab": {
      "collapsed_sections": [
        "tsorjIPDiFPN",
        "ZzO_TsIUv-gK",
        "xhuG2S1Xj7bA",
        "uBMWVi2NkJZI",
        "icicUZkpkRCn",
        "yeUmU9jPlYAW",
        "FQK_8H0amJdl",
        "bGZ2ycH4mKwK",
        "D52SFqpA7jY-",
        "NHO3St6wzcyz",
        "KMUbF1KYIrAu",
        "AGNoUT3D3iZU"
      ],
      "provenance": [],
      "include_colab_link": true
    },
    "gpuClass": "standard",
    "kernelspec": {
      "display_name": "Python 3",
      "name": "python3"
    },
    "language_info": {
      "name": "python"
    }
  },
  "nbformat": 4,
  "nbformat_minor": 0
}
