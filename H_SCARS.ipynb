{
  "nbformat": 4,
  "nbformat_minor": 0,
  "metadata": {
    "colab": {
      "provenance": [],
      "collapsed_sections": [
        "TSGGKWtOuTFV",
        "182ucOnQC1Zt",
        "6qPYAKR9CkiN",
        "jpOEuRB0Mkbc",
        "ruX_VgRhMtdS",
        "wfk6XkgfES27",
        "EzEWOvyULpL6"
      ],
      "include_colab_link": true
    },
    "kernelspec": {
      "name": "python3",
      "display_name": "Python 3"
    },
    "language_info": {
      "name": "python"
    },
    "gpuClass": "standard"
  },
  "cells": [
    {
      "cell_type": "markdown",
      "metadata": {
        "id": "view-in-github",
        "colab_type": "text"
      },
      "source": [
        "<a href=\"https://colab.research.google.com/github/felladib/H_SentimentAnalysis_REC/blob/main/H_SCARS.ipynb\" target=\"_parent\"><img src=\"https://colab.research.google.com/assets/colab-badge.svg\" alt=\"Open In Colab\"/></a>"
      ]
    },
    {
      "cell_type": "code",
      "source": [
        "from google.colab import drive\n",
        "drive.mount('/content/drive')"
      ],
      "metadata": {
        "id": "dR1Tgncz7py4",
        "colab": {
          "base_uri": "https://localhost:8080/"
        },
        "outputId": "24060295-0752-4f01-a53e-5737d6fdf533"
      },
      "execution_count": null,
      "outputs": [
        {
          "output_type": "stream",
          "name": "stdout",
          "text": [
            "Drive already mounted at /content/drive; to attempt to forcibly remount, call drive.mount(\"/content/drive\", force_remount=True).\n"
          ]
        }
      ]
    },
    {
      "cell_type": "markdown",
      "source": [
        "# ***import lib***"
      ],
      "metadata": {
        "id": "fw65T4Jg7tdF"
      }
    },
    {
      "cell_type": "code",
      "execution_count": null,
      "metadata": {
        "id": "R4N0onD2vxLQ"
      },
      "outputs": [],
      "source": [
        "import tensorflow as tf\n",
        "import math\n",
        "import pandas as pd\n",
        "import numpy as np\n",
        "import keras\n",
        "from sklearn.model_selection import train_test_split\n",
        "import re\n",
        "import os\n",
        "from tqdm import tqdm\n",
        "\n",
        "\n",
        "\n",
        "import keras\n",
        "from keras.layers import Embedding\n",
        "from keras.layers.core import Flatten\n",
        "from keras.layers import Multiply, Dense, Input\n",
        "from keras.models import Model\n",
        "from keras.layers import concatenate\n",
        "from keras.models import load_model\n",
        "from keras.callbacks import EarlyStopping\n",
        "\n",
        "\n",
        "import math\n",
        "from time import time\n",
        "import pickle\n",
        "\n",
        "import nltk\n",
        "from nltk.corpus import stopwords\n",
        "from string import punctuation\n",
        "\n",
        "from tensorflow.keras.datasets import imdb\n",
        "from tensorflow.keras.initializers import lecun_uniform\n",
        "from tensorflow.keras.models import Sequential\n",
        "from tensorflow.keras.layers import *\n",
        "from tensorflow.keras import layers\n",
        "\n",
        "import matplotlib.pyplot as plt"
      ]
    },
    {
      "cell_type": "markdown",
      "source": [
        "## ***la matrice de confiance***"
      ],
      "metadata": {
        "id": "_8URk3MyI0U-"
      }
    },
    {
      "cell_type": "code",
      "source": [
        "# relu fonction permet de retourner x or 0 dans le cas ou x<0\n",
        "def relu(x):\n",
        "    return (np.maximum(0,x))\n",
        "#  build_confidence_M fonction permet de retourner un vecteur qui contient la valeur de confiance pour chaque row (user , item ) dans notre dataset\n",
        "def build_confidence_M(dataset_item, dataset_user, emb_dataset,i ):\n",
        "  confidence_M = np.zeros(dataset_user.shape[0]) # intialiser la matrice par des zeros\n",
        "  #i = 0\n",
        "  for index, row in emb_dataset.iterrows():\n",
        "    user   = row['user_id']\n",
        "    item   = row['item_id']\n",
        "    rating = row['rating']\n",
        "    # recupere l user qu'on veut lui calcule la valeur de confinace par rapport un item\n",
        "    if rating<= 3:\n",
        "      nb1 = 0\n",
        "      nb2 = 0\n",
        "      sum1 = 0\n",
        "      sum2 = 0\n",
        "      #  recperer tt les ratings de cet user par rapport au autre items\n",
        "      for x in dataset_user['user_id']:\n",
        "\n",
        "        if (user == dataset['user_id'][x]):\n",
        "          if (item != dataset['item_id'][x] and dataset['rating'][x] <= 3):\n",
        "            nb1 = nb1+1\n",
        "            sum1 = sum1 + dataset['rating'][x]\n",
        "      #  la moyenne de ratings\n",
        "      if(nb1!=0):\n",
        "        result1 = sum1/nb1 #la somme des ratings divisé par le nombre de ratings (<=3)\n",
        "        result1 = result1 - rating #rating : la note qu'a donné l'utilisateur considéré [i] à l'item considéré [i]\n",
        "        result1 = abs(result1)\n",
        "        result1 = result1 - 0.8  #0.8 :\n",
        "        result1 = - relu(result1) # ReLU : permet de remplacer les resultats négatifs par 0\n",
        "      else: result1 = 0\n",
        "      #  recuperer tt les ratings donner  par les autre users a cet item\n",
        "      for y in dataset_item['item_id']:\n",
        "\n",
        "        if (item == dataset['item_id'][y]):\n",
        "          if (user != dataset['user_id'][y] and dataset['rating'][y] <= 3):\n",
        "            nb2 = nb2+1\n",
        "            sum2 = sum2 + dataset['rating'][y]\n",
        "\n",
        "    #   calcule la moyenne de ratings\n",
        "      if(nb2!=0):\n",
        "        result2 = sum2/nb2\n",
        "        result2 = result2 - rating\n",
        "        result2 = abs(result2)\n",
        "        result2 = result2 - 0.8\n",
        "        result2 = - relu(result2)\n",
        "      else: result2 = 0\n",
        "      result = result1 + result2\n",
        "      result = math.exp(result)\n",
        "      # return result\n",
        "    # les meme etap si rating >3\n",
        "    elif rating > 3:\n",
        "      nb1 = 0\n",
        "      nb2 = 0\n",
        "      sum1 = 0\n",
        "      sum2 = 0\n",
        "      for x in dataset_user['user_id']:\n",
        "        if (user == dataset['user_id'][x]):\n",
        "          if (item != dataset['item_id'][x] and dataset['rating'][x] > 3):\n",
        "            nb1 = nb1+1\n",
        "            sum1 = sum1 + dataset['rating'][x]\n",
        "      if(nb1!=0):\n",
        "        result1 = sum1/nb1\n",
        "        result1 = result1 - rating\n",
        "        result1 = abs(result1)\n",
        "        result1 = result1 - 0.8\n",
        "        result1 = - relu(result1)\n",
        "      else: result1 = 0\n",
        "      for y in dataset_item['item_id']:\n",
        "        if (item == dataset['item_id'][y]):\n",
        "          if (user != dataset['user_id'][y] and dataset['rating'][y] > 3):\n",
        "            nb2 = nb2+1\n",
        "            sum2 = sum2 + dataset['rating'][y]\n",
        "      if(nb2!=0):\n",
        "        result2 = sum2/nb2\n",
        "        result2 = result2 - rating\n",
        "        result2 = abs(result2)\n",
        "        result2 = result2 - 0.8\n",
        "        result2 = - relu(result2)\n",
        "      else: result2 = 0\n",
        "      result = result1 + result2\n",
        "      result = math.exp(result)\n",
        "    # remplire la matrice par la valeur de confiance\n",
        "    confidence_M[i]=result\n",
        "    i = i+1\n",
        "  return confidence_M"
      ],
      "metadata": {
        "id": "agx5y7goIwsg"
      },
      "execution_count": null,
      "outputs": []
    },
    {
      "cell_type": "markdown",
      "source": [
        "# ***dataset split***"
      ],
      "metadata": {
        "id": "EiEgIlWL76bF"
      }
    },
    {
      "cell_type": "code",
      "source": [
        "def dataset_split(dataset): #normal testset\n",
        "    # Spliting into X and y\n",
        "    X = dataset[['user_id', 'item_id', 'text','valuer_conf','fans','average_stars','friends','vote_funny','useful','vote_cool','hot','more',\n",
        "        'profile','cute','list','note','plain',\n",
        "        'cool','funny','writer','photos','Shopping', 'Books', 'Mags', 'Music & Video', 'Bookstores',\n",
        "        'Baby Gear & Furniture', 'Home Decor', 'Furniture Stores', 'Home & Garden', 'Auction Houses',\n",
        "        'Active Life', 'Fashion', 'Toy Stores', 'Hobby Shops', 'Comic Books', 'Department Stores',\n",
        "        'Grocery', 'Food', 'Electronics', 'Jewelry', 'Outdoor Gear', 'Golf Lessons', 'Sporting Goods',\n",
        "        'Golf Equipment', 'Golf', 'Fitness & Instruction', 'Sports Wear', 'Flooring', 'Home Services',\n",
        "        'Kitchen & Bath', 'Building Supplies', 'Interior Design', 'Hardware Stores', 'Appliances']]\n",
        "    y = dataset['rating']\n",
        "    X_train , y_train , X_test , y_test = train_test_split(X , y , test_size=0.2 , random_state=0)\n",
        "    return X_train , y_train , X_test , y_test\n",
        "\n",
        "# dataset = pd.read_csv('/content/drive/MyDrive/Yelp/shopping_full_dataset.csv' , sep='|',nrows = 20000) #open dataset\n",
        "# X_train, X_test, y_train, y_test = dataset_split(dataset)"
      ],
      "metadata": {
        "id": "9fbUdReRvzBT"
      },
      "execution_count": null,
      "outputs": []
    },
    {
      "cell_type": "code",
      "source": [
        "dataset.head() # affichage de data set"
      ],
      "metadata": {
        "id": "SCXVtKIcUGHM",
        "colab": {
          "base_uri": "https://localhost:8080/",
          "height": 646
        },
        "outputId": "cffaca8e-c121-42b6-9861-d2102f71b6ec"
      },
      "execution_count": null,
      "outputs": [
        {
          "output_type": "execute_result",
          "data": {
            "text/plain": [
              "   user_id  item_id                                               text  \\\n",
              "0        0     1411  looking optometrist brady fantastic knowledgea...   \n",
              "1        0     1823  fun best way absolutely adorable shop cornucop...   \n",
              "2        1     1990  went birthday lunch definitely list went big d...   \n",
              "3        2      224  special target pretty convenient location park...   \n",
              "4        2      383  wow place packed spirit place asked athletes a...   \n",
              "\n",
              "   rating  fans  average_stars  friends  vote_funny  useful  vote_cool  ...  \\\n",
              "0     4.5     5           3.93      982          16      68         28  ...   \n",
              "1     4.0     5           3.93      982          16      68         28  ...   \n",
              "2     4.5     4           4.37       94           5      14         10  ...   \n",
              "3     4.0    18           3.64     8110         106     325         99  ...   \n",
              "4     5.0    18           3.64     8110         106     325         99  ...   \n",
              "\n",
              "   Shared Office Spaces  TV Mounting  Car Auctions  Food Trucks  \\\n",
              "0                   0.0          0.0           0.0          0.0   \n",
              "1                   0.0          0.0           0.0          0.0   \n",
              "2                   0.0          0.0           0.0          0.0   \n",
              "3                   0.0          0.0           0.0          0.0   \n",
              "4                   0.0          0.0           0.0          0.0   \n",
              "\n",
              "   Waterproofing  Water Delivery  Food Delivery Services  Korean  \\\n",
              "0            0.0             0.0                     0.0     0.0   \n",
              "1            0.0             0.0                     0.0     0.0   \n",
              "2            0.0             0.0                     0.0     0.0   \n",
              "3            0.0             0.0                     0.0     0.0   \n",
              "4            0.0             0.0                     0.0     0.0   \n",
              "\n",
              "   Chicken Shop  Hospitals  \n",
              "0           0.0        0.0  \n",
              "1           0.0        0.0  \n",
              "2           0.0        0.0  \n",
              "3           0.0        0.0  \n",
              "4           0.0        0.0  \n",
              "\n",
              "[5 rows x 684 columns]"
            ],
            "text/html": [
              "\n",
              "  <div id=\"df-22e0f2cf-a257-4634-bb4e-e45153c3ba95\">\n",
              "    <div class=\"colab-df-container\">\n",
              "      <div>\n",
              "<style scoped>\n",
              "    .dataframe tbody tr th:only-of-type {\n",
              "        vertical-align: middle;\n",
              "    }\n",
              "\n",
              "    .dataframe tbody tr th {\n",
              "        vertical-align: top;\n",
              "    }\n",
              "\n",
              "    .dataframe thead th {\n",
              "        text-align: right;\n",
              "    }\n",
              "</style>\n",
              "<table border=\"1\" class=\"dataframe\">\n",
              "  <thead>\n",
              "    <tr style=\"text-align: right;\">\n",
              "      <th></th>\n",
              "      <th>user_id</th>\n",
              "      <th>item_id</th>\n",
              "      <th>text</th>\n",
              "      <th>rating</th>\n",
              "      <th>fans</th>\n",
              "      <th>average_stars</th>\n",
              "      <th>friends</th>\n",
              "      <th>vote_funny</th>\n",
              "      <th>useful</th>\n",
              "      <th>vote_cool</th>\n",
              "      <th>...</th>\n",
              "      <th>Shared Office Spaces</th>\n",
              "      <th>TV Mounting</th>\n",
              "      <th>Car Auctions</th>\n",
              "      <th>Food Trucks</th>\n",
              "      <th>Waterproofing</th>\n",
              "      <th>Water Delivery</th>\n",
              "      <th>Food Delivery Services</th>\n",
              "      <th>Korean</th>\n",
              "      <th>Chicken Shop</th>\n",
              "      <th>Hospitals</th>\n",
              "    </tr>\n",
              "  </thead>\n",
              "  <tbody>\n",
              "    <tr>\n",
              "      <th>0</th>\n",
              "      <td>0</td>\n",
              "      <td>1411</td>\n",
              "      <td>looking optometrist brady fantastic knowledgea...</td>\n",
              "      <td>4.5</td>\n",
              "      <td>5</td>\n",
              "      <td>3.93</td>\n",
              "      <td>982</td>\n",
              "      <td>16</td>\n",
              "      <td>68</td>\n",
              "      <td>28</td>\n",
              "      <td>...</td>\n",
              "      <td>0.0</td>\n",
              "      <td>0.0</td>\n",
              "      <td>0.0</td>\n",
              "      <td>0.0</td>\n",
              "      <td>0.0</td>\n",
              "      <td>0.0</td>\n",
              "      <td>0.0</td>\n",
              "      <td>0.0</td>\n",
              "      <td>0.0</td>\n",
              "      <td>0.0</td>\n",
              "    </tr>\n",
              "    <tr>\n",
              "      <th>1</th>\n",
              "      <td>0</td>\n",
              "      <td>1823</td>\n",
              "      <td>fun best way absolutely adorable shop cornucop...</td>\n",
              "      <td>4.0</td>\n",
              "      <td>5</td>\n",
              "      <td>3.93</td>\n",
              "      <td>982</td>\n",
              "      <td>16</td>\n",
              "      <td>68</td>\n",
              "      <td>28</td>\n",
              "      <td>...</td>\n",
              "      <td>0.0</td>\n",
              "      <td>0.0</td>\n",
              "      <td>0.0</td>\n",
              "      <td>0.0</td>\n",
              "      <td>0.0</td>\n",
              "      <td>0.0</td>\n",
              "      <td>0.0</td>\n",
              "      <td>0.0</td>\n",
              "      <td>0.0</td>\n",
              "      <td>0.0</td>\n",
              "    </tr>\n",
              "    <tr>\n",
              "      <th>2</th>\n",
              "      <td>1</td>\n",
              "      <td>1990</td>\n",
              "      <td>went birthday lunch definitely list went big d...</td>\n",
              "      <td>4.5</td>\n",
              "      <td>4</td>\n",
              "      <td>4.37</td>\n",
              "      <td>94</td>\n",
              "      <td>5</td>\n",
              "      <td>14</td>\n",
              "      <td>10</td>\n",
              "      <td>...</td>\n",
              "      <td>0.0</td>\n",
              "      <td>0.0</td>\n",
              "      <td>0.0</td>\n",
              "      <td>0.0</td>\n",
              "      <td>0.0</td>\n",
              "      <td>0.0</td>\n",
              "      <td>0.0</td>\n",
              "      <td>0.0</td>\n",
              "      <td>0.0</td>\n",
              "      <td>0.0</td>\n",
              "    </tr>\n",
              "    <tr>\n",
              "      <th>3</th>\n",
              "      <td>2</td>\n",
              "      <td>224</td>\n",
              "      <td>special target pretty convenient location park...</td>\n",
              "      <td>4.0</td>\n",
              "      <td>18</td>\n",
              "      <td>3.64</td>\n",
              "      <td>8110</td>\n",
              "      <td>106</td>\n",
              "      <td>325</td>\n",
              "      <td>99</td>\n",
              "      <td>...</td>\n",
              "      <td>0.0</td>\n",
              "      <td>0.0</td>\n",
              "      <td>0.0</td>\n",
              "      <td>0.0</td>\n",
              "      <td>0.0</td>\n",
              "      <td>0.0</td>\n",
              "      <td>0.0</td>\n",
              "      <td>0.0</td>\n",
              "      <td>0.0</td>\n",
              "      <td>0.0</td>\n",
              "    </tr>\n",
              "    <tr>\n",
              "      <th>4</th>\n",
              "      <td>2</td>\n",
              "      <td>383</td>\n",
              "      <td>wow place packed spirit place asked athletes a...</td>\n",
              "      <td>5.0</td>\n",
              "      <td>18</td>\n",
              "      <td>3.64</td>\n",
              "      <td>8110</td>\n",
              "      <td>106</td>\n",
              "      <td>325</td>\n",
              "      <td>99</td>\n",
              "      <td>...</td>\n",
              "      <td>0.0</td>\n",
              "      <td>0.0</td>\n",
              "      <td>0.0</td>\n",
              "      <td>0.0</td>\n",
              "      <td>0.0</td>\n",
              "      <td>0.0</td>\n",
              "      <td>0.0</td>\n",
              "      <td>0.0</td>\n",
              "      <td>0.0</td>\n",
              "      <td>0.0</td>\n",
              "    </tr>\n",
              "  </tbody>\n",
              "</table>\n",
              "<p>5 rows × 684 columns</p>\n",
              "</div>\n",
              "      <button class=\"colab-df-convert\" onclick=\"convertToInteractive('df-22e0f2cf-a257-4634-bb4e-e45153c3ba95')\"\n",
              "              title=\"Convert this dataframe to an interactive table.\"\n",
              "              style=\"display:none;\">\n",
              "        \n",
              "  <svg xmlns=\"http://www.w3.org/2000/svg\" height=\"24px\"viewBox=\"0 0 24 24\"\n",
              "       width=\"24px\">\n",
              "    <path d=\"M0 0h24v24H0V0z\" fill=\"none\"/>\n",
              "    <path d=\"M18.56 5.44l.94 2.06.94-2.06 2.06-.94-2.06-.94-.94-2.06-.94 2.06-2.06.94zm-11 1L8.5 8.5l.94-2.06 2.06-.94-2.06-.94L8.5 2.5l-.94 2.06-2.06.94zm10 10l.94 2.06.94-2.06 2.06-.94-2.06-.94-.94-2.06-.94 2.06-2.06.94z\"/><path d=\"M17.41 7.96l-1.37-1.37c-.4-.4-.92-.59-1.43-.59-.52 0-1.04.2-1.43.59L10.3 9.45l-7.72 7.72c-.78.78-.78 2.05 0 2.83L4 21.41c.39.39.9.59 1.41.59.51 0 1.02-.2 1.41-.59l7.78-7.78 2.81-2.81c.8-.78.8-2.07 0-2.86zM5.41 20L4 18.59l7.72-7.72 1.47 1.35L5.41 20z\"/>\n",
              "  </svg>\n",
              "      </button>\n",
              "      \n",
              "  <style>\n",
              "    .colab-df-container {\n",
              "      display:flex;\n",
              "      flex-wrap:wrap;\n",
              "      gap: 12px;\n",
              "    }\n",
              "\n",
              "    .colab-df-convert {\n",
              "      background-color: #E8F0FE;\n",
              "      border: none;\n",
              "      border-radius: 50%;\n",
              "      cursor: pointer;\n",
              "      display: none;\n",
              "      fill: #1967D2;\n",
              "      height: 32px;\n",
              "      padding: 0 0 0 0;\n",
              "      width: 32px;\n",
              "    }\n",
              "\n",
              "    .colab-df-convert:hover {\n",
              "      background-color: #E2EBFA;\n",
              "      box-shadow: 0px 1px 2px rgba(60, 64, 67, 0.3), 0px 1px 3px 1px rgba(60, 64, 67, 0.15);\n",
              "      fill: #174EA6;\n",
              "    }\n",
              "\n",
              "    [theme=dark] .colab-df-convert {\n",
              "      background-color: #3B4455;\n",
              "      fill: #D2E3FC;\n",
              "    }\n",
              "\n",
              "    [theme=dark] .colab-df-convert:hover {\n",
              "      background-color: #434B5C;\n",
              "      box-shadow: 0px 1px 3px 1px rgba(0, 0, 0, 0.15);\n",
              "      filter: drop-shadow(0px 1px 2px rgba(0, 0, 0, 0.3));\n",
              "      fill: #FFFFFF;\n",
              "    }\n",
              "  </style>\n",
              "\n",
              "      <script>\n",
              "        const buttonEl =\n",
              "          document.querySelector('#df-22e0f2cf-a257-4634-bb4e-e45153c3ba95 button.colab-df-convert');\n",
              "        buttonEl.style.display =\n",
              "          google.colab.kernel.accessAllowed ? 'block' : 'none';\n",
              "\n",
              "        async function convertToInteractive(key) {\n",
              "          const element = document.querySelector('#df-22e0f2cf-a257-4634-bb4e-e45153c3ba95');\n",
              "          const dataTable =\n",
              "            await google.colab.kernel.invokeFunction('convertToInteractive',\n",
              "                                                     [key], {});\n",
              "          if (!dataTable) return;\n",
              "\n",
              "          const docLinkHtml = 'Like what you see? Visit the ' +\n",
              "            '<a target=\"_blank\" href=https://colab.research.google.com/notebooks/data_table.ipynb>data table notebook</a>'\n",
              "            + ' to learn more about interactive tables.';\n",
              "          element.innerHTML = '';\n",
              "          dataTable['output_type'] = 'display_data';\n",
              "          await google.colab.output.renderOutput(dataTable, element);\n",
              "          const docLink = document.createElement('div');\n",
              "          docLink.innerHTML = docLinkHtml;\n",
              "          element.appendChild(docLink);\n",
              "        }\n",
              "      </script>\n",
              "    </div>\n",
              "  </div>\n",
              "  "
            ]
          },
          "metadata": {},
          "execution_count": 5
        }
      ]
    },
    {
      "cell_type": "code",
      "source": [
        "dataset.columns #affichage des colonnes"
      ],
      "metadata": {
        "id": "nrO7YmXnUiFL",
        "colab": {
          "base_uri": "https://localhost:8080/"
        },
        "outputId": "71b0f890-05bb-4f11-fdbe-2f7be38ef0fa"
      },
      "execution_count": null,
      "outputs": [
        {
          "output_type": "execute_result",
          "data": {
            "text/plain": [
              "Index(['user_id', 'item_id', 'text', 'rating', 'fans', 'average_stars',\n",
              "       'friends', 'vote_funny', 'useful', 'vote_cool',\n",
              "       ...\n",
              "       'Shared Office Spaces', 'TV Mounting', 'Car Auctions', 'Food Trucks',\n",
              "       'Waterproofing', 'Water Delivery', 'Food Delivery Services', 'Korean',\n",
              "       'Chicken Shop', 'Hospitals'],\n",
              "      dtype='object', length=684)"
            ]
          },
          "metadata": {},
          "execution_count": 6
        }
      ]
    },
    {
      "cell_type": "code",
      "source": [
        "# copie les dataset pour les utilise dans la matrice de confiance\n",
        "dataset1 = dataset.copy() #copie notre dataset dans dataset1\n",
        "dataset1 = dataset1.sort_values(by=['item_id'],axis=0, ascending = True) #tri dataset1 by items sachant que dataset est trie par users\n",
        "dataset2 = dataset.copy() # copie dataset dans dataset2"
      ],
      "metadata": {
        "id": "9LCC_fM0Jkim"
      },
      "execution_count": null,
      "outputs": []
    },
    {
      "cell_type": "markdown",
      "source": [
        "## **Matrice de confiance**"
      ],
      "metadata": {
        "id": "TSGGKWtOuTFV"
      }
    },
    {
      "cell_type": "code",
      "source": [
        "i=0\n",
        "chunk_size = 1000\n",
        "num_chunks = len(dataset2) // chunk_size\n",
        "\n",
        "matrice_de_confiance = None\n",
        "\n",
        "for j in range(num_chunks):\n",
        "    start_idx = j * chunk_size\n",
        "    end_idx = start_idx + chunk_size\n",
        "    chunk = dataset2[start_idx:end_idx]\n",
        "    if matrice_de_confiance is None:\n",
        "        matrice_de_confiance = build_confidence_M(dataset, dataset1, chunk,i)\n",
        "    else:\n",
        "        matrice_de_confiance = np.concatenate((matrice_de_confiance, build_confidence_M(dataset, dataset1, chunk,i)), axis=0)\n",
        "\n",
        "#matrice_de_confiance = build_confidence_M(dataset,dataset1,dataset2) # remplir la matrice de confiance"
      ],
      "metadata": {
        "id": "VIP-ZL0GJWJX"
      },
      "execution_count": null,
      "outputs": []
    },
    {
      "cell_type": "code",
      "source": [
        "num_chunks = len(dataset2) // chunk_size\n",
        "num_chunks"
      ],
      "metadata": {
        "colab": {
          "base_uri": "https://localhost:8080/"
        },
        "id": "QVGIju_CES6C",
        "outputId": "7960f3de-dac3-4b24-d47c-8a315d927883"
      },
      "execution_count": null,
      "outputs": [
        {
          "output_type": "execute_result",
          "data": {
            "text/plain": [
              "10"
            ]
          },
          "metadata": {},
          "execution_count": 16
        }
      ]
    },
    {
      "cell_type": "code",
      "source": [
        "values , counts = np.unique( matrice_de_confiance , return_counts = True) #verification que la matrice a ete bien rempli\n",
        "print(values)"
      ],
      "metadata": {
        "id": "6YheDAWhKMl9",
        "colab": {
          "base_uri": "https://localhost:8080/"
        },
        "outputId": "6fc07c3a-e540-48da-8f6b-ff0323f8e825"
      },
      "execution_count": null,
      "outputs": [
        {
          "output_type": "stream",
          "name": "stdout",
          "text": [
            "[0.         0.30119421 0.46788918 0.4965853  0.51057271 0.51546464\n",
            " 0.52204578 0.54881164 0.55858251 0.58664622 0.59560248 0.59899621\n",
            " 0.60653066 0.63128365 0.63762815 0.6500089  0.66263003 0.67032005\n",
            " 0.68261915 0.69304062 0.70315782 0.70676375 0.7097396  0.72252735\n",
            " 0.72635361 0.73263247 0.73620255 0.75326866 0.75326866 0.75811281\n",
            " 0.76228973 0.76337949 0.77195924 0.77448611 0.78783899 0.79188957\n",
            " 0.81381347 0.81873075 0.82929488 0.83249061 0.83432516 0.83462794\n",
            " 0.83869882 0.83945702 0.84246044 0.84407646 0.84472006 0.84648172\n",
            " 0.84849956 0.85083381 0.8514757  0.85356521 0.85680455 0.86070798\n",
            " 0.86297598 0.86378743 0.86833606 0.87101573 0.87153435 0.87650034\n",
            " 0.87718753 0.87935075 0.87935075 0.88419564 0.88598733 0.88692044\n",
            " 0.88787979 0.88988177 0.88988177 0.89311183 0.89573349 0.89919982\n",
            " 0.90483742 0.90483742 0.90861544 0.90895968 0.91132368 0.91220376\n",
            " 0.91273988 0.91494723 0.91494723 0.91632206 0.91886563 0.91886563\n",
            " 0.92361101 0.92774349 0.93386718 0.93550699 0.93834615 0.94946952\n",
            " 0.95329956 0.95489504 0.95876885 0.96078944 0.9672161  0.9672161\n",
            " 0.97530991 0.97718731 0.97879939 0.97969614 0.98198247 0.98433453\n",
            " 0.9875778  0.99300702 0.99320501 1.        ]\n"
          ]
        }
      ]
    },
    {
      "cell_type": "code",
      "source": [
        "counts"
      ],
      "metadata": {
        "id": "4_VyJ2oqbAaI",
        "outputId": "a9dfad31-6b6e-4add-a172-13cf673ac0ab",
        "colab": {
          "base_uri": "https://localhost:8080/"
        }
      },
      "execution_count": null,
      "outputs": [
        {
          "output_type": "execute_result",
          "data": {
            "text/plain": [
              "array([91070,     2,     1,    23,     2,     1,     1,     1,     1,\n",
              "           1,     1,     1,     1,     2,     1,     1,     1,     1,\n",
              "           1,     1,     2,     1,     1,     4,     1,     1,     1,\n",
              "           3,     1,     1,     1,     1,     2,     1,     1,     2,\n",
              "           1,   122,     2,     1,     1,     3,     1,     1,     1,\n",
              "           1,     1,     1,     1,     2,     1,     2,     2,     2,\n",
              "           1,     1,     2,     1,     2,     1,     1,     2,     1,\n",
              "           1,     1,     2,     1,     1,     2,     1,     1,     1,\n",
              "           5,     3,     1,     1,     1,     1,     1,     2,     2,\n",
              "           1,     1,     1,     2,    11,     3,     1,     1,     1,\n",
              "           1,     1,     1,     2,     7,     4,     2,     1,     2,\n",
              "           1,     4,     1,     4,     1,     2,  9690])"
            ]
          },
          "metadata": {},
          "execution_count": 25
        }
      ]
    },
    {
      "cell_type": "code",
      "source": [
        "matrice_de_confiance.shape"
      ],
      "metadata": {
        "colab": {
          "base_uri": "https://localhost:8080/"
        },
        "id": "igXXP2qZZhu_",
        "outputId": "43100a9d-528e-4c19-c31b-4e976197fc38"
      },
      "execution_count": null,
      "outputs": [
        {
          "output_type": "execute_result",
          "data": {
            "text/plain": [
              "(101070,)"
            ]
          },
          "metadata": {},
          "execution_count": 24
        }
      ]
    },
    {
      "cell_type": "code",
      "source": [
        "dataset['valuer_conf'] = matrice_de_confiance # ajouter une colonne qui s'appelle 'valeur_conf ' qui contient la valeur de confinace de chaque tuple(user, item)\n",
        "dataset.head()"
      ],
      "metadata": {
        "id": "rKRvYx1eKWNQ",
        "colab": {
          "base_uri": "https://localhost:8080/",
          "height": 646
        },
        "outputId": "ec500b3e-50fe-4549-e9e5-9cd12134b935"
      },
      "execution_count": null,
      "outputs": [
        {
          "output_type": "execute_result",
          "data": {
            "text/plain": [
              "   user_id  item_id                                               text  \\\n",
              "0        0     1411  looking optometrist brady fantastic knowledgea...   \n",
              "1        0     1823  fun best way absolutely adorable shop cornucop...   \n",
              "2        1     1990  went birthday lunch definitely list went big d...   \n",
              "3        2      224  special target pretty convenient location park...   \n",
              "4        2      383  wow place packed spirit place asked athletes a...   \n",
              "\n",
              "   rating  fans  average_stars  friends  vote_funny  useful  vote_cool  ...  \\\n",
              "0     4.5     5           3.93      982          16      68         28  ...   \n",
              "1     4.0     5           3.93      982          16      68         28  ...   \n",
              "2     4.5     4           4.37       94           5      14         10  ...   \n",
              "3     4.0    18           3.64     8110         106     325         99  ...   \n",
              "4     5.0    18           3.64     8110         106     325         99  ...   \n",
              "\n",
              "   TV Mounting  Car Auctions  Food Trucks  Waterproofing  Water Delivery  \\\n",
              "0          0.0           0.0          0.0            0.0             0.0   \n",
              "1          0.0           0.0          0.0            0.0             0.0   \n",
              "2          0.0           0.0          0.0            0.0             0.0   \n",
              "3          0.0           0.0          0.0            0.0             0.0   \n",
              "4          0.0           0.0          0.0            0.0             0.0   \n",
              "\n",
              "   Food Delivery Services  Korean  Chicken Shop  Hospitals  valuer_conf  \n",
              "0                     0.0     0.0           0.0        0.0     1.000000  \n",
              "1                     0.0     0.0           0.0        0.0     1.000000  \n",
              "2                     0.0     0.0           0.0        0.0     1.000000  \n",
              "3                     0.0     0.0           0.0        0.0     1.000000  \n",
              "4                     0.0     0.0           0.0        0.0     0.850834  \n",
              "\n",
              "[5 rows x 685 columns]"
            ],
            "text/html": [
              "\n",
              "  <div id=\"df-30c13365-e04c-4d6f-8dd4-721cb05f2ad4\">\n",
              "    <div class=\"colab-df-container\">\n",
              "      <div>\n",
              "<style scoped>\n",
              "    .dataframe tbody tr th:only-of-type {\n",
              "        vertical-align: middle;\n",
              "    }\n",
              "\n",
              "    .dataframe tbody tr th {\n",
              "        vertical-align: top;\n",
              "    }\n",
              "\n",
              "    .dataframe thead th {\n",
              "        text-align: right;\n",
              "    }\n",
              "</style>\n",
              "<table border=\"1\" class=\"dataframe\">\n",
              "  <thead>\n",
              "    <tr style=\"text-align: right;\">\n",
              "      <th></th>\n",
              "      <th>user_id</th>\n",
              "      <th>item_id</th>\n",
              "      <th>text</th>\n",
              "      <th>rating</th>\n",
              "      <th>fans</th>\n",
              "      <th>average_stars</th>\n",
              "      <th>friends</th>\n",
              "      <th>vote_funny</th>\n",
              "      <th>useful</th>\n",
              "      <th>vote_cool</th>\n",
              "      <th>...</th>\n",
              "      <th>TV Mounting</th>\n",
              "      <th>Car Auctions</th>\n",
              "      <th>Food Trucks</th>\n",
              "      <th>Waterproofing</th>\n",
              "      <th>Water Delivery</th>\n",
              "      <th>Food Delivery Services</th>\n",
              "      <th>Korean</th>\n",
              "      <th>Chicken Shop</th>\n",
              "      <th>Hospitals</th>\n",
              "      <th>valuer_conf</th>\n",
              "    </tr>\n",
              "  </thead>\n",
              "  <tbody>\n",
              "    <tr>\n",
              "      <th>0</th>\n",
              "      <td>0</td>\n",
              "      <td>1411</td>\n",
              "      <td>looking optometrist brady fantastic knowledgea...</td>\n",
              "      <td>4.5</td>\n",
              "      <td>5</td>\n",
              "      <td>3.93</td>\n",
              "      <td>982</td>\n",
              "      <td>16</td>\n",
              "      <td>68</td>\n",
              "      <td>28</td>\n",
              "      <td>...</td>\n",
              "      <td>0.0</td>\n",
              "      <td>0.0</td>\n",
              "      <td>0.0</td>\n",
              "      <td>0.0</td>\n",
              "      <td>0.0</td>\n",
              "      <td>0.0</td>\n",
              "      <td>0.0</td>\n",
              "      <td>0.0</td>\n",
              "      <td>0.0</td>\n",
              "      <td>1.000000</td>\n",
              "    </tr>\n",
              "    <tr>\n",
              "      <th>1</th>\n",
              "      <td>0</td>\n",
              "      <td>1823</td>\n",
              "      <td>fun best way absolutely adorable shop cornucop...</td>\n",
              "      <td>4.0</td>\n",
              "      <td>5</td>\n",
              "      <td>3.93</td>\n",
              "      <td>982</td>\n",
              "      <td>16</td>\n",
              "      <td>68</td>\n",
              "      <td>28</td>\n",
              "      <td>...</td>\n",
              "      <td>0.0</td>\n",
              "      <td>0.0</td>\n",
              "      <td>0.0</td>\n",
              "      <td>0.0</td>\n",
              "      <td>0.0</td>\n",
              "      <td>0.0</td>\n",
              "      <td>0.0</td>\n",
              "      <td>0.0</td>\n",
              "      <td>0.0</td>\n",
              "      <td>1.000000</td>\n",
              "    </tr>\n",
              "    <tr>\n",
              "      <th>2</th>\n",
              "      <td>1</td>\n",
              "      <td>1990</td>\n",
              "      <td>went birthday lunch definitely list went big d...</td>\n",
              "      <td>4.5</td>\n",
              "      <td>4</td>\n",
              "      <td>4.37</td>\n",
              "      <td>94</td>\n",
              "      <td>5</td>\n",
              "      <td>14</td>\n",
              "      <td>10</td>\n",
              "      <td>...</td>\n",
              "      <td>0.0</td>\n",
              "      <td>0.0</td>\n",
              "      <td>0.0</td>\n",
              "      <td>0.0</td>\n",
              "      <td>0.0</td>\n",
              "      <td>0.0</td>\n",
              "      <td>0.0</td>\n",
              "      <td>0.0</td>\n",
              "      <td>0.0</td>\n",
              "      <td>1.000000</td>\n",
              "    </tr>\n",
              "    <tr>\n",
              "      <th>3</th>\n",
              "      <td>2</td>\n",
              "      <td>224</td>\n",
              "      <td>special target pretty convenient location park...</td>\n",
              "      <td>4.0</td>\n",
              "      <td>18</td>\n",
              "      <td>3.64</td>\n",
              "      <td>8110</td>\n",
              "      <td>106</td>\n",
              "      <td>325</td>\n",
              "      <td>99</td>\n",
              "      <td>...</td>\n",
              "      <td>0.0</td>\n",
              "      <td>0.0</td>\n",
              "      <td>0.0</td>\n",
              "      <td>0.0</td>\n",
              "      <td>0.0</td>\n",
              "      <td>0.0</td>\n",
              "      <td>0.0</td>\n",
              "      <td>0.0</td>\n",
              "      <td>0.0</td>\n",
              "      <td>1.000000</td>\n",
              "    </tr>\n",
              "    <tr>\n",
              "      <th>4</th>\n",
              "      <td>2</td>\n",
              "      <td>383</td>\n",
              "      <td>wow place packed spirit place asked athletes a...</td>\n",
              "      <td>5.0</td>\n",
              "      <td>18</td>\n",
              "      <td>3.64</td>\n",
              "      <td>8110</td>\n",
              "      <td>106</td>\n",
              "      <td>325</td>\n",
              "      <td>99</td>\n",
              "      <td>...</td>\n",
              "      <td>0.0</td>\n",
              "      <td>0.0</td>\n",
              "      <td>0.0</td>\n",
              "      <td>0.0</td>\n",
              "      <td>0.0</td>\n",
              "      <td>0.0</td>\n",
              "      <td>0.0</td>\n",
              "      <td>0.0</td>\n",
              "      <td>0.0</td>\n",
              "      <td>0.850834</td>\n",
              "    </tr>\n",
              "  </tbody>\n",
              "</table>\n",
              "<p>5 rows × 685 columns</p>\n",
              "</div>\n",
              "      <button class=\"colab-df-convert\" onclick=\"convertToInteractive('df-30c13365-e04c-4d6f-8dd4-721cb05f2ad4')\"\n",
              "              title=\"Convert this dataframe to an interactive table.\"\n",
              "              style=\"display:none;\">\n",
              "        \n",
              "  <svg xmlns=\"http://www.w3.org/2000/svg\" height=\"24px\"viewBox=\"0 0 24 24\"\n",
              "       width=\"24px\">\n",
              "    <path d=\"M0 0h24v24H0V0z\" fill=\"none\"/>\n",
              "    <path d=\"M18.56 5.44l.94 2.06.94-2.06 2.06-.94-2.06-.94-.94-2.06-.94 2.06-2.06.94zm-11 1L8.5 8.5l.94-2.06 2.06-.94-2.06-.94L8.5 2.5l-.94 2.06-2.06.94zm10 10l.94 2.06.94-2.06 2.06-.94-2.06-.94-.94-2.06-.94 2.06-2.06.94z\"/><path d=\"M17.41 7.96l-1.37-1.37c-.4-.4-.92-.59-1.43-.59-.52 0-1.04.2-1.43.59L10.3 9.45l-7.72 7.72c-.78.78-.78 2.05 0 2.83L4 21.41c.39.39.9.59 1.41.59.51 0 1.02-.2 1.41-.59l7.78-7.78 2.81-2.81c.8-.78.8-2.07 0-2.86zM5.41 20L4 18.59l7.72-7.72 1.47 1.35L5.41 20z\"/>\n",
              "  </svg>\n",
              "      </button>\n",
              "      \n",
              "  <style>\n",
              "    .colab-df-container {\n",
              "      display:flex;\n",
              "      flex-wrap:wrap;\n",
              "      gap: 12px;\n",
              "    }\n",
              "\n",
              "    .colab-df-convert {\n",
              "      background-color: #E8F0FE;\n",
              "      border: none;\n",
              "      border-radius: 50%;\n",
              "      cursor: pointer;\n",
              "      display: none;\n",
              "      fill: #1967D2;\n",
              "      height: 32px;\n",
              "      padding: 0 0 0 0;\n",
              "      width: 32px;\n",
              "    }\n",
              "\n",
              "    .colab-df-convert:hover {\n",
              "      background-color: #E2EBFA;\n",
              "      box-shadow: 0px 1px 2px rgba(60, 64, 67, 0.3), 0px 1px 3px 1px rgba(60, 64, 67, 0.15);\n",
              "      fill: #174EA6;\n",
              "    }\n",
              "\n",
              "    [theme=dark] .colab-df-convert {\n",
              "      background-color: #3B4455;\n",
              "      fill: #D2E3FC;\n",
              "    }\n",
              "\n",
              "    [theme=dark] .colab-df-convert:hover {\n",
              "      background-color: #434B5C;\n",
              "      box-shadow: 0px 1px 3px 1px rgba(0, 0, 0, 0.15);\n",
              "      filter: drop-shadow(0px 1px 2px rgba(0, 0, 0, 0.3));\n",
              "      fill: #FFFFFF;\n",
              "    }\n",
              "  </style>\n",
              "\n",
              "      <script>\n",
              "        const buttonEl =\n",
              "          document.querySelector('#df-30c13365-e04c-4d6f-8dd4-721cb05f2ad4 button.colab-df-convert');\n",
              "        buttonEl.style.display =\n",
              "          google.colab.kernel.accessAllowed ? 'block' : 'none';\n",
              "\n",
              "        async function convertToInteractive(key) {\n",
              "          const element = document.querySelector('#df-30c13365-e04c-4d6f-8dd4-721cb05f2ad4');\n",
              "          const dataTable =\n",
              "            await google.colab.kernel.invokeFunction('convertToInteractive',\n",
              "                                                     [key], {});\n",
              "          if (!dataTable) return;\n",
              "\n",
              "          const docLinkHtml = 'Like what you see? Visit the ' +\n",
              "            '<a target=\"_blank\" href=https://colab.research.google.com/notebooks/data_table.ipynb>data table notebook</a>'\n",
              "            + ' to learn more about interactive tables.';\n",
              "          element.innerHTML = '';\n",
              "          dataTable['output_type'] = 'display_data';\n",
              "          await google.colab.output.renderOutput(dataTable, element);\n",
              "          const docLink = document.createElement('div');\n",
              "          docLink.innerHTML = docLinkHtml;\n",
              "          element.appendChild(docLink);\n",
              "        }\n",
              "      </script>\n",
              "    </div>\n",
              "  </div>\n",
              "  "
            ]
          },
          "metadata": {},
          "execution_count": 12
        }
      ]
    },
    {
      "cell_type": "code",
      "source": [
        "dataset.to_csv(r'/content/drive/MyDrive/datasetwithconfvalue.csv') # enregistre update dataset\n",
        "dataset.head()"
      ],
      "metadata": {
        "id": "-s3MrqBYP_s3",
        "colab": {
          "base_uri": "https://localhost:8080/",
          "height": 646
        },
        "outputId": "3ae38420-2540-4b35-b70d-82ba2ce0ce31"
      },
      "execution_count": null,
      "outputs": [
        {
          "output_type": "execute_result",
          "data": {
            "text/plain": [
              "   user_id  item_id                                               text  \\\n",
              "0        0     1411  looking optometrist brady fantastic knowledgea...   \n",
              "1        0     1823  fun best way absolutely adorable shop cornucop...   \n",
              "2        1     1990  went birthday lunch definitely list went big d...   \n",
              "3        2      224  special target pretty convenient location park...   \n",
              "4        2      383  wow place packed spirit place asked athletes a...   \n",
              "\n",
              "   rating  fans  average_stars  friends  vote_funny  useful  vote_cool  ...  \\\n",
              "0     4.5     5           3.93      982          16      68         28  ...   \n",
              "1     4.0     5           3.93      982          16      68         28  ...   \n",
              "2     4.5     4           4.37       94           5      14         10  ...   \n",
              "3     4.0    18           3.64     8110         106     325         99  ...   \n",
              "4     5.0    18           3.64     8110         106     325         99  ...   \n",
              "\n",
              "   TV Mounting  Car Auctions  Food Trucks  Waterproofing  Water Delivery  \\\n",
              "0          0.0           0.0          0.0            0.0             0.0   \n",
              "1          0.0           0.0          0.0            0.0             0.0   \n",
              "2          0.0           0.0          0.0            0.0             0.0   \n",
              "3          0.0           0.0          0.0            0.0             0.0   \n",
              "4          0.0           0.0          0.0            0.0             0.0   \n",
              "\n",
              "   Food Delivery Services  Korean  Chicken Shop  Hospitals  valuer_conf  \n",
              "0                     0.0     0.0           0.0        0.0     1.000000  \n",
              "1                     0.0     0.0           0.0        0.0     1.000000  \n",
              "2                     0.0     0.0           0.0        0.0     1.000000  \n",
              "3                     0.0     0.0           0.0        0.0     1.000000  \n",
              "4                     0.0     0.0           0.0        0.0     0.850834  \n",
              "\n",
              "[5 rows x 685 columns]"
            ],
            "text/html": [
              "\n",
              "  <div id=\"df-ce6e0e28-5966-4dfd-8973-6d132563f43c\">\n",
              "    <div class=\"colab-df-container\">\n",
              "      <div>\n",
              "<style scoped>\n",
              "    .dataframe tbody tr th:only-of-type {\n",
              "        vertical-align: middle;\n",
              "    }\n",
              "\n",
              "    .dataframe tbody tr th {\n",
              "        vertical-align: top;\n",
              "    }\n",
              "\n",
              "    .dataframe thead th {\n",
              "        text-align: right;\n",
              "    }\n",
              "</style>\n",
              "<table border=\"1\" class=\"dataframe\">\n",
              "  <thead>\n",
              "    <tr style=\"text-align: right;\">\n",
              "      <th></th>\n",
              "      <th>user_id</th>\n",
              "      <th>item_id</th>\n",
              "      <th>text</th>\n",
              "      <th>rating</th>\n",
              "      <th>fans</th>\n",
              "      <th>average_stars</th>\n",
              "      <th>friends</th>\n",
              "      <th>vote_funny</th>\n",
              "      <th>useful</th>\n",
              "      <th>vote_cool</th>\n",
              "      <th>...</th>\n",
              "      <th>TV Mounting</th>\n",
              "      <th>Car Auctions</th>\n",
              "      <th>Food Trucks</th>\n",
              "      <th>Waterproofing</th>\n",
              "      <th>Water Delivery</th>\n",
              "      <th>Food Delivery Services</th>\n",
              "      <th>Korean</th>\n",
              "      <th>Chicken Shop</th>\n",
              "      <th>Hospitals</th>\n",
              "      <th>valuer_conf</th>\n",
              "    </tr>\n",
              "  </thead>\n",
              "  <tbody>\n",
              "    <tr>\n",
              "      <th>0</th>\n",
              "      <td>0</td>\n",
              "      <td>1411</td>\n",
              "      <td>looking optometrist brady fantastic knowledgea...</td>\n",
              "      <td>4.5</td>\n",
              "      <td>5</td>\n",
              "      <td>3.93</td>\n",
              "      <td>982</td>\n",
              "      <td>16</td>\n",
              "      <td>68</td>\n",
              "      <td>28</td>\n",
              "      <td>...</td>\n",
              "      <td>0.0</td>\n",
              "      <td>0.0</td>\n",
              "      <td>0.0</td>\n",
              "      <td>0.0</td>\n",
              "      <td>0.0</td>\n",
              "      <td>0.0</td>\n",
              "      <td>0.0</td>\n",
              "      <td>0.0</td>\n",
              "      <td>0.0</td>\n",
              "      <td>1.000000</td>\n",
              "    </tr>\n",
              "    <tr>\n",
              "      <th>1</th>\n",
              "      <td>0</td>\n",
              "      <td>1823</td>\n",
              "      <td>fun best way absolutely adorable shop cornucop...</td>\n",
              "      <td>4.0</td>\n",
              "      <td>5</td>\n",
              "      <td>3.93</td>\n",
              "      <td>982</td>\n",
              "      <td>16</td>\n",
              "      <td>68</td>\n",
              "      <td>28</td>\n",
              "      <td>...</td>\n",
              "      <td>0.0</td>\n",
              "      <td>0.0</td>\n",
              "      <td>0.0</td>\n",
              "      <td>0.0</td>\n",
              "      <td>0.0</td>\n",
              "      <td>0.0</td>\n",
              "      <td>0.0</td>\n",
              "      <td>0.0</td>\n",
              "      <td>0.0</td>\n",
              "      <td>1.000000</td>\n",
              "    </tr>\n",
              "    <tr>\n",
              "      <th>2</th>\n",
              "      <td>1</td>\n",
              "      <td>1990</td>\n",
              "      <td>went birthday lunch definitely list went big d...</td>\n",
              "      <td>4.5</td>\n",
              "      <td>4</td>\n",
              "      <td>4.37</td>\n",
              "      <td>94</td>\n",
              "      <td>5</td>\n",
              "      <td>14</td>\n",
              "      <td>10</td>\n",
              "      <td>...</td>\n",
              "      <td>0.0</td>\n",
              "      <td>0.0</td>\n",
              "      <td>0.0</td>\n",
              "      <td>0.0</td>\n",
              "      <td>0.0</td>\n",
              "      <td>0.0</td>\n",
              "      <td>0.0</td>\n",
              "      <td>0.0</td>\n",
              "      <td>0.0</td>\n",
              "      <td>1.000000</td>\n",
              "    </tr>\n",
              "    <tr>\n",
              "      <th>3</th>\n",
              "      <td>2</td>\n",
              "      <td>224</td>\n",
              "      <td>special target pretty convenient location park...</td>\n",
              "      <td>4.0</td>\n",
              "      <td>18</td>\n",
              "      <td>3.64</td>\n",
              "      <td>8110</td>\n",
              "      <td>106</td>\n",
              "      <td>325</td>\n",
              "      <td>99</td>\n",
              "      <td>...</td>\n",
              "      <td>0.0</td>\n",
              "      <td>0.0</td>\n",
              "      <td>0.0</td>\n",
              "      <td>0.0</td>\n",
              "      <td>0.0</td>\n",
              "      <td>0.0</td>\n",
              "      <td>0.0</td>\n",
              "      <td>0.0</td>\n",
              "      <td>0.0</td>\n",
              "      <td>1.000000</td>\n",
              "    </tr>\n",
              "    <tr>\n",
              "      <th>4</th>\n",
              "      <td>2</td>\n",
              "      <td>383</td>\n",
              "      <td>wow place packed spirit place asked athletes a...</td>\n",
              "      <td>5.0</td>\n",
              "      <td>18</td>\n",
              "      <td>3.64</td>\n",
              "      <td>8110</td>\n",
              "      <td>106</td>\n",
              "      <td>325</td>\n",
              "      <td>99</td>\n",
              "      <td>...</td>\n",
              "      <td>0.0</td>\n",
              "      <td>0.0</td>\n",
              "      <td>0.0</td>\n",
              "      <td>0.0</td>\n",
              "      <td>0.0</td>\n",
              "      <td>0.0</td>\n",
              "      <td>0.0</td>\n",
              "      <td>0.0</td>\n",
              "      <td>0.0</td>\n",
              "      <td>0.850834</td>\n",
              "    </tr>\n",
              "  </tbody>\n",
              "</table>\n",
              "<p>5 rows × 685 columns</p>\n",
              "</div>\n",
              "      <button class=\"colab-df-convert\" onclick=\"convertToInteractive('df-ce6e0e28-5966-4dfd-8973-6d132563f43c')\"\n",
              "              title=\"Convert this dataframe to an interactive table.\"\n",
              "              style=\"display:none;\">\n",
              "        \n",
              "  <svg xmlns=\"http://www.w3.org/2000/svg\" height=\"24px\"viewBox=\"0 0 24 24\"\n",
              "       width=\"24px\">\n",
              "    <path d=\"M0 0h24v24H0V0z\" fill=\"none\"/>\n",
              "    <path d=\"M18.56 5.44l.94 2.06.94-2.06 2.06-.94-2.06-.94-.94-2.06-.94 2.06-2.06.94zm-11 1L8.5 8.5l.94-2.06 2.06-.94-2.06-.94L8.5 2.5l-.94 2.06-2.06.94zm10 10l.94 2.06.94-2.06 2.06-.94-2.06-.94-.94-2.06-.94 2.06-2.06.94z\"/><path d=\"M17.41 7.96l-1.37-1.37c-.4-.4-.92-.59-1.43-.59-.52 0-1.04.2-1.43.59L10.3 9.45l-7.72 7.72c-.78.78-.78 2.05 0 2.83L4 21.41c.39.39.9.59 1.41.59.51 0 1.02-.2 1.41-.59l7.78-7.78 2.81-2.81c.8-.78.8-2.07 0-2.86zM5.41 20L4 18.59l7.72-7.72 1.47 1.35L5.41 20z\"/>\n",
              "  </svg>\n",
              "      </button>\n",
              "      \n",
              "  <style>\n",
              "    .colab-df-container {\n",
              "      display:flex;\n",
              "      flex-wrap:wrap;\n",
              "      gap: 12px;\n",
              "    }\n",
              "\n",
              "    .colab-df-convert {\n",
              "      background-color: #E8F0FE;\n",
              "      border: none;\n",
              "      border-radius: 50%;\n",
              "      cursor: pointer;\n",
              "      display: none;\n",
              "      fill: #1967D2;\n",
              "      height: 32px;\n",
              "      padding: 0 0 0 0;\n",
              "      width: 32px;\n",
              "    }\n",
              "\n",
              "    .colab-df-convert:hover {\n",
              "      background-color: #E2EBFA;\n",
              "      box-shadow: 0px 1px 2px rgba(60, 64, 67, 0.3), 0px 1px 3px 1px rgba(60, 64, 67, 0.15);\n",
              "      fill: #174EA6;\n",
              "    }\n",
              "\n",
              "    [theme=dark] .colab-df-convert {\n",
              "      background-color: #3B4455;\n",
              "      fill: #D2E3FC;\n",
              "    }\n",
              "\n",
              "    [theme=dark] .colab-df-convert:hover {\n",
              "      background-color: #434B5C;\n",
              "      box-shadow: 0px 1px 3px 1px rgba(0, 0, 0, 0.15);\n",
              "      filter: drop-shadow(0px 1px 2px rgba(0, 0, 0, 0.3));\n",
              "      fill: #FFFFFF;\n",
              "    }\n",
              "  </style>\n",
              "\n",
              "      <script>\n",
              "        const buttonEl =\n",
              "          document.querySelector('#df-ce6e0e28-5966-4dfd-8973-6d132563f43c button.colab-df-convert');\n",
              "        buttonEl.style.display =\n",
              "          google.colab.kernel.accessAllowed ? 'block' : 'none';\n",
              "\n",
              "        async function convertToInteractive(key) {\n",
              "          const element = document.querySelector('#df-ce6e0e28-5966-4dfd-8973-6d132563f43c');\n",
              "          const dataTable =\n",
              "            await google.colab.kernel.invokeFunction('convertToInteractive',\n",
              "                                                     [key], {});\n",
              "          if (!dataTable) return;\n",
              "\n",
              "          const docLinkHtml = 'Like what you see? Visit the ' +\n",
              "            '<a target=\"_blank\" href=https://colab.research.google.com/notebooks/data_table.ipynb>data table notebook</a>'\n",
              "            + ' to learn more about interactive tables.';\n",
              "          element.innerHTML = '';\n",
              "          dataTable['output_type'] = 'display_data';\n",
              "          await google.colab.output.renderOutput(dataTable, element);\n",
              "          const docLink = document.createElement('div');\n",
              "          docLink.innerHTML = docLinkHtml;\n",
              "          element.appendChild(docLink);\n",
              "        }\n",
              "      </script>\n",
              "    </div>\n",
              "  </div>\n",
              "  "
            ]
          },
          "metadata": {},
          "execution_count": 13
        }
      ]
    },
    {
      "cell_type": "markdown",
      "source": [
        "## **Split /getnum_user_item/ download-bert**"
      ],
      "metadata": {
        "id": "Bh5JEyM-u1uS"
      }
    },
    {
      "cell_type": "code",
      "source": [
        "dataset = pd.read_csv('/content/drive/MyDrive/datasetwithconfvalue.csv',nrows = 20000) #réouvrire notre update dataset"
      ],
      "metadata": {
        "id": "JFLwUpfES9Fm"
      },
      "execution_count": null,
      "outputs": []
    },
    {
      "cell_type": "code",
      "source": [
        "X_train, X_test, y_train, y_test = dataset_split(dataset) # split traing data and test data"
      ],
      "metadata": {
        "id": "5maf8ql6Kvta"
      },
      "execution_count": null,
      "outputs": []
    },
    {
      "cell_type": "code",
      "source": [
        "X_train.shape\n"
      ],
      "metadata": {
        "id": "8J4MFCiHfUMR",
        "colab": {
          "base_uri": "https://localhost:8080/"
        },
        "outputId": "d31d7979-8a3a-46e3-e1c3-6bc5e7660f45"
      },
      "execution_count": null,
      "outputs": [
        {
          "output_type": "execute_result",
          "data": {
            "text/plain": [
              "(8085, 55)"
            ]
          },
          "metadata": {},
          "execution_count": 11
        }
      ]
    },
    {
      "cell_type": "code",
      "source": [
        "dataset.head()"
      ],
      "metadata": {
        "id": "9rsZ-XvPv0aM",
        "colab": {
          "base_uri": "https://localhost:8080/",
          "height": 646
        },
        "outputId": "704d408a-ba15-4de0-fa4c-b8fe9af61d71"
      },
      "execution_count": null,
      "outputs": [
        {
          "output_type": "execute_result",
          "data": {
            "text/plain": [
              "   Unnamed: 0  user_id  item_id  \\\n",
              "0           0        0     1411   \n",
              "1           1        0     1823   \n",
              "2           2        1     1990   \n",
              "3           3        2      224   \n",
              "4           4        2      383   \n",
              "\n",
              "                                                text  rating  fans  \\\n",
              "0  looking optometrist brady fantastic knowledgea...     4.5     5   \n",
              "1  fun best way absolutely adorable shop cornucop...     4.0     5   \n",
              "2  went birthday lunch definitely list went big d...     4.5     4   \n",
              "3  special target pretty convenient location park...     4.0    18   \n",
              "4  wow place packed spirit place asked athletes a...     5.0    18   \n",
              "\n",
              "   average_stars  friends  vote_funny  useful  ...  TV Mounting  Car Auctions  \\\n",
              "0           3.93      982          16      68  ...          0.0           0.0   \n",
              "1           3.93      982          16      68  ...          0.0           0.0   \n",
              "2           4.37       94           5      14  ...          0.0           0.0   \n",
              "3           3.64     8110         106     325  ...          0.0           0.0   \n",
              "4           3.64     8110         106     325  ...          0.0           0.0   \n",
              "\n",
              "   Food Trucks  Waterproofing  Water Delivery  Food Delivery Services  Korean  \\\n",
              "0          0.0            0.0             0.0                     0.0     0.0   \n",
              "1          0.0            0.0             0.0                     0.0     0.0   \n",
              "2          0.0            0.0             0.0                     0.0     0.0   \n",
              "3          0.0            0.0             0.0                     0.0     0.0   \n",
              "4          0.0            0.0             0.0                     0.0     0.0   \n",
              "\n",
              "   Chicken Shop  Hospitals  valuer_conf  \n",
              "0           0.0        0.0     1.000000  \n",
              "1           0.0        0.0     1.000000  \n",
              "2           0.0        0.0     1.000000  \n",
              "3           0.0        0.0     1.000000  \n",
              "4           0.0        0.0     0.850834  \n",
              "\n",
              "[5 rows x 686 columns]"
            ],
            "text/html": [
              "\n",
              "  <div id=\"df-aaf654dc-62f8-4f18-a3a1-e692328be928\">\n",
              "    <div class=\"colab-df-container\">\n",
              "      <div>\n",
              "<style scoped>\n",
              "    .dataframe tbody tr th:only-of-type {\n",
              "        vertical-align: middle;\n",
              "    }\n",
              "\n",
              "    .dataframe tbody tr th {\n",
              "        vertical-align: top;\n",
              "    }\n",
              "\n",
              "    .dataframe thead th {\n",
              "        text-align: right;\n",
              "    }\n",
              "</style>\n",
              "<table border=\"1\" class=\"dataframe\">\n",
              "  <thead>\n",
              "    <tr style=\"text-align: right;\">\n",
              "      <th></th>\n",
              "      <th>Unnamed: 0</th>\n",
              "      <th>user_id</th>\n",
              "      <th>item_id</th>\n",
              "      <th>text</th>\n",
              "      <th>rating</th>\n",
              "      <th>fans</th>\n",
              "      <th>average_stars</th>\n",
              "      <th>friends</th>\n",
              "      <th>vote_funny</th>\n",
              "      <th>useful</th>\n",
              "      <th>...</th>\n",
              "      <th>TV Mounting</th>\n",
              "      <th>Car Auctions</th>\n",
              "      <th>Food Trucks</th>\n",
              "      <th>Waterproofing</th>\n",
              "      <th>Water Delivery</th>\n",
              "      <th>Food Delivery Services</th>\n",
              "      <th>Korean</th>\n",
              "      <th>Chicken Shop</th>\n",
              "      <th>Hospitals</th>\n",
              "      <th>valuer_conf</th>\n",
              "    </tr>\n",
              "  </thead>\n",
              "  <tbody>\n",
              "    <tr>\n",
              "      <th>0</th>\n",
              "      <td>0</td>\n",
              "      <td>0</td>\n",
              "      <td>1411</td>\n",
              "      <td>looking optometrist brady fantastic knowledgea...</td>\n",
              "      <td>4.5</td>\n",
              "      <td>5</td>\n",
              "      <td>3.93</td>\n",
              "      <td>982</td>\n",
              "      <td>16</td>\n",
              "      <td>68</td>\n",
              "      <td>...</td>\n",
              "      <td>0.0</td>\n",
              "      <td>0.0</td>\n",
              "      <td>0.0</td>\n",
              "      <td>0.0</td>\n",
              "      <td>0.0</td>\n",
              "      <td>0.0</td>\n",
              "      <td>0.0</td>\n",
              "      <td>0.0</td>\n",
              "      <td>0.0</td>\n",
              "      <td>1.000000</td>\n",
              "    </tr>\n",
              "    <tr>\n",
              "      <th>1</th>\n",
              "      <td>1</td>\n",
              "      <td>0</td>\n",
              "      <td>1823</td>\n",
              "      <td>fun best way absolutely adorable shop cornucop...</td>\n",
              "      <td>4.0</td>\n",
              "      <td>5</td>\n",
              "      <td>3.93</td>\n",
              "      <td>982</td>\n",
              "      <td>16</td>\n",
              "      <td>68</td>\n",
              "      <td>...</td>\n",
              "      <td>0.0</td>\n",
              "      <td>0.0</td>\n",
              "      <td>0.0</td>\n",
              "      <td>0.0</td>\n",
              "      <td>0.0</td>\n",
              "      <td>0.0</td>\n",
              "      <td>0.0</td>\n",
              "      <td>0.0</td>\n",
              "      <td>0.0</td>\n",
              "      <td>1.000000</td>\n",
              "    </tr>\n",
              "    <tr>\n",
              "      <th>2</th>\n",
              "      <td>2</td>\n",
              "      <td>1</td>\n",
              "      <td>1990</td>\n",
              "      <td>went birthday lunch definitely list went big d...</td>\n",
              "      <td>4.5</td>\n",
              "      <td>4</td>\n",
              "      <td>4.37</td>\n",
              "      <td>94</td>\n",
              "      <td>5</td>\n",
              "      <td>14</td>\n",
              "      <td>...</td>\n",
              "      <td>0.0</td>\n",
              "      <td>0.0</td>\n",
              "      <td>0.0</td>\n",
              "      <td>0.0</td>\n",
              "      <td>0.0</td>\n",
              "      <td>0.0</td>\n",
              "      <td>0.0</td>\n",
              "      <td>0.0</td>\n",
              "      <td>0.0</td>\n",
              "      <td>1.000000</td>\n",
              "    </tr>\n",
              "    <tr>\n",
              "      <th>3</th>\n",
              "      <td>3</td>\n",
              "      <td>2</td>\n",
              "      <td>224</td>\n",
              "      <td>special target pretty convenient location park...</td>\n",
              "      <td>4.0</td>\n",
              "      <td>18</td>\n",
              "      <td>3.64</td>\n",
              "      <td>8110</td>\n",
              "      <td>106</td>\n",
              "      <td>325</td>\n",
              "      <td>...</td>\n",
              "      <td>0.0</td>\n",
              "      <td>0.0</td>\n",
              "      <td>0.0</td>\n",
              "      <td>0.0</td>\n",
              "      <td>0.0</td>\n",
              "      <td>0.0</td>\n",
              "      <td>0.0</td>\n",
              "      <td>0.0</td>\n",
              "      <td>0.0</td>\n",
              "      <td>1.000000</td>\n",
              "    </tr>\n",
              "    <tr>\n",
              "      <th>4</th>\n",
              "      <td>4</td>\n",
              "      <td>2</td>\n",
              "      <td>383</td>\n",
              "      <td>wow place packed spirit place asked athletes a...</td>\n",
              "      <td>5.0</td>\n",
              "      <td>18</td>\n",
              "      <td>3.64</td>\n",
              "      <td>8110</td>\n",
              "      <td>106</td>\n",
              "      <td>325</td>\n",
              "      <td>...</td>\n",
              "      <td>0.0</td>\n",
              "      <td>0.0</td>\n",
              "      <td>0.0</td>\n",
              "      <td>0.0</td>\n",
              "      <td>0.0</td>\n",
              "      <td>0.0</td>\n",
              "      <td>0.0</td>\n",
              "      <td>0.0</td>\n",
              "      <td>0.0</td>\n",
              "      <td>0.850834</td>\n",
              "    </tr>\n",
              "  </tbody>\n",
              "</table>\n",
              "<p>5 rows × 686 columns</p>\n",
              "</div>\n",
              "      <button class=\"colab-df-convert\" onclick=\"convertToInteractive('df-aaf654dc-62f8-4f18-a3a1-e692328be928')\"\n",
              "              title=\"Convert this dataframe to an interactive table.\"\n",
              "              style=\"display:none;\">\n",
              "        \n",
              "  <svg xmlns=\"http://www.w3.org/2000/svg\" height=\"24px\"viewBox=\"0 0 24 24\"\n",
              "       width=\"24px\">\n",
              "    <path d=\"M0 0h24v24H0V0z\" fill=\"none\"/>\n",
              "    <path d=\"M18.56 5.44l.94 2.06.94-2.06 2.06-.94-2.06-.94-.94-2.06-.94 2.06-2.06.94zm-11 1L8.5 8.5l.94-2.06 2.06-.94-2.06-.94L8.5 2.5l-.94 2.06-2.06.94zm10 10l.94 2.06.94-2.06 2.06-.94-2.06-.94-.94-2.06-.94 2.06-2.06.94z\"/><path d=\"M17.41 7.96l-1.37-1.37c-.4-.4-.92-.59-1.43-.59-.52 0-1.04.2-1.43.59L10.3 9.45l-7.72 7.72c-.78.78-.78 2.05 0 2.83L4 21.41c.39.39.9.59 1.41.59.51 0 1.02-.2 1.41-.59l7.78-7.78 2.81-2.81c.8-.78.8-2.07 0-2.86zM5.41 20L4 18.59l7.72-7.72 1.47 1.35L5.41 20z\"/>\n",
              "  </svg>\n",
              "      </button>\n",
              "      \n",
              "  <style>\n",
              "    .colab-df-container {\n",
              "      display:flex;\n",
              "      flex-wrap:wrap;\n",
              "      gap: 12px;\n",
              "    }\n",
              "\n",
              "    .colab-df-convert {\n",
              "      background-color: #E8F0FE;\n",
              "      border: none;\n",
              "      border-radius: 50%;\n",
              "      cursor: pointer;\n",
              "      display: none;\n",
              "      fill: #1967D2;\n",
              "      height: 32px;\n",
              "      padding: 0 0 0 0;\n",
              "      width: 32px;\n",
              "    }\n",
              "\n",
              "    .colab-df-convert:hover {\n",
              "      background-color: #E2EBFA;\n",
              "      box-shadow: 0px 1px 2px rgba(60, 64, 67, 0.3), 0px 1px 3px 1px rgba(60, 64, 67, 0.15);\n",
              "      fill: #174EA6;\n",
              "    }\n",
              "\n",
              "    [theme=dark] .colab-df-convert {\n",
              "      background-color: #3B4455;\n",
              "      fill: #D2E3FC;\n",
              "    }\n",
              "\n",
              "    [theme=dark] .colab-df-convert:hover {\n",
              "      background-color: #434B5C;\n",
              "      box-shadow: 0px 1px 3px 1px rgba(0, 0, 0, 0.15);\n",
              "      filter: drop-shadow(0px 1px 2px rgba(0, 0, 0, 0.3));\n",
              "      fill: #FFFFFF;\n",
              "    }\n",
              "  </style>\n",
              "\n",
              "      <script>\n",
              "        const buttonEl =\n",
              "          document.querySelector('#df-aaf654dc-62f8-4f18-a3a1-e692328be928 button.colab-df-convert');\n",
              "        buttonEl.style.display =\n",
              "          google.colab.kernel.accessAllowed ? 'block' : 'none';\n",
              "\n",
              "        async function convertToInteractive(key) {\n",
              "          const element = document.querySelector('#df-aaf654dc-62f8-4f18-a3a1-e692328be928');\n",
              "          const dataTable =\n",
              "            await google.colab.kernel.invokeFunction('convertToInteractive',\n",
              "                                                     [key], {});\n",
              "          if (!dataTable) return;\n",
              "\n",
              "          const docLinkHtml = 'Like what you see? Visit the ' +\n",
              "            '<a target=\"_blank\" href=https://colab.research.google.com/notebooks/data_table.ipynb>data table notebook</a>'\n",
              "            + ' to learn more about interactive tables.';\n",
              "          element.innerHTML = '';\n",
              "          dataTable['output_type'] = 'display_data';\n",
              "          await google.colab.output.renderOutput(dataTable, element);\n",
              "          const docLink = document.createElement('div');\n",
              "          docLink.innerHTML = docLinkHtml;\n",
              "          element.appendChild(docLink);\n",
              "        }\n",
              "      </script>\n",
              "    </div>\n",
              "  </div>\n",
              "  "
            ]
          },
          "metadata": {},
          "execution_count": 12
        }
      ]
    },
    {
      "cell_type": "code",
      "source": [
        "#  getnum_user_item fonction permet de recupere le nombre de user and item dans notre dataset\n",
        "def getnum_user_item(X_train):\n",
        "    num_users = int(max(X_train.user_id.max()+1,X_test.user_id.max()+1))\n",
        "    num_items = int(max(X_train.item_id.max()+1,X_test.item_id.max()+1))\n",
        "    return num_users , num_items\n",
        "\n",
        "num_users , num_items = getnum_user_item(X_train)"
      ],
      "metadata": {
        "id": "Cm09rP1zv0eh"
      },
      "execution_count": null,
      "outputs": []
    },
    {
      "cell_type": "code",
      "source": [
        "# !pip uninstall tensorflow\n",
        "!pip uninstall tensorflow-text\n",
        "# !pip install tensorflow\n",
        "!pip install tensorflow-text\n",
        "#  installation  de tensorflow car j'ai des problemes avec tensorflow-text"
      ],
      "metadata": {
        "id": "lL2zcn-pX_Yg"
      },
      "execution_count": null,
      "outputs": []
    },
    {
      "cell_type": "code",
      "source": [
        "import tensorflow_text as text"
      ],
      "metadata": {
        "id": "6dr9E16tYHVv"
      },
      "execution_count": null,
      "outputs": []
    },
    {
      "cell_type": "code",
      "source": [
        "# !sudo apt-get update\n",
        "# !sudo apt-get upgrade"
      ],
      "metadata": {
        "id": "q0dTTl6NYKR4"
      },
      "execution_count": null,
      "outputs": []
    },
    {
      "cell_type": "code",
      "source": [
        "# !pip install tf-nightly tensorflow-text-nightly"
      ],
      "metadata": {
        "id": "t0JNMhIAYw_l"
      },
      "execution_count": null,
      "outputs": []
    },
    {
      "cell_type": "code",
      "source": [
        "!pip install --upgrade tensorflow_hub"
      ],
      "metadata": {
        "id": "K9Rqm0H9v0kv",
        "colab": {
          "base_uri": "https://localhost:8080/"
        },
        "outputId": "3b0422e8-1f8d-4b38-f5dc-5a95957b55ea"
      },
      "execution_count": null,
      "outputs": [
        {
          "output_type": "stream",
          "name": "stdout",
          "text": [
            "Looking in indexes: https://pypi.org/simple, https://us-python.pkg.dev/colab-wheels/public/simple/\n",
            "Requirement already satisfied: tensorflow_hub in /usr/local/lib/python3.9/dist-packages (0.13.0)\n",
            "Requirement already satisfied: numpy>=1.12.0 in /usr/local/lib/python3.9/dist-packages (from tensorflow_hub) (1.22.4)\n",
            "Requirement already satisfied: protobuf>=3.19.6 in /usr/local/lib/python3.9/dist-packages (from tensorflow_hub) (3.20.3)\n"
          ]
        }
      ]
    },
    {
      "cell_type": "code",
      "source": [
        "import tensorflow_hub as hub"
      ],
      "metadata": {
        "id": "7pYWqqgmv0s6"
      },
      "execution_count": null,
      "outputs": []
    },
    {
      "cell_type": "code",
      "source": [
        "# importer le model pre-entrainer de bert pour la couche d'embedding\n",
        "bert_preprocess = hub.KerasLayer('https://tfhub.dev/tensorflow/bert_en_uncased_preprocess/3')\n",
        "bert_encoder = hub.KerasLayer('https://tfhub.dev/tensorflow/bert_en_uncased_L-12_H-768_A-12/4')"
      ],
      "metadata": {
        "id": "RZNrCYtsv0vq"
      },
      "execution_count": null,
      "outputs": []
    },
    {
      "cell_type": "markdown",
      "source": [
        "# **NHF model**"
      ],
      "metadata": {
        "id": "182ucOnQC1Zt"
      }
    },
    {
      "cell_type": "code",
      "source": [
        "#  cree le model NHF\n",
        "def build_NHF_model(emb_size_hmlp, emb_size_gmf, predictive_factors, num_layers):\n",
        "\n",
        "    # emb_size_hmlp : size of embedding layer for mlp  model\n",
        "    # emb_size_gmf    : size of embedding layer for GMF  model\n",
        "    # predictive_factors : pour le nombre d'unite des couche dense dnas la partie mlp\n",
        "    # num_layers : numero de layer de mlp\n",
        "\n",
        "\n",
        "    # définition des input pour les deux model gmf et mlp\n",
        "    input_userID = Input(shape = [1], name = 'user_ID')\n",
        "    input_itemID = Input(shape = [1], name = 'item_ID')\n",
        "\n",
        "    input_userDATA = Input(shape = [17], name = 'user_data')\n",
        "    input_itemDATA = Input(shape = [34], name = 'item_data')#avant shape=[49]\n",
        "\n",
        "    #GMF part\n",
        "    user_latent_factors_GMF = emb_size_gmf\n",
        "    item_latent_factors_GMF = emb_size_gmf\n",
        "\n",
        "    user_emb_GMF = Embedding(num_users, user_latent_factors_GMF, name = 'user_emb_GMF')(input_userID)\n",
        "    item_emb_GMF = Embedding(num_items, item_latent_factors_GMF, name = 'item_emb_GMF')(input_itemID)\n",
        "\n",
        "    flat_u_GMF = Flatten()(user_emb_GMF)\n",
        "    flat_i_GMF = Flatten()(item_emb_GMF)\n",
        "\n",
        "    mul_layer = Multiply()([flat_u_GMF, flat_i_GMF]) # user embedding and item embedding\n",
        "\n",
        "    #HybMLP part\n",
        "    user_latent_factors_hMLP = emb_size_hmlp\n",
        "    item_latent_factors_hMLP = emb_size_hmlp\n",
        "\n",
        "    user_emb_hMLP = Embedding(num_users, user_latent_factors_hMLP, name= 'user_emb_hMLP')(input_userID)\n",
        "    item_emb_hMLP = Embedding(num_items, item_latent_factors_hMLP, name= 'item_emb_hMLP')(input_itemID)\n",
        "\n",
        "    flat_u_hMLP = Flatten()(user_emb_hMLP)\n",
        "    flat_i_hMLP = Flatten()(item_emb_hMLP)\n",
        "\n",
        "    concat_hMLP = concatenate([flat_u_hMLP, flat_i_hMLP, input_userDATA, input_itemDATA])\n",
        "    layer = concat_hMLP\n",
        "    for l in range(num_layers,0,-1):\n",
        "        layer = Dense(predictive_factors*(2**(l-1)), activation='relu', name= 'layer%d' %(num_layers-l+1))(layer)\n",
        "\n",
        "\n",
        "    #NeuHybMF part :  concatener le model gmf et mlp\n",
        "    concat_NeuhMF = concatenate([mul_layer,layer])\n",
        "\n",
        "    out = Dense(1, activation='sigmoid', name='output')(concat_NeuhMF)\n",
        "\n",
        "    #  le model final de filtrage :\n",
        "    # definir les inputs/outputs\n",
        "    NHF_model = Model([input_userID,input_userDATA, input_itemID ,input_itemDATA], out)\n",
        "\n",
        "    return NHF_model\n",
        "\n",
        "\n"
      ],
      "metadata": {
        "id": "NHP4ZDCiv06k"
      },
      "execution_count": null,
      "outputs": []
    },
    {
      "cell_type": "markdown",
      "source": [
        "# **model_sa (bilstm_rnn)**"
      ],
      "metadata": {
        "id": "6qPYAKR9CkiN"
      }
    },
    {
      "cell_type": "code",
      "source": [
        "def build_sent_model(units , droup_val):\n",
        "      #model of sentiment analysis part\n",
        "\n",
        "    # definir les inputs de notre model\n",
        "    text_input = tf.keras.layers.Input(shape=(), dtype=tf.string, name=\"review\")\n",
        "    # le model pre-entrainer de bert\n",
        "    preprocessed_text = bert_preprocess(text_input)\n",
        "    outputs = bert_encoder(preprocessed_text)\n",
        "\n",
        "    # output contient the embedding of rveiew  1 : pooled_output est un tensor de dimension(batch ,768 ) contient la representation de review complet\n",
        "    #                                          2  : sequence_output est un tensor de dimension(batch , 128 ,768) tel que 128 represtent les mot dans un review and 768 c'est la representaion d'un mot\n",
        "\n",
        "    model_SA = tf.keras.layers.Bidirectional(tf.keras.layers.LSTM(int(units/2) ,\n",
        "                            input_shape=(1,128,768),\n",
        "                            return_sequences = True ,\n",
        "                            kernel_regularizer = tf.keras.regularizers.L1L2(l1=1e-3, l2=1e-3),\n",
        "                            name='lstm1'))(outputs['sequence_output'])\n",
        "    model_SA = tf.keras.layers.SimpleRNN(units ,\n",
        "                            return_sequences = True ,\n",
        "                            kernel_regularizer = tf.keras.regularizers.L1L2(l1=1e-3, l2=1e-3),\n",
        "                            name='lstm1')(model_SA)\n",
        "    model_SA = tf.keras.layers.Dropout(droup_val)(model_SA)\n",
        "    model_SA = tf.keras.layers.Flatten()(model_SA)\n",
        "    model_SA = tf.keras.layers.Dense(120, activation='relu', name='dense1')(model_SA)\n",
        "    model_SA = tf.keras.layers.Dense(16, activation='sigmoid', name='dense2')(model_SA)\n",
        "    model_SA = tf.keras.layers.Dense(1, activation='sigmoid', name='output_layer')(model_SA)\n",
        "\n",
        "    #  confidence part :\n",
        "    confidence_input = tf.keras.layers.Input(shape = [1], name = 'conf_val')\n",
        "    # confidence_model = tf.keras.layers.Dense(1, activation ='sigmoid')(confidence_input)\n",
        "\n",
        "    # multiplier output de model_SA par la valeur de confiance correspondant\n",
        "    model_final_de_sentiment = tf.keras.layers.Multiply()([confidence_input , model_SA])\n",
        "\n",
        "\n",
        "    model_final_de_sentiment = tf.keras.Model(inputs=[text_input,confidence_input], outputs=[ model_final_de_sentiment])\n",
        "    return  model_final_de_sentiment"
      ],
      "metadata": {
        "id": "8Y2JbkZjKxT1"
      },
      "execution_count": null,
      "outputs": []
    },
    {
      "cell_type": "markdown",
      "source": [
        "## ***model_SA (bilstm_cnn)***"
      ],
      "metadata": {
        "id": "xlfedF4FL2oG"
      }
    },
    {
      "cell_type": "code",
      "source": [
        "def build_sent_model(units , droup_val):\n",
        "    # definir les inputs de notre model\n",
        "    text_input        = tf.keras.layers.Input(shape=(), dtype=tf.string, name=\"review\")\n",
        "    # le model pre-entrainer de bert\n",
        "    preprocessed_text = bert_preprocess(text_input)\n",
        "    outputs           = bert_encoder(preprocessed_text)\n",
        "\n",
        "    # output contient the embedding of rveiew  1 : pooled_output est un tensor de dimension(batch ,768 ) contient la representation de review complet\n",
        "    #                                          2  : sequence_output est un tensor de dimension(batch , 128 ,768) tel que 128 represtent les mot dans un review and 768 c'est la representaion d'un mot\n",
        "\n",
        "    model_SA = tf.keras.layers.Bidirectional(tf.keras.layers.LSTM(int(units/2) ,\n",
        "                                                                  input_shape=(1,128,768),\n",
        "                                                                  return_sequences = True ,\n",
        "                                                                  kernel_regularizer = tf.keras.regularizers.L1L2(l1=1e-3, l2=1e-3),\n",
        "                                                                  name='lstm1'))(outputs['sequence_output'])\n",
        "    model_SA = tf.keras.layers.Conv1D(64,3,activation=\"relu\",padding=\"valid\")(model_SA)\n",
        "    model_SA = tf.keras.layers.GlobalMaxPooling1D()(model_SA)\n",
        "    model_SA = tf.keras.layers.Dropout(droup_val)(model_SA)\n",
        "    model_SA = tf.keras.layers.Flatten()(model_SA)\n",
        "    model_SA = tf.keras.layers.Dense(120, activation='tanh', name='dense1')(model_SA)\n",
        "    model_SA = tf.keras.layers.Dense(16, activation='sigmoid', name='dense1')(model_SA)\n",
        "    model_SA = tf.keras.layers.Dense(1, activation='sigmoid', name='output_layer')(model_SA)\n",
        "\n",
        "    #  confidence part :\n",
        "    confidence_input = tf.keras.layers.Input(shape = [1], name = 'conf_val')\n",
        "\n",
        "    # multiplier output de model_SA par la valeur de confiance correspondant\n",
        "    model_final_de_sentiment = tf.keras.layers.Multiply()([confidence_input, model_SA])\n",
        "\n",
        "\n",
        "    model_final_de_sentiment = tf.keras.Model(inputs=[text_input,confidence_input], outputs=[ model_final_de_sentiment])\n",
        "    return model_final_de_sentiment\n",
        ""
      ],
      "metadata": {
        "id": "gLJ-fC1tMAoV"
      },
      "execution_count": null,
      "outputs": []
    },
    {
      "cell_type": "markdown",
      "source": [
        "# **model_SA (lstm_rnn)**"
      ],
      "metadata": {
        "id": "jpOEuRB0Mkbc"
      }
    },
    {
      "cell_type": "code",
      "source": [
        "def build_sent_model(units , droup_val):\n",
        "    # definir les inputs de notre model\n",
        "    text_input = tf.keras.layers.Input(shape=(), dtype=tf.string, name=\"review\")\n",
        "    # le model pre-entrainer de bert\n",
        "    preprocessed_text = bert_preprocess(text_input)\n",
        "    outputs = bert_encoder(preprocessed_text)\n",
        "\n",
        "    # output contient the embedding of rveiew  1 : pooled_output est un tensor de dimension(batch ,768 ) contient la representation de review complet\n",
        "    #                                          2  : sequence_output est un tensor de dimension(batch , 128 ,768) tel que 128 represtent les mot dans un review and 768 c'est la representaion d'un mot\n",
        "\n",
        "    model_SA = tf.keras.layers.LSTM(units ,\n",
        "                            input_shape=(1,128,768),\n",
        "                            return_sequences = True ,\n",
        "                            kernel_regularizer = tf.keras.regularizers.L1L2(l1=1e-3, l2=1e-3),\n",
        "                            name='lstm1')(outputs['sequence_output'])\n",
        "    model_SA = tf.keras.layers.SimpleRNN(units ,\n",
        "                                        return_sequences=True ,\n",
        "                                        kernel_regularizer=tf.keras.regularizers.L1L2(l1=l1, l2=l2),\n",
        "                                        name = 'rnn1')(model_SA)\n",
        "    model_SA = tf.keras.layers.Dropout(droup_val)(model_SA)\n",
        "    model_SA = tf.keras.layers.Flatten()(model_SA)\n",
        "    model_SA = tf.keras.layers.Dense(120, activation='tanh', name='dense1')(model_SA)\n",
        "    model_SA = tf.keras.layers.Dense(16, activation='sigmoid', name='dense1')(model_SA)\n",
        "    model_SA = tf.keras.layers.Dense(1, activation='sigmoid', name='output_layer')(model_SA)\n",
        "\n",
        "    #  confidence part :\n",
        "    confidence_input = tf.keras.layers.Input(shape = [1], name = 'conf_val')\n",
        "\n",
        "    # multiplier output de model_SA par la valeur de confiance correspondant\n",
        "    model_final_de_sentiment = tf.keras.layers.Multiply()([confidence_input, model_SA])\n",
        "\n",
        "\n",
        "    model_final_de_sentiment = tf.keras.Model(inputs=[text_input,confidence_input], outputs=[ model_final_de_sentiment])\n",
        "    return model_final_de_sentiment\n"
      ],
      "metadata": {
        "id": "p_J6i3tCNNnP"
      },
      "execution_count": null,
      "outputs": []
    },
    {
      "cell_type": "markdown",
      "source": [
        "# ***model_SA (lstm_cnn)***\n",
        "\n",
        "\n"
      ],
      "metadata": {
        "id": "ruX_VgRhMtdS"
      }
    },
    {
      "cell_type": "code",
      "source": [
        "def build_sent_model(units , droup_val):\n",
        "    # definir les inputs de notre model\n",
        "    text_input = tf.keras.layers.Input(shape=(), dtype=tf.string, name=\"review\")\n",
        "    # le model pre-entrainer de bert\n",
        "    preprocessed_text = bert_preprocess(text_input)\n",
        "    outputs = bert_encoder(preprocessed_text)\n",
        "\n",
        "    # output contient the embedding of rveiew  1 : pooled_output est un tensor de dimension(batch ,768 ) contient la representation de review complet\n",
        "    #                                          2  : sequence_output est un tensor de dimension(batch , 128 ,768) tel que 128 represtent les mot dans un review and 768 c'est la representaion d'un mot\n",
        "\n",
        "    model_SA = tf.keras.layers.LSTM(units ,\n",
        "                            input_shape=(1,128,768),\n",
        "                            return_sequences = True ,\n",
        "                            kernel_regularizer = tf.keras.regularizers.L1L2(l1=1e-3, l2=1e-3),\n",
        "                            name='lstm1')(outputs['sequence_output'])\n",
        "    model_SA = tf.keras.layers.Conv1D(64,3,activation=\"relu\",padding=\"valid\")(model_SA)\n",
        "    model_SA = tf.keras.layers.GlobalMaxPooling1D()(model_SA)\n",
        "    model_SA = tf.keras.layers.Dropout(droup_val)(model_SA)\n",
        "    model_SA = tf.keras.layers.Flatten()(model_SA)\n",
        "    # l = tf.keras.layers.Dense(32, activation='relu', name='dense2')(l)\n",
        "    model_SA = tf.keras.layers.Dense(120, activation='tanh', name='dense1')(model_SA)\n",
        "    model_SA = tf.keras.layers.Dense(16, activation='sigmoid', name='dense2')(model_SA)\n",
        "    model_SA = tf.keras.layers.Dense(1, activation='sigmoid', name='output_layer')(model_SA)\n",
        "\n",
        "    #  confidence part :\n",
        "    confidence_input = tf.keras.layers.Input(shape = [1], name = 'conf_val')\n",
        "\n",
        "    # multiplier output de model_SA par la valeur de confiance correspondant\n",
        "    model_final_de_sentiment = tf.keras.layers.Multiply()([confidence_input, model_SA])\n",
        "\n",
        "\n",
        "    model_final_de_sentiment = tf.keras.Model(inputs=[text_input,confidence_input], outputs=[ model_final_de_sentiment])\n",
        "    return model_final_de_sentiment\n"
      ],
      "metadata": {
        "id": "xtGVoPs7NOIN"
      },
      "execution_count": null,
      "outputs": []
    },
    {
      "cell_type": "markdown",
      "source": [
        "# **model SCARS building**"
      ],
      "metadata": {
        "id": "wfk6XkgfES27"
      }
    },
    {
      "cell_type": "code",
      "source": [
        "def build_SCARS_model(emb_size_hmlp, emb_size_gmf, units , droup_val , predictive_factors, num_layers):\n",
        "  NHF                      = build_NHF_model(emb_size_hmlp, emb_size_gmf, predictive_factors, num_layers)\n",
        "  model_final_de_sentiment = build_sent_model(units , droup_val)\n",
        "  concat_SCARS             = concatenate([NHF.output , model_final_de_sentiment.output])\n",
        "  SCARS_output             = Dense(1, activation='linear', name='SCARS')(concat_SCARS)\n",
        "  SCARS_model = Model(inputs=[NHF.inputs, model_final_de_sentiment.inputs],outputs=SCARS_output)\n",
        "  return SCARS_model"
      ],
      "metadata": {
        "id": "gmElu2J4KCyL"
      },
      "execution_count": null,
      "outputs": []
    },
    {
      "cell_type": "markdown",
      "source": [
        "# **entrainement du model**\n"
      ],
      "metadata": {
        "id": "jQ-BRAE7Ji6n"
      }
    },
    {
      "cell_type": "code",
      "source": [
        "train_userID = X_train['user_id']\n",
        "train_itemID = X_train['item_id']"
      ],
      "metadata": {
        "id": "AzQRWF9Xv0_x"
      },
      "execution_count": null,
      "outputs": []
    },
    {
      "cell_type": "code",
      "source": [
        "train_userDATA = X_train[['fans','average_stars','friends','vote_funny','useful','vote_cool','hot','more',\n",
        "        'profile','cute','list','note','plain',\n",
        "        'cool','funny','writer','photos']]\n",
        "\n",
        "train_itemDATA = X_train[['Shopping', 'Books', 'Mags', 'Music & Video',\n",
        "                          'Bookstores', 'Baby Gear & Furniture', 'Home Decor',\n",
        "                          'Furniture Stores', 'Home & Garden', 'Auction Houses',\n",
        "                          'Active Life', 'Fashion', 'Toy Stores', 'Hobby Shops',\n",
        "                          'Comic Books', 'Department Stores', 'Grocery', 'Food',\n",
        "                          'Electronics', 'Jewelry', 'Outdoor Gear', 'Golf Lessons',\n",
        "                          'Sporting Goods', 'Golf Equipment', 'Golf', 'Fitness & Instruction',\n",
        "                          'Sports Wear', 'Flooring', 'Home Services', 'Kitchen & Bath',\n",
        "                          'Building Supplies', 'Interior Design', 'Hardware Stores', 'Appliances']]"
      ],
      "metadata": {
        "id": "O__girzYv1Ch"
      },
      "execution_count": null,
      "outputs": []
    },
    {
      "cell_type": "code",
      "source": [
        "dataset2 = dataset.copy()"
      ],
      "metadata": {
        "id": "rjcjV16qv1FJ"
      },
      "execution_count": null,
      "outputs": []
    },
    {
      "cell_type": "code",
      "source": [
        "from keras import metrics\n",
        "rmse = metrics.RootMeanSquaredError()\n",
        "precision = metrics.Precision()"
      ],
      "metadata": {
        "id": "z6T0zq80v1H0"
      },
      "execution_count": null,
      "outputs": []
    },
    {
      "cell_type": "code",
      "source": [
        "from tensorflow.keras.metrics import RootMeanSquaredError\n",
        "num_epochs=17\n",
        "callback = tf.keras.callbacks.EarlyStopping(patience = 3, restore_best_weights=True)\n",
        "LR=0.000001\n",
        "opt = tf.keras.optimizers.Adam(learning_rate=LR)\n",
        "num_emb_mlp=8\n",
        "num_emb_gmf=8\n",
        "PF=16\n",
        "MLPLAYERS= 6\n",
        "units = 32\n",
        "droup_val = 0.5\n",
        "batch = 32\n",
        "SCARS=build_SCARS_model(num_emb_mlp, num_emb_gmf, units , droup_val , PF, MLPLAYERS)"
      ],
      "metadata": {
        "id": "ktMN_sSpv1Kd"
      },
      "execution_count": null,
      "outputs": []
    },
    {
      "cell_type": "code",
      "source": [
        "import tensorflow.keras.backend as K\n",
        "\n",
        "def rmse(y_true, y_pred):\n",
        "    return K.sqrt(K.mean(K.square(y_pred - y_true)))"
      ],
      "metadata": {
        "id": "l7lDk65eLe3R"
      },
      "execution_count": null,
      "outputs": []
    },
    {
      "cell_type": "code",
      "source": [
        "SCARS.compile(optimizer='adam',\n",
        "              loss='mae',\n",
        "              metrics=[ rmse])"
      ],
      "metadata": {
        "id": "4rwsloeC4fgZ"
      },
      "execution_count": null,
      "outputs": []
    },
    {
      "cell_type": "code",
      "source": [
        "history = SCARS.fit([[train_userID,train_userDATA,train_itemID,train_itemDATA],X_train['text'],X_train['valuer_conf']], y_train, batch_size = batch, epochs = num_epochs,validation_split=0.2,callbacks =[callback])\n"
      ],
      "metadata": {
        "id": "i72o5NiWv1NN",
        "colab": {
          "base_uri": "https://localhost:8080/",
          "height": 435
        },
        "outputId": "ea3fc6b7-2c01-4f65-9280-a57a12337d1b"
      },
      "execution_count": null,
      "outputs": [
        {
          "output_type": "stream",
          "name": "stdout",
          "text": [
            "Epoch 1/17\n"
          ]
        },
        {
          "output_type": "error",
          "ename": "KeyboardInterrupt",
          "evalue": "ignored",
          "traceback": [
            "\u001b[0;31m---------------------------------------------------------------------------\u001b[0m",
            "\u001b[0;31mKeyboardInterrupt\u001b[0m                         Traceback (most recent call last)",
            "\u001b[0;32m<ipython-input-29-56f01dd28d6d>\u001b[0m in \u001b[0;36m<cell line: 1>\u001b[0;34m()\u001b[0m\n\u001b[0;32m----> 1\u001b[0;31m \u001b[0mhistory\u001b[0m \u001b[0;34m=\u001b[0m \u001b[0mSCARS\u001b[0m\u001b[0;34m.\u001b[0m\u001b[0mfit\u001b[0m\u001b[0;34m(\u001b[0m\u001b[0;34m[\u001b[0m\u001b[0;34m[\u001b[0m\u001b[0mtrain_userID\u001b[0m\u001b[0;34m,\u001b[0m\u001b[0mtrain_userDATA\u001b[0m\u001b[0;34m,\u001b[0m\u001b[0mtrain_itemID\u001b[0m\u001b[0;34m,\u001b[0m\u001b[0mtrain_itemDATA\u001b[0m\u001b[0;34m]\u001b[0m\u001b[0;34m,\u001b[0m\u001b[0mX_train\u001b[0m\u001b[0;34m[\u001b[0m\u001b[0;34m'text'\u001b[0m\u001b[0;34m]\u001b[0m\u001b[0;34m,\u001b[0m\u001b[0mX_train\u001b[0m\u001b[0;34m[\u001b[0m\u001b[0;34m'valuer_conf'\u001b[0m\u001b[0;34m]\u001b[0m\u001b[0;34m]\u001b[0m\u001b[0;34m,\u001b[0m \u001b[0my_train\u001b[0m\u001b[0;34m,\u001b[0m \u001b[0mbatch_size\u001b[0m \u001b[0;34m=\u001b[0m \u001b[0mbatch\u001b[0m\u001b[0;34m,\u001b[0m \u001b[0mepochs\u001b[0m \u001b[0;34m=\u001b[0m \u001b[0mnum_epochs\u001b[0m\u001b[0;34m,\u001b[0m\u001b[0mvalidation_split\u001b[0m\u001b[0;34m=\u001b[0m\u001b[0;36m0.2\u001b[0m\u001b[0;34m,\u001b[0m\u001b[0mcallbacks\u001b[0m \u001b[0;34m=\u001b[0m\u001b[0;34m[\u001b[0m\u001b[0mcallback\u001b[0m\u001b[0;34m]\u001b[0m\u001b[0;34m)\u001b[0m\u001b[0;34m\u001b[0m\u001b[0;34m\u001b[0m\u001b[0m\n\u001b[0m",
            "\u001b[0;32m/usr/local/lib/python3.9/dist-packages/keras/utils/traceback_utils.py\u001b[0m in \u001b[0;36merror_handler\u001b[0;34m(*args, **kwargs)\u001b[0m\n\u001b[1;32m     63\u001b[0m         \u001b[0mfiltered_tb\u001b[0m \u001b[0;34m=\u001b[0m \u001b[0;32mNone\u001b[0m\u001b[0;34m\u001b[0m\u001b[0;34m\u001b[0m\u001b[0m\n\u001b[1;32m     64\u001b[0m         \u001b[0;32mtry\u001b[0m\u001b[0;34m:\u001b[0m\u001b[0;34m\u001b[0m\u001b[0;34m\u001b[0m\u001b[0m\n\u001b[0;32m---> 65\u001b[0;31m             \u001b[0;32mreturn\u001b[0m \u001b[0mfn\u001b[0m\u001b[0;34m(\u001b[0m\u001b[0;34m*\u001b[0m\u001b[0margs\u001b[0m\u001b[0;34m,\u001b[0m \u001b[0;34m**\u001b[0m\u001b[0mkwargs\u001b[0m\u001b[0;34m)\u001b[0m\u001b[0;34m\u001b[0m\u001b[0;34m\u001b[0m\u001b[0m\n\u001b[0m\u001b[1;32m     66\u001b[0m         \u001b[0;32mexcept\u001b[0m \u001b[0mException\u001b[0m \u001b[0;32mas\u001b[0m \u001b[0me\u001b[0m\u001b[0;34m:\u001b[0m\u001b[0;34m\u001b[0m\u001b[0;34m\u001b[0m\u001b[0m\n\u001b[1;32m     67\u001b[0m             \u001b[0mfiltered_tb\u001b[0m \u001b[0;34m=\u001b[0m \u001b[0m_process_traceback_frames\u001b[0m\u001b[0;34m(\u001b[0m\u001b[0me\u001b[0m\u001b[0;34m.\u001b[0m\u001b[0m__traceback__\u001b[0m\u001b[0;34m)\u001b[0m\u001b[0;34m\u001b[0m\u001b[0;34m\u001b[0m\u001b[0m\n",
            "\u001b[0;32m/usr/local/lib/python3.9/dist-packages/keras/engine/training.py\u001b[0m in \u001b[0;36mfit\u001b[0;34m(self, x, y, batch_size, epochs, verbose, callbacks, validation_split, validation_data, shuffle, class_weight, sample_weight, initial_epoch, steps_per_epoch, validation_steps, validation_batch_size, validation_freq, max_queue_size, workers, use_multiprocessing)\u001b[0m\n\u001b[1;32m   1683\u001b[0m                         ):\n\u001b[1;32m   1684\u001b[0m                             \u001b[0mcallbacks\u001b[0m\u001b[0;34m.\u001b[0m\u001b[0mon_train_batch_begin\u001b[0m\u001b[0;34m(\u001b[0m\u001b[0mstep\u001b[0m\u001b[0;34m)\u001b[0m\u001b[0;34m\u001b[0m\u001b[0;34m\u001b[0m\u001b[0m\n\u001b[0;32m-> 1685\u001b[0;31m                             \u001b[0mtmp_logs\u001b[0m \u001b[0;34m=\u001b[0m \u001b[0mself\u001b[0m\u001b[0;34m.\u001b[0m\u001b[0mtrain_function\u001b[0m\u001b[0;34m(\u001b[0m\u001b[0miterator\u001b[0m\u001b[0;34m)\u001b[0m\u001b[0;34m\u001b[0m\u001b[0;34m\u001b[0m\u001b[0m\n\u001b[0m\u001b[1;32m   1686\u001b[0m                             \u001b[0;32mif\u001b[0m \u001b[0mdata_handler\u001b[0m\u001b[0;34m.\u001b[0m\u001b[0mshould_sync\u001b[0m\u001b[0;34m:\u001b[0m\u001b[0;34m\u001b[0m\u001b[0;34m\u001b[0m\u001b[0m\n\u001b[1;32m   1687\u001b[0m                                 \u001b[0mcontext\u001b[0m\u001b[0;34m.\u001b[0m\u001b[0masync_wait\u001b[0m\u001b[0;34m(\u001b[0m\u001b[0;34m)\u001b[0m\u001b[0;34m\u001b[0m\u001b[0;34m\u001b[0m\u001b[0m\n",
            "\u001b[0;32m/usr/local/lib/python3.9/dist-packages/tensorflow/python/util/traceback_utils.py\u001b[0m in \u001b[0;36merror_handler\u001b[0;34m(*args, **kwargs)\u001b[0m\n\u001b[1;32m    148\u001b[0m     \u001b[0mfiltered_tb\u001b[0m \u001b[0;34m=\u001b[0m \u001b[0;32mNone\u001b[0m\u001b[0;34m\u001b[0m\u001b[0;34m\u001b[0m\u001b[0m\n\u001b[1;32m    149\u001b[0m     \u001b[0;32mtry\u001b[0m\u001b[0;34m:\u001b[0m\u001b[0;34m\u001b[0m\u001b[0;34m\u001b[0m\u001b[0m\n\u001b[0;32m--> 150\u001b[0;31m       \u001b[0;32mreturn\u001b[0m \u001b[0mfn\u001b[0m\u001b[0;34m(\u001b[0m\u001b[0;34m*\u001b[0m\u001b[0margs\u001b[0m\u001b[0;34m,\u001b[0m \u001b[0;34m**\u001b[0m\u001b[0mkwargs\u001b[0m\u001b[0;34m)\u001b[0m\u001b[0;34m\u001b[0m\u001b[0;34m\u001b[0m\u001b[0m\n\u001b[0m\u001b[1;32m    151\u001b[0m     \u001b[0;32mexcept\u001b[0m \u001b[0mException\u001b[0m \u001b[0;32mas\u001b[0m \u001b[0me\u001b[0m\u001b[0;34m:\u001b[0m\u001b[0;34m\u001b[0m\u001b[0;34m\u001b[0m\u001b[0m\n\u001b[1;32m    152\u001b[0m       \u001b[0mfiltered_tb\u001b[0m \u001b[0;34m=\u001b[0m \u001b[0m_process_traceback_frames\u001b[0m\u001b[0;34m(\u001b[0m\u001b[0me\u001b[0m\u001b[0;34m.\u001b[0m\u001b[0m__traceback__\u001b[0m\u001b[0;34m)\u001b[0m\u001b[0;34m\u001b[0m\u001b[0;34m\u001b[0m\u001b[0m\n",
            "\u001b[0;32m/usr/local/lib/python3.9/dist-packages/tensorflow/python/eager/polymorphic_function/polymorphic_function.py\u001b[0m in \u001b[0;36m__call__\u001b[0;34m(self, *args, **kwds)\u001b[0m\n\u001b[1;32m    892\u001b[0m \u001b[0;34m\u001b[0m\u001b[0m\n\u001b[1;32m    893\u001b[0m       \u001b[0;32mwith\u001b[0m \u001b[0mOptionalXlaContext\u001b[0m\u001b[0;34m(\u001b[0m\u001b[0mself\u001b[0m\u001b[0;34m.\u001b[0m\u001b[0m_jit_compile\u001b[0m\u001b[0;34m)\u001b[0m\u001b[0;34m:\u001b[0m\u001b[0;34m\u001b[0m\u001b[0;34m\u001b[0m\u001b[0m\n\u001b[0;32m--> 894\u001b[0;31m         \u001b[0mresult\u001b[0m \u001b[0;34m=\u001b[0m \u001b[0mself\u001b[0m\u001b[0;34m.\u001b[0m\u001b[0m_call\u001b[0m\u001b[0;34m(\u001b[0m\u001b[0;34m*\u001b[0m\u001b[0margs\u001b[0m\u001b[0;34m,\u001b[0m \u001b[0;34m**\u001b[0m\u001b[0mkwds\u001b[0m\u001b[0;34m)\u001b[0m\u001b[0;34m\u001b[0m\u001b[0;34m\u001b[0m\u001b[0m\n\u001b[0m\u001b[1;32m    895\u001b[0m \u001b[0;34m\u001b[0m\u001b[0m\n\u001b[1;32m    896\u001b[0m       \u001b[0mnew_tracing_count\u001b[0m \u001b[0;34m=\u001b[0m \u001b[0mself\u001b[0m\u001b[0;34m.\u001b[0m\u001b[0mexperimental_get_tracing_count\u001b[0m\u001b[0;34m(\u001b[0m\u001b[0;34m)\u001b[0m\u001b[0;34m\u001b[0m\u001b[0;34m\u001b[0m\u001b[0m\n",
            "\u001b[0;32m/usr/local/lib/python3.9/dist-packages/tensorflow/python/eager/polymorphic_function/polymorphic_function.py\u001b[0m in \u001b[0;36m_call\u001b[0;34m(self, *args, **kwds)\u001b[0m\n\u001b[1;32m    924\u001b[0m       \u001b[0;31m# In this case we have created variables on the first call, so we run the\u001b[0m\u001b[0;34m\u001b[0m\u001b[0;34m\u001b[0m\u001b[0m\n\u001b[1;32m    925\u001b[0m       \u001b[0;31m# defunned version which is guaranteed to never create variables.\u001b[0m\u001b[0;34m\u001b[0m\u001b[0;34m\u001b[0m\u001b[0m\n\u001b[0;32m--> 926\u001b[0;31m       \u001b[0;32mreturn\u001b[0m \u001b[0mself\u001b[0m\u001b[0;34m.\u001b[0m\u001b[0m_no_variable_creation_fn\u001b[0m\u001b[0;34m(\u001b[0m\u001b[0;34m*\u001b[0m\u001b[0margs\u001b[0m\u001b[0;34m,\u001b[0m \u001b[0;34m**\u001b[0m\u001b[0mkwds\u001b[0m\u001b[0;34m)\u001b[0m  \u001b[0;31m# pylint: disable=not-callable\u001b[0m\u001b[0;34m\u001b[0m\u001b[0;34m\u001b[0m\u001b[0m\n\u001b[0m\u001b[1;32m    927\u001b[0m     \u001b[0;32melif\u001b[0m \u001b[0mself\u001b[0m\u001b[0;34m.\u001b[0m\u001b[0m_variable_creation_fn\u001b[0m \u001b[0;32mis\u001b[0m \u001b[0;32mnot\u001b[0m \u001b[0;32mNone\u001b[0m\u001b[0;34m:\u001b[0m\u001b[0;34m\u001b[0m\u001b[0;34m\u001b[0m\u001b[0m\n\u001b[1;32m    928\u001b[0m       \u001b[0;31m# Release the lock early so that multiple threads can perform the call\u001b[0m\u001b[0;34m\u001b[0m\u001b[0;34m\u001b[0m\u001b[0m\n",
            "\u001b[0;32m/usr/local/lib/python3.9/dist-packages/tensorflow/python/eager/polymorphic_function/tracing_compiler.py\u001b[0m in \u001b[0;36m__call__\u001b[0;34m(self, *args, **kwargs)\u001b[0m\n\u001b[1;32m    141\u001b[0m       (concrete_function,\n\u001b[1;32m    142\u001b[0m        filtered_flat_args) = self._maybe_define_function(args, kwargs)\n\u001b[0;32m--> 143\u001b[0;31m     return concrete_function._call_flat(\n\u001b[0m\u001b[1;32m    144\u001b[0m         filtered_flat_args, captured_inputs=concrete_function.captured_inputs)  # pylint: disable=protected-access\n\u001b[1;32m    145\u001b[0m \u001b[0;34m\u001b[0m\u001b[0m\n",
            "\u001b[0;32m/usr/local/lib/python3.9/dist-packages/tensorflow/python/eager/polymorphic_function/monomorphic_function.py\u001b[0m in \u001b[0;36m_call_flat\u001b[0;34m(self, args, captured_inputs, cancellation_manager)\u001b[0m\n\u001b[1;32m   1755\u001b[0m         and executing_eagerly):\n\u001b[1;32m   1756\u001b[0m       \u001b[0;31m# No tape is watching; skip to running the function.\u001b[0m\u001b[0;34m\u001b[0m\u001b[0;34m\u001b[0m\u001b[0m\n\u001b[0;32m-> 1757\u001b[0;31m       return self._build_call_outputs(self._inference_function.call(\n\u001b[0m\u001b[1;32m   1758\u001b[0m           ctx, args, cancellation_manager=cancellation_manager))\n\u001b[1;32m   1759\u001b[0m     forward_backward = self._select_forward_and_backward_functions(\n",
            "\u001b[0;32m/usr/local/lib/python3.9/dist-packages/tensorflow/python/eager/polymorphic_function/monomorphic_function.py\u001b[0m in \u001b[0;36mcall\u001b[0;34m(self, ctx, args, cancellation_manager)\u001b[0m\n\u001b[1;32m    379\u001b[0m       \u001b[0;32mwith\u001b[0m \u001b[0m_InterpolateFunctionError\u001b[0m\u001b[0;34m(\u001b[0m\u001b[0mself\u001b[0m\u001b[0;34m)\u001b[0m\u001b[0;34m:\u001b[0m\u001b[0;34m\u001b[0m\u001b[0;34m\u001b[0m\u001b[0m\n\u001b[1;32m    380\u001b[0m         \u001b[0;32mif\u001b[0m \u001b[0mcancellation_manager\u001b[0m \u001b[0;32mis\u001b[0m \u001b[0;32mNone\u001b[0m\u001b[0;34m:\u001b[0m\u001b[0;34m\u001b[0m\u001b[0;34m\u001b[0m\u001b[0m\n\u001b[0;32m--> 381\u001b[0;31m           outputs = execute.execute(\n\u001b[0m\u001b[1;32m    382\u001b[0m               \u001b[0mstr\u001b[0m\u001b[0;34m(\u001b[0m\u001b[0mself\u001b[0m\u001b[0;34m.\u001b[0m\u001b[0msignature\u001b[0m\u001b[0;34m.\u001b[0m\u001b[0mname\u001b[0m\u001b[0;34m)\u001b[0m\u001b[0;34m,\u001b[0m\u001b[0;34m\u001b[0m\u001b[0;34m\u001b[0m\u001b[0m\n\u001b[1;32m    383\u001b[0m               \u001b[0mnum_outputs\u001b[0m\u001b[0;34m=\u001b[0m\u001b[0mself\u001b[0m\u001b[0;34m.\u001b[0m\u001b[0m_num_outputs\u001b[0m\u001b[0;34m,\u001b[0m\u001b[0;34m\u001b[0m\u001b[0;34m\u001b[0m\u001b[0m\n",
            "\u001b[0;32m/usr/local/lib/python3.9/dist-packages/tensorflow/python/eager/execute.py\u001b[0m in \u001b[0;36mquick_execute\u001b[0;34m(op_name, num_outputs, inputs, attrs, ctx, name)\u001b[0m\n\u001b[1;32m     50\u001b[0m   \u001b[0;32mtry\u001b[0m\u001b[0;34m:\u001b[0m\u001b[0;34m\u001b[0m\u001b[0;34m\u001b[0m\u001b[0m\n\u001b[1;32m     51\u001b[0m     \u001b[0mctx\u001b[0m\u001b[0;34m.\u001b[0m\u001b[0mensure_initialized\u001b[0m\u001b[0;34m(\u001b[0m\u001b[0;34m)\u001b[0m\u001b[0;34m\u001b[0m\u001b[0;34m\u001b[0m\u001b[0m\n\u001b[0;32m---> 52\u001b[0;31m     tensors = pywrap_tfe.TFE_Py_Execute(ctx._handle, device_name, op_name,\n\u001b[0m\u001b[1;32m     53\u001b[0m                                         inputs, attrs, num_outputs)\n\u001b[1;32m     54\u001b[0m   \u001b[0;32mexcept\u001b[0m \u001b[0mcore\u001b[0m\u001b[0;34m.\u001b[0m\u001b[0m_NotOkStatusException\u001b[0m \u001b[0;32mas\u001b[0m \u001b[0me\u001b[0m\u001b[0;34m:\u001b[0m\u001b[0;34m\u001b[0m\u001b[0;34m\u001b[0m\u001b[0m\n",
            "\u001b[0;31mKeyboardInterrupt\u001b[0m: "
          ]
        }
      ]
    },
    {
      "cell_type": "code",
      "source": [
        "from tensorflow.python.ops.array_ops import placeholder_with_default_eager_fallback\n",
        "import matplotlib.pyplot as plt\n",
        "loss_curve = history.history[\"loss\"]\n",
        "rmse_curve = history.history[\"rmse\"]\n",
        "#mae_curve  = history.history[\"mae\"]\n",
        "\n",
        "\n",
        "loss_val   = history.history[\"val_loss\"]\n",
        "rmse_val   = history.history[\"val_rmse\"]\n",
        "#mae_val    = history.history[\"val_mae\"]\n",
        "\n",
        "\n",
        "# ploter loss function\n",
        "def ploter (title , curve , validation):\n",
        "  plt.plot(curve , label = \"train\")\n",
        "  plt.plot(validation , label = \"validation\")\n",
        "  # plt.ylim(0,1)\n",
        "  plt.legend(loc='upper left')\n",
        "  plt.title(title)\n",
        "  plt.show()\n",
        "\n",
        "ploter ('loss' , loss_curve , loss_val)\n",
        "ploter ('rmse' , rmse_curve , rmse_val)\n",
        "#ploter ('mae' , mae_curve , mae_val)\n"
      ],
      "metadata": {
        "id": "_Dj0danNv1P-",
        "colab": {
          "base_uri": "https://localhost:8080/",
          "height": 887
        },
        "outputId": "323c4d6f-69c5-4f97-dd95-c3eaeadafc7e"
      },
      "execution_count": null,
      "outputs": [
        {
          "output_type": "display_data",
          "data": {
            "text/plain": [
              "<Figure size 640x480 with 1 Axes>"
            ],
            "image/png": "[encoded data removed]"
          },
          "metadata": {}
        },
        {
          "output_type": "display_data",
          "data": {
            "text/plain": [
              "<Figure size 640x480 with 1 Axes>"
            ],
            "image/png": "[encoded data removed]"
          },
          "metadata": {}
        }
      ]
    },
    {
      "cell_type": "markdown",
      "source": [
        "# **evaluation de model**"
      ],
      "metadata": {
        "id": "B2RYCc71ebTl"
      }
    },
    {
      "cell_type": "code",
      "source": [
        "test_userDATA = X_test[['fans','average_stars','friends','vote_funny','useful','vote_cool','hot','more',\n",
        "        'profile','cute','list','note','plain',\n",
        "        'cool','funny','writer','photos']]\n",
        "\n",
        "test_itemDATA = X_test[['Shopping', 'Books', 'Mags', 'Music & Video',\n",
        "                          'Bookstores', 'Baby Gear & Furniture', 'Home Decor',\n",
        "                          'Furniture Stores', 'Home & Garden', 'Auction Houses',\n",
        "                          'Active Life', 'Fashion', 'Toy Stores', 'Hobby Shops',\n",
        "                          'Comic Books', 'Department Stores', 'Grocery', 'Food',\n",
        "                          'Electronics', 'Jewelry', 'Outdoor Gear', 'Golf Lessons',\n",
        "                          'Sporting Goods', 'Golf Equipment', 'Golf', 'Fitness & Instruction',\n",
        "                          'Sports Wear', 'Flooring', 'Home Services', 'Kitchen & Bath',\n",
        "                          'Building Supplies', 'Interior Design', 'Hardware Stores', 'Appliances']]"
      ],
      "metadata": {
        "id": "7XJ0d4VUeNAQ"
      },
      "execution_count": null,
      "outputs": []
    },
    {
      "cell_type": "code",
      "source": [
        "test_userID = X_test['user_id']\n",
        "test_itemID = X_test['item_id']"
      ],
      "metadata": {
        "id": "bi4Qjl0Lv1Xu"
      },
      "execution_count": null,
      "outputs": []
    },
    {
      "cell_type": "code",
      "source": [
        "scores= SCARS.evaluate([[test_userID,test_userDATA,test_itemID,test_itemDATA],X_test['text'] , X_test['valuer_conf']],y_test,verbose=0)"
      ],
      "metadata": {
        "id": "tipGf_gDv1aE"
      },
      "execution_count": null,
      "outputs": []
    },
    {
      "cell_type": "code",
      "source": [
        "scores[1]"
      ],
      "metadata": {
        "colab": {
          "base_uri": "https://localhost:8080/"
        },
        "id": "uyF3vETyv1cb",
        "outputId": "17745fea-ccf7-43e4-d8ad-5fc348850760"
      },
      "execution_count": null,
      "outputs": [
        {
          "output_type": "execute_result",
          "data": {
            "text/plain": [
              "0.7800922989845276"
            ]
          },
          "metadata": {},
          "execution_count": 32
        }
      ]
    },
    {
      "cell_type": "code",
      "source": [],
      "metadata": {
        "id": "Ezmabr7Mhw5e"
      },
      "execution_count": null,
      "outputs": []
    },
    {
      "cell_type": "markdown",
      "source": [
        "# **#####**"
      ],
      "metadata": {
        "id": "EzEWOvyULpL6"
      }
    },
    {
      "cell_type": "code",
      "source": [
        "#Create model with hybridation (user and item id AND user and item DATA)\n",
        "def build_SCARS_model(emb_size_hmlp, emb_size_gmf, predictive_factors, num_layers):\n",
        "    print('SCARS MODEL ')\n",
        "    #NHF part\n",
        "    NHF = build_NHF_model(emb_size_hmlp, emb_size_gmf, predictive_factors, num_layers)\n",
        "    print(NHF.output )\n",
        "    print(NHF.input )\n",
        "\n",
        "    #model of sentiment analysis part\n",
        "\n",
        "    # definir les inputs de notre model\n",
        "    text_input = tf.keras.layers.Input(shape=(), dtype=tf.string, name=\"review\")\n",
        "    # le model pre-entrainer de bert\n",
        "    preprocessed_text = bert_preprocess(text_input)\n",
        "    outputs = bert_encoder(preprocessed_text)\n",
        "\n",
        "    # output contient the embedding of rveiew  1 : pooled_output est un tensor de dimension(batch ,768 ) contient la representation de review complet\n",
        "    #                                          2  : sequence_output est un tensor de dimension(batch , 128 ,768) tel que 128 represtent les mot dans un review and 768 c'est la representaion d'un mot\n",
        "\n",
        "    model_SA = tf.keras.layers.Bidirectional(tf.keras.layers.LSTM(64 ,\n",
        "                            input_shape=(1,128,768),\n",
        "                            return_sequences = True ,\n",
        "                            kernel_regularizer = tf.keras.regularizers.L1L2(l1=1e-3, l2=1e-3),\n",
        "                            name='lstm1'))(outputs['sequence_output'])\n",
        "    model_SA = tf.keras.layers.SimpleRNN(32 ,\n",
        "                            return_sequences = True ,\n",
        "                            kernel_regularizer = tf.keras.regularizers.L1L2(l1=1e-3, l2=1e-3),\n",
        "                            name='lstm1')(model_SA)\n",
        "    model_SA = tf.keras.layers.Dropout(0.5)(model_SA)\n",
        "    model_SA = tf.keras.layers.Flatten()(model_SA)\n",
        "    model_SA = tf.keras.layers.Dense(120, activation='relu', name='dense1')(model_SA)\n",
        "    model_SA = tf.keras.layers.Dense(1, activation='sigmoid', name='output_layer')(model_SA)\n",
        "\n",
        "    #  confidence part :\n",
        "    confidence_input = tf.keras.layers.Input(shape = [1], name = 'conf_val')\n",
        "    # confidence_model = tf.keras.layers.Dense(1, activation ='sigmoid')(confidence_input)\n",
        "\n",
        "    # multiplier output de model_SA par la valeur de confiance correspondant\n",
        "    model_final_de_sentiment = tf.keras.layers.Multiply()([confidence_input , model_SA])\n",
        "\n",
        "\n",
        "    model_final_de_sentiment = tf.keras.Model(inputs=[text_input,confidence_input], outputs=[ model_final_de_sentiment])\n",
        "    print(model_final_de_sentiment.output)\n",
        "    print(model_final_de_sentiment.input)\n",
        "\n",
        "    #  concatener NHF avec le model de sentiment\n",
        "    concat_SCARS = concatenate([NHF.output , model_final_de_sentiment.output])\n",
        "\n",
        "\n",
        "    out = Dense(1, activation='linear', name='SCARS')(concat_SCARS)\n",
        "\n",
        "    SCARS_model = Model(inputs=[NHF.inputs, model_final_de_sentiment.inputs],outputs=out)\n",
        "\n",
        "    return SCARS_model"
      ],
      "metadata": {
        "id": "M4Khfm5Bv09G"
      },
      "execution_count": null,
      "outputs": []
    }
  ]
}